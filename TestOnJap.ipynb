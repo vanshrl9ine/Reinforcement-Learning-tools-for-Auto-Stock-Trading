{
 "cells": [
  {
   "cell_type": "markdown",
   "id": "29853799-20a5-4196-b857-879d781aeb1b",
   "metadata": {},
   "source": [
    "# **_Reinforcement Learning tools for Auto-Stock Trading_**  "
   ]
  },
  {
   "cell_type": "markdown",
   "id": "7fd62e2e-2265-46d6-b8c6-d00b3214467f",
   "metadata": {},
   "source": [
    "### 1. Importing Necessary Libraries"
   ]
  },
  {
   "cell_type": "code",
   "execution_count": 1,
   "id": "5fc5a494-5c1b-4cc0-83e5-efb4c18a4fee",
   "metadata": {},
   "outputs": [],
   "source": [
    "#Basic Data Science Libraries\n",
    "import pandas as pd\n",
    "import numpy as np\n",
    "import matplotlib\n",
    "import matplotlib.pyplot as plt\n",
    "matplotlib.use('Agg')\n",
    "%matplotlib inline"
   ]
  },
  {
   "cell_type": "code",
   "execution_count": 2,
   "id": "a144855a-0f1b-4e2c-80a2-b2331979704f",
   "metadata": {},
   "outputs": [
    {
     "name": "stderr",
     "output_type": "stream",
     "text": [
      "C:\\Users\\Vansh\\anaconda3\\envs\\tf_gpu\\lib\\site-packages\\exchange_calendars\\exchange_calendar.py:2347: FutureWarning: 'T' is deprecated and will be removed in a future version. Please use 'min' instead of 'T'.\n",
      "  align: pd.Timedelta | str = pd.Timedelta(1, \"T\"),\n"
     ]
    }
   ],
   "source": [
    "#Finrl utilities\n",
    "from finrl import config\n",
    "from finrl.meta.preprocessor.yahoodownloader import YahooDownloader\n",
    "from finrl.meta.preprocessor.preprocessors import data_split\n",
    "from finrl.agents.stablebaselines3.models import DRLAgent"
   ]
  },
  {
   "cell_type": "code",
   "execution_count": 3,
   "id": "d37161da-a220-490f-9b67-6acfe3b850e2",
   "metadata": {},
   "outputs": [],
   "source": [
    "#Processing Utilities\n",
    "import datetime\n",
    "import itertools\n"
   ]
  },
  {
   "cell_type": "code",
   "execution_count": 4,
   "id": "16c54ce5-396f-42fb-a582-bc80abd87822",
   "metadata": {},
   "outputs": [],
   "source": [
    "#Make finrl imports accessible\n",
    "import sys\n",
    "sys.path.append(\"../FinRL-Library\")"
   ]
  },
  {
   "cell_type": "code",
   "execution_count": 5,
   "id": "5b012c6e-f473-4110-852f-de9cee7ad206",
   "metadata": {},
   "outputs": [],
   "source": [
    "#Setup libraries\n",
    "from __future__ import annotations\n",
    "#postponed evaluation of type annotations and evaluation available at runtime"
   ]
  },
  {
   "cell_type": "code",
   "execution_count": 6,
   "id": "66c72d02-9a7c-43fe-a432-6921f1d86a80",
   "metadata": {},
   "outputs": [],
   "source": [
    "#other imports will be used wherever applicable"
   ]
  },
  {
   "cell_type": "code",
   "execution_count": 7,
   "id": "1dfed73f-b71d-450e-8532-471fc33abde8",
   "metadata": {},
   "outputs": [],
   "source": [
    "# symbols = [\n",
    "#     \"TM\", \"MUFG\", \"8035.T\", \"SONY\", \"6861.T\", \"NPPXF\", \"8058.T\", \"9983.T\", \"6501.T\", \n",
    "#     \"9984.T\", \"4063.T\", \"SMFG\", \"8031.T\", \"6098.T\", \"8001.T\", \"8766.T\", \"9433.T\", \"HMC\", \n",
    "#     \"7974.T\", \"4519.T\", \"4568.T\", \"6902.T\", \"4661.T\", \"MFG\", \"2914.T\", \"TAK\", \"7741.T\", \n",
    "#     \"7182.T\", \"6146.T\", \"6367.T\"\n",
    "# ]\n"
   ]
  },
  {
   "cell_type": "code",
   "execution_count": 8,
   "id": "f09ec60f-d1f4-4b21-97a6-60fe0c7cc658",
   "metadata": {},
   "outputs": [],
   "source": [
    "#Globally accesible training and trading s/e\n",
    "TRAIN_START_DATE = '2010-01-01'\n",
    "TRAIN_END_DATE = '2020-07-01'\n",
    "TRADE_START_DATE = '2020-07-01'\n",
    "TRADE_END_DATE = '2023-05-01'"
   ]
  },
  {
   "cell_type": "code",
   "execution_count": 9,
   "id": "84b69e87-3fcf-4fed-9b4a-7f33f48bb58e",
   "metadata": {},
   "outputs": [],
   "source": [
    "\n",
    "# df_raw = YahooDownloader(start_date = TRAIN_START_DATE,\n",
    "#                                 end_date = TRADE_END_DATE,\n",
    "#                                 ticker_list = symbols).fetch_data()"
   ]
  },
  {
   "cell_type": "code",
   "execution_count": 10,
   "id": "6b08b137-3e4b-4252-a7c8-9fe10f476b7a",
   "metadata": {},
   "outputs": [],
   "source": [
    "# df_raw.to_csv(\"Japanese30.csv\")"
   ]
  },
  {
   "cell_type": "markdown",
   "id": "95ecee02-4dd1-485e-8d14-f77c820c7b47",
   "metadata": {},
   "source": [
    "### 2. Loading the Data"
   ]
  },
  {
   "cell_type": "code",
   "execution_count": 11,
   "id": "47b33b42-1022-48ba-9bb4-724b1fa70c7a",
   "metadata": {},
   "outputs": [],
   "source": [
    "df_raw=pd.read_csv('datasets/Japanese30.csv')"
   ]
  },
  {
   "cell_type": "code",
   "execution_count": 12,
   "id": "85c5e44b-1124-4426-87de-925b8c8fff98",
   "metadata": {},
   "outputs": [
    {
     "data": {
      "text/html": [
       "<div>\n",
       "<style scoped>\n",
       "    .dataframe tbody tr th:only-of-type {\n",
       "        vertical-align: middle;\n",
       "    }\n",
       "\n",
       "    .dataframe tbody tr th {\n",
       "        vertical-align: top;\n",
       "    }\n",
       "\n",
       "    .dataframe thead th {\n",
       "        text-align: right;\n",
       "    }\n",
       "</style>\n",
       "<table border=\"1\" class=\"dataframe\">\n",
       "  <thead>\n",
       "    <tr style=\"text-align: right;\">\n",
       "      <th></th>\n",
       "      <th>Unnamed: 0</th>\n",
       "      <th>date</th>\n",
       "      <th>open</th>\n",
       "      <th>high</th>\n",
       "      <th>low</th>\n",
       "      <th>close</th>\n",
       "      <th>volume</th>\n",
       "      <th>tic</th>\n",
       "      <th>day</th>\n",
       "    </tr>\n",
       "  </thead>\n",
       "  <tbody>\n",
       "    <tr>\n",
       "      <th>0</th>\n",
       "      <td>0</td>\n",
       "      <td>2010-01-04</td>\n",
       "      <td>1600.000000</td>\n",
       "      <td>1627.500000</td>\n",
       "      <td>1582.500000</td>\n",
       "      <td>880.439453</td>\n",
       "      <td>409640000</td>\n",
       "      <td>2914.T</td>\n",
       "      <td>0</td>\n",
       "    </tr>\n",
       "    <tr>\n",
       "      <th>1</th>\n",
       "      <td>1</td>\n",
       "      <td>2010-01-04</td>\n",
       "      <td>1060.000000</td>\n",
       "      <td>1068.000000</td>\n",
       "      <td>1058.000000</td>\n",
       "      <td>810.654602</td>\n",
       "      <td>4489000</td>\n",
       "      <td>4063.T</td>\n",
       "      <td>0</td>\n",
       "    </tr>\n",
       "    <tr>\n",
       "      <th>2</th>\n",
       "      <td>2</td>\n",
       "      <td>2010-01-04</td>\n",
       "      <td>580.666687</td>\n",
       "      <td>585.666687</td>\n",
       "      <td>578.333313</td>\n",
       "      <td>452.178345</td>\n",
       "      <td>1368900</td>\n",
       "      <td>4519.T</td>\n",
       "      <td>0</td>\n",
       "    </tr>\n",
       "    <tr>\n",
       "      <th>3</th>\n",
       "      <td>3</td>\n",
       "      <td>2010-01-04</td>\n",
       "      <td>650.000000</td>\n",
       "      <td>655.000000</td>\n",
       "      <td>649.333313</td>\n",
       "      <td>465.818481</td>\n",
       "      <td>3575700</td>\n",
       "      <td>4568.T</td>\n",
       "      <td>0</td>\n",
       "    </tr>\n",
       "    <tr>\n",
       "      <th>4</th>\n",
       "      <td>4</td>\n",
       "      <td>2010-01-04</td>\n",
       "      <td>308.000000</td>\n",
       "      <td>308.000000</td>\n",
       "      <td>306.500000</td>\n",
       "      <td>284.070923</td>\n",
       "      <td>756000</td>\n",
       "      <td>4661.T</td>\n",
       "      <td>0</td>\n",
       "    </tr>\n",
       "  </tbody>\n",
       "</table>\n",
       "</div>"
      ],
      "text/plain": [
       "   Unnamed: 0        date         open         high          low       close  \\\n",
       "0           0  2010-01-04  1600.000000  1627.500000  1582.500000  880.439453   \n",
       "1           1  2010-01-04  1060.000000  1068.000000  1058.000000  810.654602   \n",
       "2           2  2010-01-04   580.666687   585.666687   578.333313  452.178345   \n",
       "3           3  2010-01-04   650.000000   655.000000   649.333313  465.818481   \n",
       "4           4  2010-01-04   308.000000   308.000000   306.500000  284.070923   \n",
       "\n",
       "      volume     tic  day  \n",
       "0  409640000  2914.T    0  \n",
       "1    4489000  4063.T    0  \n",
       "2    1368900  4519.T    0  \n",
       "3    3575700  4568.T    0  \n",
       "4     756000  4661.T    0  "
      ]
     },
     "execution_count": 12,
     "metadata": {},
     "output_type": "execute_result"
    }
   ],
   "source": [
    "df_raw.head()"
   ]
  },
  {
   "cell_type": "code",
   "execution_count": 13,
   "id": "19eecd6d-8e85-4f7e-a6b3-542e23cab110",
   "metadata": {
    "scrolled": true
   },
   "outputs": [
    {
     "name": "stdout",
     "output_type": "stream",
     "text": [
      "<class 'pandas.core.frame.DataFrame'>\n",
      "RangeIndex: 96379 entries, 0 to 96378\n",
      "Data columns (total 9 columns):\n",
      " #   Column      Non-Null Count  Dtype  \n",
      "---  ------      --------------  -----  \n",
      " 0   Unnamed: 0  96379 non-null  int64  \n",
      " 1   date        96379 non-null  object \n",
      " 2   open        96379 non-null  float64\n",
      " 3   high        96379 non-null  float64\n",
      " 4   low         96379 non-null  float64\n",
      " 5   close       96379 non-null  float64\n",
      " 6   volume      96379 non-null  int64  \n",
      " 7   tic         96379 non-null  object \n",
      " 8   day         96379 non-null  int64  \n",
      "dtypes: float64(4), int64(3), object(2)\n",
      "memory usage: 6.6+ MB\n"
     ]
    }
   ],
   "source": [
    "df_raw.info()"
   ]
  },
  {
   "cell_type": "markdown",
   "id": "ff3d14f0-5205-4096-a6e5-19151dc53ebc",
   "metadata": {},
   "source": [
    "### 3. Preprocessing the data"
   ]
  },
  {
   "cell_type": "code",
   "execution_count": 14,
   "id": "febd40c0-9d74-44a1-9fcf-a3b6f7b7bbd3",
   "metadata": {},
   "outputs": [
    {
     "name": "stdout",
     "output_type": "stream",
     "text": [
      "Successfully added technical indicators\n"
     ]
    },
    {
     "name": "stderr",
     "output_type": "stream",
     "text": [
      "C:\\Users\\Vansh\\Downloads\\BTP-2-4-24\\dataprocessing.py:236: FutureWarning: The default fill_method='pad' in DataFrame.pct_change is deprecated and will be removed in a future version. Either fill in any non-leading NA values prior to calling pct_change or specify 'fill_method=None' to not fill NA values.\n",
      "  df_price_pivot = df_price_pivot.pct_change()\n"
     ]
    },
    {
     "name": "stdout",
     "output_type": "stream",
     "text": [
      "Successfully added turbulence index\n"
     ]
    }
   ],
   "source": [
    "from finrl.config import INDICATORS\n",
    "from dataprocessing import FeatureEngineer, load_dataset, data_split, convert_to_datetime\n",
    "\n",
    "fe = FeatureEngineer(use_technical_indicator=True,\n",
    "                      tech_indicator_list = INDICATORS,\n",
    "                      use_vix=False,\n",
    "                      use_turbulence=True,\n",
    "                      user_defined_feature = False)\n",
    "\n",
    "processed = fe.preprocess_data(df_raw)"
   ]
  },
  {
   "cell_type": "code",
   "execution_count": 15,
   "id": "083563ce-5668-49e3-abed-4c42a4bfa9c4",
   "metadata": {},
   "outputs": [
    {
     "data": {
      "text/html": [
       "<div>\n",
       "<style scoped>\n",
       "    .dataframe tbody tr th:only-of-type {\n",
       "        vertical-align: middle;\n",
       "    }\n",
       "\n",
       "    .dataframe tbody tr th {\n",
       "        vertical-align: top;\n",
       "    }\n",
       "\n",
       "    .dataframe thead th {\n",
       "        text-align: right;\n",
       "    }\n",
       "</style>\n",
       "<table border=\"1\" class=\"dataframe\">\n",
       "  <thead>\n",
       "    <tr style=\"text-align: right;\">\n",
       "      <th></th>\n",
       "      <th>Unnamed: 0</th>\n",
       "      <th>date</th>\n",
       "      <th>open</th>\n",
       "      <th>high</th>\n",
       "      <th>low</th>\n",
       "      <th>close</th>\n",
       "      <th>volume</th>\n",
       "      <th>tic</th>\n",
       "      <th>day</th>\n",
       "      <th>macd</th>\n",
       "      <th>boll_ub</th>\n",
       "      <th>boll_lb</th>\n",
       "      <th>rsi_30</th>\n",
       "      <th>cci_30</th>\n",
       "      <th>dx_30</th>\n",
       "      <th>close_30_sma</th>\n",
       "      <th>close_60_sma</th>\n",
       "      <th>turbulence</th>\n",
       "    </tr>\n",
       "  </thead>\n",
       "  <tbody>\n",
       "    <tr>\n",
       "      <th>0</th>\n",
       "      <td>0</td>\n",
       "      <td>2010-01-04</td>\n",
       "      <td>1600.000000</td>\n",
       "      <td>1627.500000</td>\n",
       "      <td>1582.500000</td>\n",
       "      <td>880.439453</td>\n",
       "      <td>409640000</td>\n",
       "      <td>2914.T</td>\n",
       "      <td>0</td>\n",
       "      <td>0.000000</td>\n",
       "      <td>886.669151</td>\n",
       "      <td>867.395485</td>\n",
       "      <td>0.000000</td>\n",
       "      <td>-66.666667</td>\n",
       "      <td>100.000000</td>\n",
       "      <td>880.439453</td>\n",
       "      <td>880.439453</td>\n",
       "      <td>0.000000</td>\n",
       "    </tr>\n",
       "    <tr>\n",
       "      <th>1</th>\n",
       "      <td>1</td>\n",
       "      <td>2010-01-04</td>\n",
       "      <td>1060.000000</td>\n",
       "      <td>1068.000000</td>\n",
       "      <td>1058.000000</td>\n",
       "      <td>810.654602</td>\n",
       "      <td>4489000</td>\n",
       "      <td>4063.T</td>\n",
       "      <td>0</td>\n",
       "      <td>0.000000</td>\n",
       "      <td>886.669151</td>\n",
       "      <td>867.395485</td>\n",
       "      <td>0.000000</td>\n",
       "      <td>-66.666667</td>\n",
       "      <td>100.000000</td>\n",
       "      <td>810.654602</td>\n",
       "      <td>810.654602</td>\n",
       "      <td>0.000000</td>\n",
       "    </tr>\n",
       "    <tr>\n",
       "      <th>2</th>\n",
       "      <td>2</td>\n",
       "      <td>2010-01-04</td>\n",
       "      <td>580.666687</td>\n",
       "      <td>585.666687</td>\n",
       "      <td>578.333313</td>\n",
       "      <td>452.178345</td>\n",
       "      <td>1368900</td>\n",
       "      <td>4519.T</td>\n",
       "      <td>0</td>\n",
       "      <td>0.000000</td>\n",
       "      <td>886.669151</td>\n",
       "      <td>867.395485</td>\n",
       "      <td>0.000000</td>\n",
       "      <td>-66.666667</td>\n",
       "      <td>100.000000</td>\n",
       "      <td>452.178345</td>\n",
       "      <td>452.178345</td>\n",
       "      <td>0.000000</td>\n",
       "    </tr>\n",
       "    <tr>\n",
       "      <th>3</th>\n",
       "      <td>3</td>\n",
       "      <td>2010-01-04</td>\n",
       "      <td>650.000000</td>\n",
       "      <td>655.000000</td>\n",
       "      <td>649.333313</td>\n",
       "      <td>465.818481</td>\n",
       "      <td>3575700</td>\n",
       "      <td>4568.T</td>\n",
       "      <td>0</td>\n",
       "      <td>0.000000</td>\n",
       "      <td>886.669151</td>\n",
       "      <td>867.395485</td>\n",
       "      <td>0.000000</td>\n",
       "      <td>-66.666667</td>\n",
       "      <td>100.000000</td>\n",
       "      <td>465.818481</td>\n",
       "      <td>465.818481</td>\n",
       "      <td>0.000000</td>\n",
       "    </tr>\n",
       "    <tr>\n",
       "      <th>4</th>\n",
       "      <td>4</td>\n",
       "      <td>2010-01-04</td>\n",
       "      <td>308.000000</td>\n",
       "      <td>308.000000</td>\n",
       "      <td>306.500000</td>\n",
       "      <td>284.070923</td>\n",
       "      <td>756000</td>\n",
       "      <td>4661.T</td>\n",
       "      <td>0</td>\n",
       "      <td>0.000000</td>\n",
       "      <td>886.669151</td>\n",
       "      <td>867.395485</td>\n",
       "      <td>0.000000</td>\n",
       "      <td>-66.666667</td>\n",
       "      <td>100.000000</td>\n",
       "      <td>284.070923</td>\n",
       "      <td>284.070923</td>\n",
       "      <td>0.000000</td>\n",
       "    </tr>\n",
       "    <tr>\n",
       "      <th>...</th>\n",
       "      <td>...</td>\n",
       "      <td>...</td>\n",
       "      <td>...</td>\n",
       "      <td>...</td>\n",
       "      <td>...</td>\n",
       "      <td>...</td>\n",
       "      <td>...</td>\n",
       "      <td>...</td>\n",
       "      <td>...</td>\n",
       "      <td>...</td>\n",
       "      <td>...</td>\n",
       "      <td>...</td>\n",
       "      <td>...</td>\n",
       "      <td>...</td>\n",
       "      <td>...</td>\n",
       "      <td>...</td>\n",
       "      <td>...</td>\n",
       "      <td>...</td>\n",
       "    </tr>\n",
       "    <tr>\n",
       "      <th>96374</th>\n",
       "      <td>96374</td>\n",
       "      <td>2023-04-28</td>\n",
       "      <td>1.205600</td>\n",
       "      <td>1.237200</td>\n",
       "      <td>1.201600</td>\n",
       "      <td>1.191365</td>\n",
       "      <td>25000</td>\n",
       "      <td>NPPXF</td>\n",
       "      <td>4</td>\n",
       "      <td>0.010765</td>\n",
       "      <td>1.196708</td>\n",
       "      <td>1.132188</td>\n",
       "      <td>57.477712</td>\n",
       "      <td>121.642556</td>\n",
       "      <td>1.155655</td>\n",
       "      <td>1.164496</td>\n",
       "      <td>1.141189</td>\n",
       "      <td>105.275699</td>\n",
       "    </tr>\n",
       "    <tr>\n",
       "      <th>96375</th>\n",
       "      <td>96375</td>\n",
       "      <td>2023-04-28</td>\n",
       "      <td>8.180000</td>\n",
       "      <td>8.230000</td>\n",
       "      <td>8.150000</td>\n",
       "      <td>8.210000</td>\n",
       "      <td>1649100</td>\n",
       "      <td>SMFG</td>\n",
       "      <td>4</td>\n",
       "      <td>0.040043</td>\n",
       "      <td>8.592647</td>\n",
       "      <td>7.912353</td>\n",
       "      <td>49.993183</td>\n",
       "      <td>23.854709</td>\n",
       "      <td>2.630379</td>\n",
       "      <td>8.132667</td>\n",
       "      <td>8.381833</td>\n",
       "      <td>105.275699</td>\n",
       "    </tr>\n",
       "    <tr>\n",
       "      <th>96376</th>\n",
       "      <td>96376</td>\n",
       "      <td>2023-04-28</td>\n",
       "      <td>91.529999</td>\n",
       "      <td>91.680000</td>\n",
       "      <td>88.550003</td>\n",
       "      <td>89.669998</td>\n",
       "      <td>2335000</td>\n",
       "      <td>SONY</td>\n",
       "      <td>4</td>\n",
       "      <td>1.177086</td>\n",
       "      <td>94.113715</td>\n",
       "      <td>87.563286</td>\n",
       "      <td>52.203941</td>\n",
       "      <td>6.644431</td>\n",
       "      <td>2.984224</td>\n",
       "      <td>89.798667</td>\n",
       "      <td>88.301500</td>\n",
       "      <td>105.275699</td>\n",
       "    </tr>\n",
       "    <tr>\n",
       "      <th>96377</th>\n",
       "      <td>96377</td>\n",
       "      <td>2023-04-28</td>\n",
       "      <td>16.670000</td>\n",
       "      <td>16.719999</td>\n",
       "      <td>16.570000</td>\n",
       "      <td>16.590000</td>\n",
       "      <td>2957400</td>\n",
       "      <td>TAK</td>\n",
       "      <td>4</td>\n",
       "      <td>0.130727</td>\n",
       "      <td>17.022064</td>\n",
       "      <td>16.404937</td>\n",
       "      <td>54.665740</td>\n",
       "      <td>10.834530</td>\n",
       "      <td>18.287954</td>\n",
       "      <td>16.606000</td>\n",
       "      <td>16.193667</td>\n",
       "      <td>105.275699</td>\n",
       "    </tr>\n",
       "    <tr>\n",
       "      <th>96378</th>\n",
       "      <td>96378</td>\n",
       "      <td>2023-04-28</td>\n",
       "      <td>136.619995</td>\n",
       "      <td>137.339996</td>\n",
       "      <td>136.289993</td>\n",
       "      <td>137.330002</td>\n",
       "      <td>300000</td>\n",
       "      <td>TM</td>\n",
       "      <td>4</td>\n",
       "      <td>-0.744243</td>\n",
       "      <td>142.716226</td>\n",
       "      <td>131.926772</td>\n",
       "      <td>48.745457</td>\n",
       "      <td>-4.002383</td>\n",
       "      <td>1.841485</td>\n",
       "      <td>137.102999</td>\n",
       "      <td>138.587833</td>\n",
       "      <td>105.275699</td>\n",
       "    </tr>\n",
       "  </tbody>\n",
       "</table>\n",
       "<p>96379 rows × 18 columns</p>\n",
       "</div>"
      ],
      "text/plain": [
       "       Unnamed: 0        date         open         high          low  \\\n",
       "0               0  2010-01-04  1600.000000  1627.500000  1582.500000   \n",
       "1               1  2010-01-04  1060.000000  1068.000000  1058.000000   \n",
       "2               2  2010-01-04   580.666687   585.666687   578.333313   \n",
       "3               3  2010-01-04   650.000000   655.000000   649.333313   \n",
       "4               4  2010-01-04   308.000000   308.000000   306.500000   \n",
       "...           ...         ...          ...          ...          ...   \n",
       "96374       96374  2023-04-28     1.205600     1.237200     1.201600   \n",
       "96375       96375  2023-04-28     8.180000     8.230000     8.150000   \n",
       "96376       96376  2023-04-28    91.529999    91.680000    88.550003   \n",
       "96377       96377  2023-04-28    16.670000    16.719999    16.570000   \n",
       "96378       96378  2023-04-28   136.619995   137.339996   136.289993   \n",
       "\n",
       "            close     volume     tic  day      macd     boll_ub     boll_lb  \\\n",
       "0      880.439453  409640000  2914.T    0  0.000000  886.669151  867.395485   \n",
       "1      810.654602    4489000  4063.T    0  0.000000  886.669151  867.395485   \n",
       "2      452.178345    1368900  4519.T    0  0.000000  886.669151  867.395485   \n",
       "3      465.818481    3575700  4568.T    0  0.000000  886.669151  867.395485   \n",
       "4      284.070923     756000  4661.T    0  0.000000  886.669151  867.395485   \n",
       "...           ...        ...     ...  ...       ...         ...         ...   \n",
       "96374    1.191365      25000   NPPXF    4  0.010765    1.196708    1.132188   \n",
       "96375    8.210000    1649100    SMFG    4  0.040043    8.592647    7.912353   \n",
       "96376   89.669998    2335000    SONY    4  1.177086   94.113715   87.563286   \n",
       "96377   16.590000    2957400     TAK    4  0.130727   17.022064   16.404937   \n",
       "96378  137.330002     300000      TM    4 -0.744243  142.716226  131.926772   \n",
       "\n",
       "          rsi_30      cci_30       dx_30  close_30_sma  close_60_sma  \\\n",
       "0       0.000000  -66.666667  100.000000    880.439453    880.439453   \n",
       "1       0.000000  -66.666667  100.000000    810.654602    810.654602   \n",
       "2       0.000000  -66.666667  100.000000    452.178345    452.178345   \n",
       "3       0.000000  -66.666667  100.000000    465.818481    465.818481   \n",
       "4       0.000000  -66.666667  100.000000    284.070923    284.070923   \n",
       "...          ...         ...         ...           ...           ...   \n",
       "96374  57.477712  121.642556    1.155655      1.164496      1.141189   \n",
       "96375  49.993183   23.854709    2.630379      8.132667      8.381833   \n",
       "96376  52.203941    6.644431    2.984224     89.798667     88.301500   \n",
       "96377  54.665740   10.834530   18.287954     16.606000     16.193667   \n",
       "96378  48.745457   -4.002383    1.841485    137.102999    138.587833   \n",
       "\n",
       "       turbulence  \n",
       "0        0.000000  \n",
       "1        0.000000  \n",
       "2        0.000000  \n",
       "3        0.000000  \n",
       "4        0.000000  \n",
       "...           ...  \n",
       "96374  105.275699  \n",
       "96375  105.275699  \n",
       "96376  105.275699  \n",
       "96377  105.275699  \n",
       "96378  105.275699  \n",
       "\n",
       "[96379 rows x 18 columns]"
      ]
     },
     "execution_count": 15,
     "metadata": {},
     "output_type": "execute_result"
    }
   ],
   "source": [
    "processed"
   ]
  },
  {
   "cell_type": "code",
   "execution_count": 16,
   "id": "b299a545-307a-4d24-a530-9c7a1e0e84c5",
   "metadata": {},
   "outputs": [],
   "source": [
    "df=processed"
   ]
  },
  {
   "cell_type": "code",
   "execution_count": 17,
   "id": "3b45789e-5f8a-4a0d-a1ba-070d4601b59a",
   "metadata": {},
   "outputs": [],
   "source": [
    "list_ticker = df[\"tic\"].unique().tolist()\n",
    "# only apply to daily level data, need to fix for minute level\n",
    "list_date = list(pd.date_range(df['date'].min(),df['date'].max()).astype(str))\n",
    "combination = list(itertools.product(list_date,list_ticker))\n",
    "\n",
    "df_full = pd.DataFrame(combination,columns=[\"date\",\"tic\"]).merge(df,on=[\"date\",\"tic\"],how=\"left\")\n",
    "df_full = df_full[df_full['date'].isin(df['date'])]\n",
    "df_full = df_full.sort_values(['date','tic'])\n",
    "df_full = df_full.fillna(1)"
   ]
  },
  {
   "cell_type": "code",
   "execution_count": 18,
   "id": "fe4ccb1a-fe6a-41e1-95fe-8a3363465c99",
   "metadata": {},
   "outputs": [
    {
     "name": "stdout",
     "output_type": "stream",
     "text": [
      "<class 'pandas.core.frame.DataFrame'>\n",
      "Index: 103950 entries, 0 to 145886\n",
      "Data columns (total 18 columns):\n",
      " #   Column        Non-Null Count   Dtype  \n",
      "---  ------        --------------   -----  \n",
      " 0   date          103950 non-null  object \n",
      " 1   tic           103950 non-null  object \n",
      " 2   Unnamed: 0    103950 non-null  float64\n",
      " 3   open          103950 non-null  float64\n",
      " 4   high          103950 non-null  float64\n",
      " 5   low           103950 non-null  float64\n",
      " 6   close         103950 non-null  float64\n",
      " 7   volume        103950 non-null  float64\n",
      " 8   day           103950 non-null  float64\n",
      " 9   macd          103950 non-null  float64\n",
      " 10  boll_ub       103950 non-null  float64\n",
      " 11  boll_lb       103950 non-null  float64\n",
      " 12  rsi_30        103950 non-null  float64\n",
      " 13  cci_30        103950 non-null  float64\n",
      " 14  dx_30         103950 non-null  float64\n",
      " 15  close_30_sma  103950 non-null  float64\n",
      " 16  close_60_sma  103950 non-null  float64\n",
      " 17  turbulence    103950 non-null  float64\n",
      "dtypes: float64(16), object(2)\n",
      "memory usage: 15.1+ MB\n"
     ]
    }
   ],
   "source": [
    "df_full.info()"
   ]
  },
  {
   "cell_type": "code",
   "execution_count": 19,
   "id": "6f2577b7-eabd-4f2c-a467-cb5584c94aaf",
   "metadata": {},
   "outputs": [],
   "source": [
    "df=df_full"
   ]
  },
  {
   "cell_type": "code",
   "execution_count": 20,
   "id": "05041644-b750-457e-81c5-29c56fc1d53d",
   "metadata": {},
   "outputs": [
    {
     "data": {
      "text/html": [
       "<div>\n",
       "<style scoped>\n",
       "    .dataframe tbody tr th:only-of-type {\n",
       "        vertical-align: middle;\n",
       "    }\n",
       "\n",
       "    .dataframe tbody tr th {\n",
       "        vertical-align: top;\n",
       "    }\n",
       "\n",
       "    .dataframe thead th {\n",
       "        text-align: right;\n",
       "    }\n",
       "</style>\n",
       "<table border=\"1\" class=\"dataframe\">\n",
       "  <thead>\n",
       "    <tr style=\"text-align: right;\">\n",
       "      <th></th>\n",
       "      <th>date</th>\n",
       "      <th>tic</th>\n",
       "      <th>Unnamed: 0</th>\n",
       "      <th>open</th>\n",
       "      <th>high</th>\n",
       "      <th>low</th>\n",
       "      <th>close</th>\n",
       "      <th>volume</th>\n",
       "      <th>day</th>\n",
       "      <th>macd</th>\n",
       "      <th>boll_ub</th>\n",
       "      <th>boll_lb</th>\n",
       "      <th>rsi_30</th>\n",
       "      <th>cci_30</th>\n",
       "      <th>dx_30</th>\n",
       "      <th>close_30_sma</th>\n",
       "      <th>close_60_sma</th>\n",
       "      <th>turbulence</th>\n",
       "    </tr>\n",
       "  </thead>\n",
       "  <tbody>\n",
       "    <tr>\n",
       "      <th>0</th>\n",
       "      <td>2010-01-04</td>\n",
       "      <td>2914.T</td>\n",
       "      <td>0.0</td>\n",
       "      <td>1600.000000</td>\n",
       "      <td>1627.500000</td>\n",
       "      <td>1582.500000</td>\n",
       "      <td>880.439453</td>\n",
       "      <td>409640000.0</td>\n",
       "      <td>0.0</td>\n",
       "      <td>0.0</td>\n",
       "      <td>886.669151</td>\n",
       "      <td>867.395485</td>\n",
       "      <td>0.0</td>\n",
       "      <td>-66.666667</td>\n",
       "      <td>100.0</td>\n",
       "      <td>880.439453</td>\n",
       "      <td>880.439453</td>\n",
       "      <td>0.0</td>\n",
       "    </tr>\n",
       "    <tr>\n",
       "      <th>1</th>\n",
       "      <td>2010-01-04</td>\n",
       "      <td>4063.T</td>\n",
       "      <td>1.0</td>\n",
       "      <td>1060.000000</td>\n",
       "      <td>1068.000000</td>\n",
       "      <td>1058.000000</td>\n",
       "      <td>810.654602</td>\n",
       "      <td>4489000.0</td>\n",
       "      <td>0.0</td>\n",
       "      <td>0.0</td>\n",
       "      <td>886.669151</td>\n",
       "      <td>867.395485</td>\n",
       "      <td>0.0</td>\n",
       "      <td>-66.666667</td>\n",
       "      <td>100.0</td>\n",
       "      <td>810.654602</td>\n",
       "      <td>810.654602</td>\n",
       "      <td>0.0</td>\n",
       "    </tr>\n",
       "    <tr>\n",
       "      <th>2</th>\n",
       "      <td>2010-01-04</td>\n",
       "      <td>4519.T</td>\n",
       "      <td>2.0</td>\n",
       "      <td>580.666687</td>\n",
       "      <td>585.666687</td>\n",
       "      <td>578.333313</td>\n",
       "      <td>452.178345</td>\n",
       "      <td>1368900.0</td>\n",
       "      <td>0.0</td>\n",
       "      <td>0.0</td>\n",
       "      <td>886.669151</td>\n",
       "      <td>867.395485</td>\n",
       "      <td>0.0</td>\n",
       "      <td>-66.666667</td>\n",
       "      <td>100.0</td>\n",
       "      <td>452.178345</td>\n",
       "      <td>452.178345</td>\n",
       "      <td>0.0</td>\n",
       "    </tr>\n",
       "    <tr>\n",
       "      <th>3</th>\n",
       "      <td>2010-01-04</td>\n",
       "      <td>4568.T</td>\n",
       "      <td>3.0</td>\n",
       "      <td>650.000000</td>\n",
       "      <td>655.000000</td>\n",
       "      <td>649.333313</td>\n",
       "      <td>465.818481</td>\n",
       "      <td>3575700.0</td>\n",
       "      <td>0.0</td>\n",
       "      <td>0.0</td>\n",
       "      <td>886.669151</td>\n",
       "      <td>867.395485</td>\n",
       "      <td>0.0</td>\n",
       "      <td>-66.666667</td>\n",
       "      <td>100.0</td>\n",
       "      <td>465.818481</td>\n",
       "      <td>465.818481</td>\n",
       "      <td>0.0</td>\n",
       "    </tr>\n",
       "    <tr>\n",
       "      <th>4</th>\n",
       "      <td>2010-01-04</td>\n",
       "      <td>4661.T</td>\n",
       "      <td>4.0</td>\n",
       "      <td>308.000000</td>\n",
       "      <td>308.000000</td>\n",
       "      <td>306.500000</td>\n",
       "      <td>284.070923</td>\n",
       "      <td>756000.0</td>\n",
       "      <td>0.0</td>\n",
       "      <td>0.0</td>\n",
       "      <td>886.669151</td>\n",
       "      <td>867.395485</td>\n",
       "      <td>0.0</td>\n",
       "      <td>-66.666667</td>\n",
       "      <td>100.0</td>\n",
       "      <td>284.070923</td>\n",
       "      <td>284.070923</td>\n",
       "      <td>0.0</td>\n",
       "    </tr>\n",
       "  </tbody>\n",
       "</table>\n",
       "</div>"
      ],
      "text/plain": [
       "         date     tic  Unnamed: 0         open         high          low  \\\n",
       "0  2010-01-04  2914.T         0.0  1600.000000  1627.500000  1582.500000   \n",
       "1  2010-01-04  4063.T         1.0  1060.000000  1068.000000  1058.000000   \n",
       "2  2010-01-04  4519.T         2.0   580.666687   585.666687   578.333313   \n",
       "3  2010-01-04  4568.T         3.0   650.000000   655.000000   649.333313   \n",
       "4  2010-01-04  4661.T         4.0   308.000000   308.000000   306.500000   \n",
       "\n",
       "        close       volume  day  macd     boll_ub     boll_lb  rsi_30  \\\n",
       "0  880.439453  409640000.0  0.0   0.0  886.669151  867.395485     0.0   \n",
       "1  810.654602    4489000.0  0.0   0.0  886.669151  867.395485     0.0   \n",
       "2  452.178345    1368900.0  0.0   0.0  886.669151  867.395485     0.0   \n",
       "3  465.818481    3575700.0  0.0   0.0  886.669151  867.395485     0.0   \n",
       "4  284.070923     756000.0  0.0   0.0  886.669151  867.395485     0.0   \n",
       "\n",
       "      cci_30  dx_30  close_30_sma  close_60_sma  turbulence  \n",
       "0 -66.666667  100.0    880.439453    880.439453         0.0  \n",
       "1 -66.666667  100.0    810.654602    810.654602         0.0  \n",
       "2 -66.666667  100.0    452.178345    452.178345         0.0  \n",
       "3 -66.666667  100.0    465.818481    465.818481         0.0  \n",
       "4 -66.666667  100.0    284.070923    284.070923         0.0  "
      ]
     },
     "execution_count": 20,
     "metadata": {},
     "output_type": "execute_result"
    }
   ],
   "source": [
    "df.head()"
   ]
  },
  {
   "cell_type": "code",
   "execution_count": 21,
   "id": "067ab770-a250-4ae6-9192-79a47e011ac0",
   "metadata": {},
   "outputs": [
    {
     "data": {
      "text/plain": [
       "(103950, 18)"
      ]
     },
     "execution_count": 21,
     "metadata": {},
     "output_type": "execute_result"
    }
   ],
   "source": [
    "df.shape"
   ]
  },
  {
   "cell_type": "code",
   "execution_count": null,
   "id": "8d8ef628-f80f-4d6d-9a2f-b626ad01064e",
   "metadata": {},
   "outputs": [],
   "source": []
  },
  {
   "cell_type": "markdown",
   "id": "2e81504d-0a4a-47c0-aeb3-ecda859ff39b",
   "metadata": {},
   "source": [
    "### 4.Splitting Training and Trading Data"
   ]
  },
  {
   "cell_type": "code",
   "execution_count": 22,
   "id": "28d66621-48cf-40ea-b98d-5b262d41fa46",
   "metadata": {},
   "outputs": [
    {
     "name": "stdout",
     "output_type": "stream",
     "text": [
      "81870\n",
      "22080\n"
     ]
    }
   ],
   "source": [
    "train = data_split(df, TRAIN_START_DATE,TRAIN_END_DATE)\n",
    "trade = data_split(df, TRADE_START_DATE,TRADE_END_DATE)\n",
    "print(len(train))\n",
    "print(len(trade))\n",
    "     "
   ]
  },
  {
   "cell_type": "code",
   "execution_count": 23,
   "id": "76538de6-2554-4a7f-b69b-7f1303363465",
   "metadata": {},
   "outputs": [],
   "source": [
    "train.to_csv('train_data.csv')\n",
    "trade.to_csv('trade_data.csv')"
   ]
  },
  {
   "cell_type": "markdown",
   "id": "e2a5484b-52c9-41ed-aa33-f6aa953ac261",
   "metadata": {},
   "source": [
    "### 5. Construction of Trading Environment"
   ]
  },
  {
   "cell_type": "code",
   "execution_count": 24,
   "id": "1c6cce40-87e6-410c-ac31-d555f17adaa1",
   "metadata": {},
   "outputs": [],
   "source": [
    "from TradingEnv import StockTradingEnv"
   ]
  },
  {
   "cell_type": "code",
   "execution_count": 25,
   "id": "da8507ba-f46f-43df-bc16-9ad39026c93d",
   "metadata": {},
   "outputs": [],
   "source": [
    "\n",
    "\n",
    "# Set the corresponding values to 'True' for the algorithms that you want to use\n",
    "if_using_a2c = True\n",
    "if_using_ddpg = True\n",
    "if_using_ppo = True\n",
    "if_using_td3 = True\n",
    "if_using_sac = True"
   ]
  },
  {
   "cell_type": "markdown",
   "id": "7f02b3a6-d4ad-4135-bb40-319f9364962e",
   "metadata": {},
   "source": [
    "### Testing A2C"
   ]
  },
  {
   "cell_type": "code",
   "execution_count": 26,
   "id": "b36e7bc5-7e93-409f-9573-3c3f01cba845",
   "metadata": {},
   "outputs": [],
   "source": [
    "from stable_baselines3 import A2C, DDPG, PPO, SAC, TD3\n",
    "\n",
    "trained_a2c = A2C.load(\"trained_models/agent_a2c\") if if_using_a2c else None"
   ]
  },
  {
   "cell_type": "code",
   "execution_count": 27,
   "id": "08afc9c2-5823-4afb-909a-7a9ab0622662",
   "metadata": {},
   "outputs": [
    {
     "name": "stdout",
     "output_type": "stream",
     "text": [
      "Stock Dimension: 30, State Space: 301\n"
     ]
    }
   ],
   "source": [
    "stock_dimension = len(trade.tic.unique())\n",
    "state_space = 1 + 2*stock_dimension + len(INDICATORS)*stock_dimension\n",
    "print(f\"Stock Dimension: {stock_dimension}, State Space: {state_space}\")"
   ]
  },
  {
   "cell_type": "code",
   "execution_count": 28,
   "id": "d4ad41c5-5076-4f57-bbc2-6649285e78a5",
   "metadata": {},
   "outputs": [],
   "source": [
    "buy_cost_list = sell_cost_list = [0.001] * stock_dimension\n",
    "num_stock_shares = [0] * stock_dimension\n",
    "\n",
    "env_kwargs = {\n",
    "    \"hmax\": 100,\n",
    "    \"initial_amount\": 100000,\n",
    "    \"num_stock_shares\": num_stock_shares,\n",
    "    \"buy_cost_pct\": buy_cost_list,\n",
    "    \"sell_cost_pct\": sell_cost_list,\n",
    "    \"state_space\": state_space,\n",
    "    \"stock_dim\": stock_dimension,\n",
    "    \"tech_indicator_list\": INDICATORS,\n",
    "    \"action_space\": stock_dimension,\n",
    "    \"reward_scaling\": 1e-4\n",
    "}"
   ]
  },
  {
   "cell_type": "code",
   "execution_count": 29,
   "id": "250d6844-a243-4255-9abf-7eb6a471cbaa",
   "metadata": {},
   "outputs": [],
   "source": [
    "e_trade_gym = StockTradingEnv(df = trade, turbulence_threshold = 70, **env_kwargs)\n",
    "env_trade, obs_trade = e_trade_gym.get_sb_env()"
   ]
  },
  {
   "cell_type": "code",
   "execution_count": 30,
   "id": "01104517-6131-43b1-aaf8-ac8fcd62f62e",
   "metadata": {},
   "outputs": [
    {
     "name": "stdout",
     "output_type": "stream",
     "text": [
      "hit end!\n"
     ]
    }
   ],
   "source": [
    "df_account_value_a2c, df_actions_a2c = DRLAgent.DRL_prediction(\n",
    "    model=trained_a2c, \n",
    "    environment = e_trade_gym) if if_using_a2c else (None, None)"
   ]
  },
  {
   "cell_type": "code",
   "execution_count": 31,
   "id": "4d4354a4-3de3-4773-b7f3-9204c8f8bb61",
   "metadata": {},
   "outputs": [
    {
     "data": {
      "text/html": [
       "<div>\n",
       "<style scoped>\n",
       "    .dataframe tbody tr th:only-of-type {\n",
       "        vertical-align: middle;\n",
       "    }\n",
       "\n",
       "    .dataframe tbody tr th {\n",
       "        vertical-align: top;\n",
       "    }\n",
       "\n",
       "    .dataframe thead th {\n",
       "        text-align: right;\n",
       "    }\n",
       "</style>\n",
       "<table border=\"1\" class=\"dataframe\">\n",
       "  <thead>\n",
       "    <tr style=\"text-align: right;\">\n",
       "      <th></th>\n",
       "      <th>date</th>\n",
       "      <th>account_value</th>\n",
       "    </tr>\n",
       "  </thead>\n",
       "  <tbody>\n",
       "    <tr>\n",
       "      <th>731</th>\n",
       "      <td>2023-04-24</td>\n",
       "      <td>105923.095536</td>\n",
       "    </tr>\n",
       "    <tr>\n",
       "      <th>732</th>\n",
       "      <td>2023-04-25</td>\n",
       "      <td>106543.137651</td>\n",
       "    </tr>\n",
       "    <tr>\n",
       "      <th>733</th>\n",
       "      <td>2023-04-26</td>\n",
       "      <td>106281.818824</td>\n",
       "    </tr>\n",
       "    <tr>\n",
       "      <th>734</th>\n",
       "      <td>2023-04-27</td>\n",
       "      <td>106860.524399</td>\n",
       "    </tr>\n",
       "    <tr>\n",
       "      <th>735</th>\n",
       "      <td>2023-04-28</td>\n",
       "      <td>107986.478536</td>\n",
       "    </tr>\n",
       "  </tbody>\n",
       "</table>\n",
       "</div>"
      ],
      "text/plain": [
       "           date  account_value\n",
       "731  2023-04-24  105923.095536\n",
       "732  2023-04-25  106543.137651\n",
       "733  2023-04-26  106281.818824\n",
       "734  2023-04-27  106860.524399\n",
       "735  2023-04-28  107986.478536"
      ]
     },
     "execution_count": 31,
     "metadata": {},
     "output_type": "execute_result"
    }
   ],
   "source": [
    "df_account_value_a2c.tail()"
   ]
  },
  {
   "cell_type": "code",
   "execution_count": 32,
   "id": "a9171c26-2e11-42dd-b243-b143a3c7e5e7",
   "metadata": {},
   "outputs": [
    {
     "name": "stderr",
     "output_type": "stream",
     "text": [
      "C:\\Users\\Vansh\\anaconda3\\envs\\tf_gpu\\lib\\site-packages\\pyfolio\\pos.py:26: UserWarning: Module \"zipline.assets\" not found; mutltipliers will not be applied to position notionals.\n",
      "  warnings.warn(\n"
     ]
    },
    {
     "name": "stdout",
     "output_type": "stream",
     "text": [
      "==============Get Backtest Results===========\n",
      "Annual return            0.026657\n",
      "Cumulative returns       0.079865\n",
      "Annual volatility      239.261329\n",
      "Sharpe ratio             0.775651\n",
      "Calmar ratio             0.026712\n",
      "Stability                0.002975\n",
      "Max drawdown            -0.997937\n",
      "Omega ratio             17.335596\n",
      "Sortino ratio           66.091216\n",
      "Skew                          NaN\n",
      "Kurtosis                      NaN\n",
      "Tail ratio               1.278349\n",
      "Daily value at risk    -29.407653\n",
      "dtype: float64\n"
     ]
    }
   ],
   "source": [
    "from finrl.plot import backtest_stats\n",
    "print(\"==============Get Backtest Results===========\")\n",
    "now = datetime.datetime.now().strftime('%Y%m%d-%Hh%M')\n",
    "\n",
    "perf_stats_all = backtest_stats(account_value=df_account_value_a2c)\n",
    "perf_stats_all = pd.DataFrame(perf_stats_all)\n"
   ]
  },
  {
   "cell_type": "markdown",
   "id": "1c673516-c782-44d4-8d3d-d541f5c16863",
   "metadata": {},
   "source": [
    "## Testing DDPG"
   ]
  },
  {
   "cell_type": "code",
   "execution_count": 33,
   "id": "f87474bc-fd6b-4afd-96bd-cd6c61434931",
   "metadata": {},
   "outputs": [
    {
     "name": "stdout",
     "output_type": "stream",
     "text": [
      "Stock Dimension: 30, State Space: 301\n"
     ]
    }
   ],
   "source": [
    "stock_dimension = len(trade.tic.unique())\n",
    "state_space = 1 + 2*stock_dimension + len(INDICATORS)*stock_dimension\n",
    "print(f\"Stock Dimension: {stock_dimension}, State Space: {state_space}\")"
   ]
  },
  {
   "cell_type": "code",
   "execution_count": 34,
   "id": "f2d5f837-0a5f-4997-a441-df89b86ebc67",
   "metadata": {},
   "outputs": [],
   "source": [
    "buy_cost_list = sell_cost_list = [0.001] * stock_dimension\n",
    "num_stock_shares = [0] * stock_dimension\n",
    "\n",
    "env_kwargs = {\n",
    "    \"hmax\": 100,\n",
    "    \"initial_amount\": 100000,\n",
    "    \"num_stock_shares\": num_stock_shares,\n",
    "    \"buy_cost_pct\": buy_cost_list,\n",
    "    \"sell_cost_pct\": sell_cost_list,\n",
    "    \"state_space\": state_space,\n",
    "    \"stock_dim\": stock_dimension,\n",
    "    \"tech_indicator_list\": INDICATORS,\n",
    "    \"action_space\": stock_dimension,\n",
    "    \"reward_scaling\": 1e-4\n",
    "}"
   ]
  },
  {
   "cell_type": "code",
   "execution_count": 35,
   "id": "ce722604-356e-4da4-aa39-7b046985f088",
   "metadata": {},
   "outputs": [],
   "source": [
    "e_trade_gym = StockTradingEnv(df = trade, turbulence_threshold = 70, **env_kwargs)\n",
    "env_trade, obs_trade = e_trade_gym.get_sb_env()"
   ]
  },
  {
   "cell_type": "code",
   "execution_count": 36,
   "id": "143d5644-d66d-4d3b-84d4-bdc38823f91d",
   "metadata": {},
   "outputs": [],
   "source": [
    "trained_ddpg = DDPG.load(\"trained_models/agent_ddpg\") if if_using_ddpg else None"
   ]
  },
  {
   "cell_type": "code",
   "execution_count": 37,
   "id": "231c819a-c423-4314-a3f5-3ad4c9e6aeac",
   "metadata": {},
   "outputs": [
    {
     "name": "stdout",
     "output_type": "stream",
     "text": [
      "hit end!\n"
     ]
    }
   ],
   "source": [
    "df_account_value_ddpg, df_actions_ddpg = DRLAgent.DRL_prediction(\n",
    "    model=trained_ddpg, \n",
    "    environment = e_trade_gym) if if_using_ddpg else (None, None)"
   ]
  },
  {
   "cell_type": "code",
   "execution_count": 38,
   "id": "65d19496-cbdd-4623-9a5b-8e4bf294c4f6",
   "metadata": {},
   "outputs": [
    {
     "data": {
      "text/html": [
       "<div>\n",
       "<style scoped>\n",
       "    .dataframe tbody tr th:only-of-type {\n",
       "        vertical-align: middle;\n",
       "    }\n",
       "\n",
       "    .dataframe tbody tr th {\n",
       "        vertical-align: top;\n",
       "    }\n",
       "\n",
       "    .dataframe thead th {\n",
       "        text-align: right;\n",
       "    }\n",
       "</style>\n",
       "<table border=\"1\" class=\"dataframe\">\n",
       "  <thead>\n",
       "    <tr style=\"text-align: right;\">\n",
       "      <th></th>\n",
       "      <th>date</th>\n",
       "      <th>account_value</th>\n",
       "    </tr>\n",
       "  </thead>\n",
       "  <tbody>\n",
       "    <tr>\n",
       "      <th>731</th>\n",
       "      <td>2023-04-24</td>\n",
       "      <td>114231.061827</td>\n",
       "    </tr>\n",
       "    <tr>\n",
       "      <th>732</th>\n",
       "      <td>2023-04-25</td>\n",
       "      <td>114866.043387</td>\n",
       "    </tr>\n",
       "    <tr>\n",
       "      <th>733</th>\n",
       "      <td>2023-04-26</td>\n",
       "      <td>113240.419811</td>\n",
       "    </tr>\n",
       "    <tr>\n",
       "      <th>734</th>\n",
       "      <td>2023-04-27</td>\n",
       "      <td>113732.520194</td>\n",
       "    </tr>\n",
       "    <tr>\n",
       "      <th>735</th>\n",
       "      <td>2023-04-28</td>\n",
       "      <td>113408.861239</td>\n",
       "    </tr>\n",
       "  </tbody>\n",
       "</table>\n",
       "</div>"
      ],
      "text/plain": [
       "           date  account_value\n",
       "731  2023-04-24  114231.061827\n",
       "732  2023-04-25  114866.043387\n",
       "733  2023-04-26  113240.419811\n",
       "734  2023-04-27  113732.520194\n",
       "735  2023-04-28  113408.861239"
      ]
     },
     "execution_count": 38,
     "metadata": {},
     "output_type": "execute_result"
    }
   ],
   "source": [
    "df_account_value_ddpg.tail()"
   ]
  },
  {
   "cell_type": "code",
   "execution_count": 39,
   "id": "2c79075c-74d7-4c2e-9c72-03292e35e66a",
   "metadata": {},
   "outputs": [
    {
     "name": "stdout",
     "output_type": "stream",
     "text": [
      "==============Get Backtest Results===========\n",
      "Annual return            0.044024\n",
      "Cumulative returns       0.134089\n",
      "Annual volatility      686.389105\n",
      "Sharpe ratio             1.847847\n",
      "Calmar ratio             0.044080\n",
      "Stability                0.002975\n",
      "Max drawdown            -0.998744\n",
      "Omega ratio            108.916158\n",
      "Sortino ratio          394.104701\n",
      "Skew                          NaN\n",
      "Kurtosis                      NaN\n",
      "Tail ratio               0.832371\n",
      "Daily value at risk    -81.443797\n",
      "dtype: float64\n"
     ]
    }
   ],
   "source": [
    "from finrl.plot import backtest_stats\n",
    "print(\"==============Get Backtest Results===========\")\n",
    "now = datetime.datetime.now().strftime('%Y%m%d-%Hh%M')\n",
    "\n",
    "perf_stats_all = backtest_stats(account_value=df_account_value_ddpg)\n",
    "perf_stats_all = pd.DataFrame(perf_stats_all)\n"
   ]
  },
  {
   "cell_type": "markdown",
   "id": "ab4ce020-10e8-4e7e-8400-add2565d0fe9",
   "metadata": {},
   "source": [
    "## Testing PPO"
   ]
  },
  {
   "cell_type": "code",
   "execution_count": 40,
   "id": "19519da8-63b5-4803-848a-3f9bd5c69e64",
   "metadata": {},
   "outputs": [
    {
     "name": "stdout",
     "output_type": "stream",
     "text": [
      "Stock Dimension: 30, State Space: 301\n"
     ]
    }
   ],
   "source": [
    "stock_dimension = len(trade.tic.unique())\n",
    "state_space = 1 + 2*stock_dimension + len(INDICATORS)*stock_dimension\n",
    "print(f\"Stock Dimension: {stock_dimension}, State Space: {state_space}\")"
   ]
  },
  {
   "cell_type": "code",
   "execution_count": 41,
   "id": "d40cf178-4bff-4987-a230-a55daee19982",
   "metadata": {},
   "outputs": [],
   "source": [
    "buy_cost_list = sell_cost_list = [0.001] * stock_dimension\n",
    "num_stock_shares = [0] * stock_dimension\n",
    "\n",
    "env_kwargs = {\n",
    "    \"hmax\": 100,\n",
    "    \"initial_amount\": 100000,\n",
    "    \"num_stock_shares\": num_stock_shares,\n",
    "    \"buy_cost_pct\": buy_cost_list,\n",
    "    \"sell_cost_pct\": sell_cost_list,\n",
    "    \"state_space\": state_space,\n",
    "    \"stock_dim\": stock_dimension,\n",
    "    \"tech_indicator_list\": INDICATORS,\n",
    "    \"action_space\": stock_dimension,\n",
    "    \"reward_scaling\": 1e-4\n",
    "}"
   ]
  },
  {
   "cell_type": "code",
   "execution_count": 42,
   "id": "853c2f10-5819-4a94-a6c5-7ab96947eb29",
   "metadata": {},
   "outputs": [],
   "source": [
    "e_trade_gym = StockTradingEnv(df = trade, turbulence_threshold = 70, **env_kwargs)\n",
    "env_trade, obs_trade = e_trade_gym.get_sb_env()"
   ]
  },
  {
   "cell_type": "code",
   "execution_count": 43,
   "id": "0344d8c4-d811-43f5-b604-330f314c591a",
   "metadata": {},
   "outputs": [],
   "source": [
    "trained_ppo = PPO.load(\"trained_models/agent_ppo\") if if_using_ppo else None"
   ]
  },
  {
   "cell_type": "code",
   "execution_count": 44,
   "id": "59bc8368-a067-41da-a3c8-c01832ad8a0f",
   "metadata": {},
   "outputs": [
    {
     "name": "stdout",
     "output_type": "stream",
     "text": [
      "hit end!\n"
     ]
    }
   ],
   "source": [
    "df_account_value_ppo, df_actions_ppo = DRLAgent.DRL_prediction(\n",
    "    model=trained_ppo, \n",
    "    environment = e_trade_gym) if if_using_ppo else (None, None)"
   ]
  },
  {
   "cell_type": "code",
   "execution_count": 45,
   "id": "c28c6817-687a-43eb-b61e-82b4133797b3",
   "metadata": {},
   "outputs": [
    {
     "data": {
      "text/html": [
       "<div>\n",
       "<style scoped>\n",
       "    .dataframe tbody tr th:only-of-type {\n",
       "        vertical-align: middle;\n",
       "    }\n",
       "\n",
       "    .dataframe tbody tr th {\n",
       "        vertical-align: top;\n",
       "    }\n",
       "\n",
       "    .dataframe thead th {\n",
       "        text-align: right;\n",
       "    }\n",
       "</style>\n",
       "<table border=\"1\" class=\"dataframe\">\n",
       "  <thead>\n",
       "    <tr style=\"text-align: right;\">\n",
       "      <th></th>\n",
       "      <th>date</th>\n",
       "      <th>account_value</th>\n",
       "    </tr>\n",
       "  </thead>\n",
       "  <tbody>\n",
       "    <tr>\n",
       "      <th>731</th>\n",
       "      <td>2023-04-24</td>\n",
       "      <td>192146.340848</td>\n",
       "    </tr>\n",
       "    <tr>\n",
       "      <th>732</th>\n",
       "      <td>2023-04-25</td>\n",
       "      <td>193635.322825</td>\n",
       "    </tr>\n",
       "    <tr>\n",
       "      <th>733</th>\n",
       "      <td>2023-04-26</td>\n",
       "      <td>192443.176049</td>\n",
       "    </tr>\n",
       "    <tr>\n",
       "      <th>734</th>\n",
       "      <td>2023-04-27</td>\n",
       "      <td>193576.254854</td>\n",
       "    </tr>\n",
       "    <tr>\n",
       "      <th>735</th>\n",
       "      <td>2023-04-28</td>\n",
       "      <td>194547.278147</td>\n",
       "    </tr>\n",
       "  </tbody>\n",
       "</table>\n",
       "</div>"
      ],
      "text/plain": [
       "           date  account_value\n",
       "731  2023-04-24  192146.340848\n",
       "732  2023-04-25  193635.322825\n",
       "733  2023-04-26  192443.176049\n",
       "734  2023-04-27  193576.254854\n",
       "735  2023-04-28  194547.278147"
      ]
     },
     "execution_count": 45,
     "metadata": {},
     "output_type": "execute_result"
    }
   ],
   "source": [
    "df_account_value_ppo.tail()"
   ]
  },
  {
   "cell_type": "code",
   "execution_count": 46,
   "id": "8d108d84-f615-4fed-9a8d-ccfb1b16916d",
   "metadata": {},
   "outputs": [
    {
     "name": "stdout",
     "output_type": "stream",
     "text": [
      "==============Get Backtest Results===========\n",
      "Annual return            0.255913\n",
      "Cumulative returns       0.945473\n",
      "Annual volatility      604.075911\n",
      "Sharpe ratio             2.485961\n",
      "Calmar ratio             0.256404\n",
      "Stability                0.036739\n",
      "Max drawdown            -0.998086\n",
      "Omega ratio            130.018098\n",
      "Sortino ratio          458.930462\n",
      "Skew                          NaN\n",
      "Kurtosis                      NaN\n",
      "Tail ratio               1.169352\n",
      "Daily value at risk    -70.147248\n",
      "dtype: float64\n"
     ]
    }
   ],
   "source": [
    "from finrl.plot import backtest_stats\n",
    "print(\"==============Get Backtest Results===========\")\n",
    "now = datetime.datetime.now().strftime('%Y%m%d-%Hh%M')\n",
    "\n",
    "perf_stats_all = backtest_stats(account_value=df_account_value_ppo)\n",
    "perf_stats_all = pd.DataFrame(perf_stats_all)\n"
   ]
  },
  {
   "cell_type": "markdown",
   "id": "0e7f5a7c-a934-438c-81ac-f63ba54fb668",
   "metadata": {},
   "source": [
    "## Testing TD3"
   ]
  },
  {
   "cell_type": "code",
   "execution_count": 47,
   "id": "ab31dd2f-3895-4042-a454-21b742475bd1",
   "metadata": {},
   "outputs": [],
   "source": [
    "#retrieve from github"
   ]
  },
  {
   "cell_type": "code",
   "execution_count": 48,
   "id": "955af930-389c-4c2c-9e76-d1996caa838e",
   "metadata": {},
   "outputs": [
    {
     "name": "stdout",
     "output_type": "stream",
     "text": [
      "Stock Dimension: 30, State Space: 301\n"
     ]
    }
   ],
   "source": [
    "stock_dimension = len(trade.tic.unique())\n",
    "state_space = 1 + 2*stock_dimension + len(INDICATORS)*stock_dimension\n",
    "print(f\"Stock Dimension: {stock_dimension}, State Space: {state_space}\")"
   ]
  },
  {
   "cell_type": "code",
   "execution_count": 49,
   "id": "9bcb950d-e843-46e4-ab8d-cbc17b04f726",
   "metadata": {},
   "outputs": [],
   "source": [
    "buy_cost_list = sell_cost_list = [0.001] * stock_dimension\n",
    "num_stock_shares = [0] * stock_dimension\n",
    "\n",
    "env_kwargs = {\n",
    "    \"hmax\": 100,\n",
    "    \"initial_amount\": 100000,\n",
    "    \"num_stock_shares\": num_stock_shares,\n",
    "    \"buy_cost_pct\": buy_cost_list,\n",
    "    \"sell_cost_pct\": sell_cost_list,\n",
    "    \"state_space\": state_space,\n",
    "    \"stock_dim\": stock_dimension,\n",
    "    \"tech_indicator_list\": INDICATORS,\n",
    "    \"action_space\": stock_dimension,\n",
    "    \"reward_scaling\": 1e-4\n",
    "}"
   ]
  },
  {
   "cell_type": "code",
   "execution_count": 50,
   "id": "b0180027-0079-4e7f-8b8c-c75b246ef70b",
   "metadata": {},
   "outputs": [],
   "source": [
    "e_trade_gym = StockTradingEnv(df = trade, turbulence_threshold = 70, **env_kwargs)\n",
    "env_trade, obs_trade = e_trade_gym.get_sb_env()"
   ]
  },
  {
   "cell_type": "code",
   "execution_count": 51,
   "id": "c29434b5-31ba-444b-a8c7-ef8a7e8e5832",
   "metadata": {},
   "outputs": [],
   "source": [
    "trained_td3 = TD3.load(\"trained_models/agent_td3\") if if_using_td3 else None"
   ]
  },
  {
   "cell_type": "code",
   "execution_count": 52,
   "id": "c311428e-5efd-4687-a745-e4d63c46900f",
   "metadata": {},
   "outputs": [
    {
     "name": "stdout",
     "output_type": "stream",
     "text": [
      "hit end!\n"
     ]
    }
   ],
   "source": [
    "df_account_value_td3, df_actions_td3 = DRLAgent.DRL_prediction(\n",
    "    model=trained_td3, \n",
    "    environment = e_trade_gym) if if_using_td3 else (None, None)"
   ]
  },
  {
   "cell_type": "code",
   "execution_count": 53,
   "id": "1d9775b9-851d-44c0-a54c-690f8c72b765",
   "metadata": {},
   "outputs": [
    {
     "data": {
      "text/html": [
       "<div>\n",
       "<style scoped>\n",
       "    .dataframe tbody tr th:only-of-type {\n",
       "        vertical-align: middle;\n",
       "    }\n",
       "\n",
       "    .dataframe tbody tr th {\n",
       "        vertical-align: top;\n",
       "    }\n",
       "\n",
       "    .dataframe thead th {\n",
       "        text-align: right;\n",
       "    }\n",
       "</style>\n",
       "<table border=\"1\" class=\"dataframe\">\n",
       "  <thead>\n",
       "    <tr style=\"text-align: right;\">\n",
       "      <th></th>\n",
       "      <th>date</th>\n",
       "      <th>account_value</th>\n",
       "    </tr>\n",
       "  </thead>\n",
       "  <tbody>\n",
       "    <tr>\n",
       "      <th>731</th>\n",
       "      <td>2023-04-24</td>\n",
       "      <td>124786.251695</td>\n",
       "    </tr>\n",
       "    <tr>\n",
       "      <th>732</th>\n",
       "      <td>2023-04-25</td>\n",
       "      <td>124772.493117</td>\n",
       "    </tr>\n",
       "    <tr>\n",
       "      <th>733</th>\n",
       "      <td>2023-04-26</td>\n",
       "      <td>124383.183011</td>\n",
       "    </tr>\n",
       "    <tr>\n",
       "      <th>734</th>\n",
       "      <td>2023-04-27</td>\n",
       "      <td>124318.961825</td>\n",
       "    </tr>\n",
       "    <tr>\n",
       "      <th>735</th>\n",
       "      <td>2023-04-28</td>\n",
       "      <td>126141.583096</td>\n",
       "    </tr>\n",
       "  </tbody>\n",
       "</table>\n",
       "</div>"
      ],
      "text/plain": [
       "           date  account_value\n",
       "731  2023-04-24  124786.251695\n",
       "732  2023-04-25  124772.493117\n",
       "733  2023-04-26  124383.183011\n",
       "734  2023-04-27  124318.961825\n",
       "735  2023-04-28  126141.583096"
      ]
     },
     "execution_count": 53,
     "metadata": {},
     "output_type": "execute_result"
    }
   ],
   "source": [
    "df_account_value_td3.tail()"
   ]
  },
  {
   "cell_type": "code",
   "execution_count": 54,
   "id": "fea156ed-e16e-46a5-842e-d11cc9554371",
   "metadata": {},
   "outputs": [
    {
     "name": "stdout",
     "output_type": "stream",
     "text": [
      "==============Get Backtest Results===========\n",
      "Annual return           0.082762\n",
      "Cumulative returns      0.261416\n",
      "Annual volatility      99.216509\n",
      "Sharpe ratio            1.205604\n",
      "Calmar ratio            0.083038\n",
      "Stability               0.000137\n",
      "Max drawdown           -0.996674\n",
      "Omega ratio            11.131148\n",
      "Sortino ratio          41.156056\n",
      "Skew                         NaN\n",
      "Kurtosis                     NaN\n",
      "Tail ratio              1.162711\n",
      "Daily value at risk   -12.025439\n",
      "dtype: float64\n"
     ]
    }
   ],
   "source": [
    "from finrl.plot import backtest_stats\n",
    "print(\"==============Get Backtest Results===========\")\n",
    "now = datetime.datetime.now().strftime('%Y%m%d-%Hh%M')\n",
    "\n",
    "perf_stats_all = backtest_stats(account_value=df_account_value_td3)\n",
    "perf_stats_all = pd.DataFrame(perf_stats_all)\n"
   ]
  },
  {
   "cell_type": "markdown",
   "id": "0e15696a-2e83-4078-b1b1-265991ac58f9",
   "metadata": {},
   "source": [
    "## Testing SAC"
   ]
  },
  {
   "cell_type": "code",
   "execution_count": 55,
   "id": "f09686c0-6a82-44ea-99e6-4c66ed57d50f",
   "metadata": {},
   "outputs": [
    {
     "name": "stdout",
     "output_type": "stream",
     "text": [
      "Stock Dimension: 30, State Space: 301\n"
     ]
    }
   ],
   "source": [
    "stock_dimension = len(trade.tic.unique())\n",
    "state_space = 1 + 2*stock_dimension + len(INDICATORS)*stock_dimension\n",
    "print(f\"Stock Dimension: {stock_dimension}, State Space: {state_space}\")"
   ]
  },
  {
   "cell_type": "code",
   "execution_count": 56,
   "id": "addb545f-03e2-48aa-ab59-09d2f799534f",
   "metadata": {},
   "outputs": [],
   "source": [
    "buy_cost_list = sell_cost_list = [0.001] * stock_dimension\n",
    "num_stock_shares = [0] * stock_dimension\n",
    "\n",
    "env_kwargs = {\n",
    "    \"hmax\": 100,\n",
    "    \"initial_amount\": 100000,\n",
    "    \"num_stock_shares\": num_stock_shares,\n",
    "    \"buy_cost_pct\": buy_cost_list,\n",
    "    \"sell_cost_pct\": sell_cost_list,\n",
    "    \"state_space\": state_space,\n",
    "    \"stock_dim\": stock_dimension,\n",
    "    \"tech_indicator_list\": INDICATORS,\n",
    "    \"action_space\": stock_dimension,\n",
    "    \"reward_scaling\": 1e-4\n",
    "}"
   ]
  },
  {
   "cell_type": "code",
   "execution_count": 57,
   "id": "bbdb56ae-b994-44ef-9f72-fec68c78547f",
   "metadata": {},
   "outputs": [],
   "source": [
    "e_trade_gym = StockTradingEnv(df = trade, turbulence_threshold = 70, **env_kwargs)\n",
    "env_trade, obs_trade = e_trade_gym.get_sb_env()"
   ]
  },
  {
   "cell_type": "code",
   "execution_count": 58,
   "id": "b8f30bbf-4819-468e-88af-21ae44fa69db",
   "metadata": {},
   "outputs": [],
   "source": [
    "trained_sac = SAC.load(\"trained_models/agent_sac\") if if_using_sac else None"
   ]
  },
  {
   "cell_type": "code",
   "execution_count": 59,
   "id": "99fea52c-38db-42e6-ad48-a9acbece3fb7",
   "metadata": {},
   "outputs": [
    {
     "name": "stdout",
     "output_type": "stream",
     "text": [
      "hit end!\n"
     ]
    }
   ],
   "source": [
    "df_account_value_sac, df_actions_sac = DRLAgent.DRL_prediction(\n",
    "    model=trained_sac, \n",
    "    environment = e_trade_gym) if if_using_sac else (None, None)"
   ]
  },
  {
   "cell_type": "code",
   "execution_count": 60,
   "id": "66a7eb9d-c7df-4d37-b9f4-66c9466e6b6f",
   "metadata": {},
   "outputs": [
    {
     "data": {
      "text/html": [
       "<div>\n",
       "<style scoped>\n",
       "    .dataframe tbody tr th:only-of-type {\n",
       "        vertical-align: middle;\n",
       "    }\n",
       "\n",
       "    .dataframe tbody tr th {\n",
       "        vertical-align: top;\n",
       "    }\n",
       "\n",
       "    .dataframe thead th {\n",
       "        text-align: right;\n",
       "    }\n",
       "</style>\n",
       "<table border=\"1\" class=\"dataframe\">\n",
       "  <thead>\n",
       "    <tr style=\"text-align: right;\">\n",
       "      <th></th>\n",
       "      <th>date</th>\n",
       "      <th>account_value</th>\n",
       "    </tr>\n",
       "  </thead>\n",
       "  <tbody>\n",
       "    <tr>\n",
       "      <th>731</th>\n",
       "      <td>2023-04-24</td>\n",
       "      <td>135094.960780</td>\n",
       "    </tr>\n",
       "    <tr>\n",
       "      <th>732</th>\n",
       "      <td>2023-04-25</td>\n",
       "      <td>135449.589798</td>\n",
       "    </tr>\n",
       "    <tr>\n",
       "      <th>733</th>\n",
       "      <td>2023-04-26</td>\n",
       "      <td>134555.769271</td>\n",
       "    </tr>\n",
       "    <tr>\n",
       "      <th>734</th>\n",
       "      <td>2023-04-27</td>\n",
       "      <td>134940.466780</td>\n",
       "    </tr>\n",
       "    <tr>\n",
       "      <th>735</th>\n",
       "      <td>2023-04-28</td>\n",
       "      <td>137140.670308</td>\n",
       "    </tr>\n",
       "  </tbody>\n",
       "</table>\n",
       "</div>"
      ],
      "text/plain": [
       "           date  account_value\n",
       "731  2023-04-24  135094.960780\n",
       "732  2023-04-25  135449.589798\n",
       "733  2023-04-26  134555.769271\n",
       "734  2023-04-27  134940.466780\n",
       "735  2023-04-28  137140.670308"
      ]
     },
     "execution_count": 60,
     "metadata": {},
     "output_type": "execute_result"
    }
   ],
   "source": [
    "df_account_value_sac.tail()"
   ]
  },
  {
   "cell_type": "code",
   "execution_count": 61,
   "id": "2231d765-c8ac-467b-a548-f5aa5ebe97c3",
   "metadata": {},
   "outputs": [
    {
     "name": "stdout",
     "output_type": "stream",
     "text": [
      "==============Get Backtest Results===========\n",
      "Annual return           0.114204\n",
      "Cumulative returns      0.371407\n",
      "Annual volatility      19.434256\n",
      "Sharpe ratio            2.795759\n",
      "Calmar ratio            0.127312\n",
      "Stability               0.024710\n",
      "Max drawdown           -0.897033\n",
      "Omega ratio             5.730140\n",
      "Sortino ratio          19.120507\n",
      "Skew                         NaN\n",
      "Kurtosis                     NaN\n",
      "Tail ratio              1.213089\n",
      "Daily value at risk    -2.232877\n",
      "dtype: float64\n"
     ]
    }
   ],
   "source": [
    "from finrl.plot import backtest_stats\n",
    "print(\"==============Get Backtest Results===========\")\n",
    "now = datetime.datetime.now().strftime('%Y%m%d-%Hh%M')\n",
    "\n",
    "perf_stats_all = backtest_stats(account_value=df_account_value_sac)\n",
    "perf_stats_all = pd.DataFrame(perf_stats_all)\n"
   ]
  },
  {
   "cell_type": "markdown",
   "id": "1487832d-d89d-4f26-a9b8-9ea017c20d56",
   "metadata": {},
   "source": [
    "## Combining and visualizing results"
   ]
  },
  {
   "cell_type": "code",
   "execution_count": 62,
   "id": "3a1e8b31-2b97-48af-86ee-8253baf45d2a",
   "metadata": {},
   "outputs": [],
   "source": [
    "df_result_a2c = df_account_value_a2c.set_index(df_account_value_a2c.columns[0]) if if_using_a2c else None\n",
    "df_result_ddpg = df_account_value_ddpg.set_index(df_account_value_ddpg.columns[0]) if if_using_ddpg else None\n",
    "df_result_ppo = df_account_value_ppo.set_index(df_account_value_ppo.columns[0]) if if_using_ppo else None\n",
    "df_result_td3 = df_account_value_td3.set_index(df_account_value_td3.columns[0]) if if_using_td3 else None\n",
    "df_result_sac = df_account_value_sac.set_index(df_account_value_sac.columns[0]) if if_using_sac else None\n",
    "\n",
    "result = pd.DataFrame()\n",
    "if if_using_a2c: result = pd.merge(result, df_result_a2c, how='outer', left_index=True, right_index=True)\n",
    "if if_using_ddpg: result = pd.merge(result, df_result_ddpg, how='outer', left_index=True, right_index=True, suffixes=('', '_drop'))\n",
    "if if_using_ppo: result = pd.merge(result, df_result_ppo, how='outer', left_index=True, right_index=True, suffixes=('', '_drop'))\n",
    "if if_using_td3: result = pd.merge(result, df_result_td3, how='outer', left_index=True, right_index=True, suffixes=('', '_drop'))\n",
    "if if_using_sac: result = pd.merge(result, df_result_sac, how='outer', left_index=True, right_index=True, suffixes=('', '_drop'))\n",
    "\n"
   ]
  },
  {
   "cell_type": "code",
   "execution_count": 63,
   "id": "5c962d28-898b-43f4-a719-b6896bb3b872",
   "metadata": {},
   "outputs": [],
   "source": [
    "col_name = []\n",
    "col_name.append('A2C') if if_using_a2c else None\n",
    "col_name.append('DDPG') if if_using_ddpg else None\n",
    "col_name.append('PPO') if if_using_ppo else None\n",
    "col_name.append('TD3') if if_using_td3 else None\n",
    "col_name.append('SAC') if if_using_sac else None\n",
    "result.columns = col_name"
   ]
  },
  {
   "cell_type": "code",
   "execution_count": 64,
   "id": "60f01611-ec4f-458f-8dc6-7bc7257aa418",
   "metadata": {},
   "outputs": [
    {
     "data": {
      "text/html": [
       "<div>\n",
       "<style scoped>\n",
       "    .dataframe tbody tr th:only-of-type {\n",
       "        vertical-align: middle;\n",
       "    }\n",
       "\n",
       "    .dataframe tbody tr th {\n",
       "        vertical-align: top;\n",
       "    }\n",
       "\n",
       "    .dataframe thead th {\n",
       "        text-align: right;\n",
       "    }\n",
       "</style>\n",
       "<table border=\"1\" class=\"dataframe\">\n",
       "  <thead>\n",
       "    <tr style=\"text-align: right;\">\n",
       "      <th></th>\n",
       "      <th>A2C</th>\n",
       "      <th>DDPG</th>\n",
       "      <th>PPO</th>\n",
       "      <th>TD3</th>\n",
       "      <th>SAC</th>\n",
       "    </tr>\n",
       "    <tr>\n",
       "      <th>date</th>\n",
       "      <th></th>\n",
       "      <th></th>\n",
       "      <th></th>\n",
       "      <th></th>\n",
       "      <th></th>\n",
       "    </tr>\n",
       "  </thead>\n",
       "  <tbody>\n",
       "    <tr>\n",
       "      <th>2020-07-01</th>\n",
       "      <td>100000.000000</td>\n",
       "      <td>100000.000000</td>\n",
       "      <td>100000.000000</td>\n",
       "      <td>100000.000000</td>\n",
       "      <td>100000.000000</td>\n",
       "    </tr>\n",
       "    <tr>\n",
       "      <th>2020-07-02</th>\n",
       "      <td>100996.778518</td>\n",
       "      <td>100648.711327</td>\n",
       "      <td>101309.220157</td>\n",
       "      <td>100700.898584</td>\n",
       "      <td>99424.294914</td>\n",
       "    </tr>\n",
       "    <tr>\n",
       "      <th>2020-07-03</th>\n",
       "      <td>88073.533363</td>\n",
       "      <td>101118.279901</td>\n",
       "      <td>98929.243179</td>\n",
       "      <td>90479.961877</td>\n",
       "      <td>88227.334768</td>\n",
       "    </tr>\n",
       "    <tr>\n",
       "      <th>2020-07-06</th>\n",
       "      <td>104832.542967</td>\n",
       "      <td>102414.120001</td>\n",
       "      <td>101821.737247</td>\n",
       "      <td>105625.695123</td>\n",
       "      <td>103958.782055</td>\n",
       "    </tr>\n",
       "    <tr>\n",
       "      <th>2020-07-07</th>\n",
       "      <td>106548.534541</td>\n",
       "      <td>101712.518175</td>\n",
       "      <td>100507.128315</td>\n",
       "      <td>106760.442257</td>\n",
       "      <td>102635.262564</td>\n",
       "    </tr>\n",
       "    <tr>\n",
       "      <th>...</th>\n",
       "      <td>...</td>\n",
       "      <td>...</td>\n",
       "      <td>...</td>\n",
       "      <td>...</td>\n",
       "      <td>...</td>\n",
       "    </tr>\n",
       "    <tr>\n",
       "      <th>2023-04-24</th>\n",
       "      <td>105923.095536</td>\n",
       "      <td>114231.061827</td>\n",
       "      <td>192146.340848</td>\n",
       "      <td>124786.251695</td>\n",
       "      <td>135094.960780</td>\n",
       "    </tr>\n",
       "    <tr>\n",
       "      <th>2023-04-25</th>\n",
       "      <td>106543.137651</td>\n",
       "      <td>114866.043387</td>\n",
       "      <td>193635.322825</td>\n",
       "      <td>124772.493117</td>\n",
       "      <td>135449.589798</td>\n",
       "    </tr>\n",
       "    <tr>\n",
       "      <th>2023-04-26</th>\n",
       "      <td>106281.818824</td>\n",
       "      <td>113240.419811</td>\n",
       "      <td>192443.176049</td>\n",
       "      <td>124383.183011</td>\n",
       "      <td>134555.769271</td>\n",
       "    </tr>\n",
       "    <tr>\n",
       "      <th>2023-04-27</th>\n",
       "      <td>106860.524399</td>\n",
       "      <td>113732.520194</td>\n",
       "      <td>193576.254854</td>\n",
       "      <td>124318.961825</td>\n",
       "      <td>134940.466780</td>\n",
       "    </tr>\n",
       "    <tr>\n",
       "      <th>2023-04-28</th>\n",
       "      <td>107986.478536</td>\n",
       "      <td>113408.861239</td>\n",
       "      <td>194547.278147</td>\n",
       "      <td>126141.583096</td>\n",
       "      <td>137140.670308</td>\n",
       "    </tr>\n",
       "  </tbody>\n",
       "</table>\n",
       "<p>736 rows × 5 columns</p>\n",
       "</div>"
      ],
      "text/plain": [
       "                      A2C           DDPG            PPO            TD3  \\\n",
       "date                                                                     \n",
       "2020-07-01  100000.000000  100000.000000  100000.000000  100000.000000   \n",
       "2020-07-02  100996.778518  100648.711327  101309.220157  100700.898584   \n",
       "2020-07-03   88073.533363  101118.279901   98929.243179   90479.961877   \n",
       "2020-07-06  104832.542967  102414.120001  101821.737247  105625.695123   \n",
       "2020-07-07  106548.534541  101712.518175  100507.128315  106760.442257   \n",
       "...                   ...            ...            ...            ...   \n",
       "2023-04-24  105923.095536  114231.061827  192146.340848  124786.251695   \n",
       "2023-04-25  106543.137651  114866.043387  193635.322825  124772.493117   \n",
       "2023-04-26  106281.818824  113240.419811  192443.176049  124383.183011   \n",
       "2023-04-27  106860.524399  113732.520194  193576.254854  124318.961825   \n",
       "2023-04-28  107986.478536  113408.861239  194547.278147  126141.583096   \n",
       "\n",
       "                      SAC  \n",
       "date                       \n",
       "2020-07-01  100000.000000  \n",
       "2020-07-02   99424.294914  \n",
       "2020-07-03   88227.334768  \n",
       "2020-07-06  103958.782055  \n",
       "2020-07-07  102635.262564  \n",
       "...                   ...  \n",
       "2023-04-24  135094.960780  \n",
       "2023-04-25  135449.589798  \n",
       "2023-04-26  134555.769271  \n",
       "2023-04-27  134940.466780  \n",
       "2023-04-28  137140.670308  \n",
       "\n",
       "[736 rows x 5 columns]"
      ]
     },
     "execution_count": 64,
     "metadata": {},
     "output_type": "execute_result"
    }
   ],
   "source": [
    "result"
   ]
  },
  {
   "cell_type": "code",
   "execution_count": 65,
   "id": "84f30c24-69ea-42bd-a904-533106ea3752",
   "metadata": {},
   "outputs": [
    {
     "data": {
      "text/plain": [
       "<Axes: xlabel='date'>"
      ]
     },
     "execution_count": 65,
     "metadata": {},
     "output_type": "execute_result"
    },
    {
     "data": {
      "text/plain": [
       "<Figure size 1500x500 with 0 Axes>"
      ]
     },
     "metadata": {},
     "output_type": "display_data"
    },
    {
     "data": {
      "image/png": "[encoded data removed]",
      "text/plain": [
       "<Figure size 1500x500 with 1 Axes>"
      ]
     },
     "metadata": {},
     "output_type": "display_data"
    }
   ],
   "source": [
    "matplotlib.use('Agg')\n",
    "%matplotlib inline\n",
    "plt.rcParams[\"figure.figsize\"] = (15,5)\n",
    "plt.figure()\n",
    "result.plot()"
   ]
  }
 ],
 "metadata": {
  "kernelspec": {
   "display_name": "firstEnv",
   "language": "python",
   "name": "firstenv"
  },
  "language_info": {
   "codemirror_mode": {
    "name": "ipython",
    "version": 3
   },
   "file_extension": ".py",
   "mimetype": "text/x-python",
   "name": "python",
   "nbconvert_exporter": "python",
   "pygments_lexer": "ipython3",
   "version": "3.10.0"
  }
 },
 "nbformat": 4,
 "nbformat_minor": 5
}
