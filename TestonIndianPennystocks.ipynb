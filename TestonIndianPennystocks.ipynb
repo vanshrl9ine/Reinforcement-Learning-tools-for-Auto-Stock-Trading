{
 "cells": [
  {
   "cell_type": "markdown",
   "id": "29853799-20a5-4196-b857-879d781aeb1b",
   "metadata": {},
   "source": [
    "# **_Reinforcement Learning tools for Auto-Stock Trading_**  "
   ]
  },
  {
   "cell_type": "markdown",
   "id": "7fd62e2e-2265-46d6-b8c6-d00b3214467f",
   "metadata": {},
   "source": [
    "### 1. Importing Necessary Libraries"
   ]
  },
  {
   "cell_type": "code",
   "execution_count": 1,
   "id": "5fc5a494-5c1b-4cc0-83e5-efb4c18a4fee",
   "metadata": {},
   "outputs": [],
   "source": [
    "#Basic Data Science Libraries\n",
    "import pandas as pd\n",
    "import numpy as np\n",
    "import matplotlib\n",
    "import matplotlib.pyplot as plt\n",
    "matplotlib.use('Agg')\n",
    "%matplotlib inline"
   ]
  },
  {
   "cell_type": "code",
   "execution_count": 2,
   "id": "a144855a-0f1b-4e2c-80a2-b2331979704f",
   "metadata": {},
   "outputs": [
    {
     "name": "stderr",
     "output_type": "stream",
     "text": [
      "C:\\Users\\Vansh\\anaconda3\\envs\\tf_gpu\\lib\\site-packages\\exchange_calendars\\exchange_calendar.py:2347: FutureWarning: 'T' is deprecated and will be removed in a future version. Please use 'min' instead of 'T'.\n",
      "  align: pd.Timedelta | str = pd.Timedelta(1, \"T\"),\n"
     ]
    }
   ],
   "source": [
    "#Finrl utilities\n",
    "from finrl import config\n",
    "from finrl.meta.preprocessor.yahoodownloader import YahooDownloader\n",
    "from finrl.meta.preprocessor.preprocessors import data_split\n",
    "from finrl.agents.stablebaselines3.models import DRLAgent"
   ]
  },
  {
   "cell_type": "code",
   "execution_count": 3,
   "id": "d37161da-a220-490f-9b67-6acfe3b850e2",
   "metadata": {},
   "outputs": [],
   "source": [
    "#Processing Utilities\n",
    "import datetime\n",
    "import itertools\n"
   ]
  },
  {
   "cell_type": "code",
   "execution_count": 4,
   "id": "16c54ce5-396f-42fb-a582-bc80abd87822",
   "metadata": {},
   "outputs": [],
   "source": [
    "#Make finrl imports accessible\n",
    "import sys\n",
    "sys.path.append(\"../FinRL-Library\")"
   ]
  },
  {
   "cell_type": "code",
   "execution_count": 5,
   "id": "5b012c6e-f473-4110-852f-de9cee7ad206",
   "metadata": {},
   "outputs": [],
   "source": [
    "#Setup libraries\n",
    "from __future__ import annotations\n",
    "#postponed evaluation of type annotations and evaluation available at runtime"
   ]
  },
  {
   "cell_type": "code",
   "execution_count": 6,
   "id": "66c72d02-9a7c-43fe-a432-6921f1d86a80",
   "metadata": {},
   "outputs": [],
   "source": [
    "#other imports will be used wherever applicable"
   ]
  },
  {
   "cell_type": "code",
   "execution_count": 7,
   "id": "1dfed73f-b71d-450e-8532-471fc33abde8",
   "metadata": {},
   "outputs": [],
   "source": [
    "#Symbols of BSE SENSEX30 whose data is to be downloaded\n",
    "symbols = [\n",
    "    \"MEDINOVA\", \"RJBIOTECH\", \"ADDICTIVELE\", \"SWADESHPOLY\", \"STERLGUAR\", \"SBEC\", \"TRIVENI\", \"RELHOME\", \"MODERNSTEEL\", \n",
    "    \"KRISHNAFIL\", \"TRF\", \"SERVOTECH\", \"YAARIDIGI\", \"BASILIC\", \"KSOLVES\", \"LIFEINSUR\", \"NESTLEIND\", \"GAYAPROJECT\", \n",
    "    \"ABIRAMIFI\", \"RAJKAMSYN\", \"SONAMACH\", \"BLUEPEB\", \"PRESSNS\", \"IBINFOTECH\", \"REMEDIES\", \"EXHICON\", \"PGHH\", \"ADHBHUT\", \n",
    "    \"IEL\", \"INFRONIC\"\n",
    "]\n",
    "\n",
    "\n"
   ]
  },
  {
   "cell_type": "code",
   "execution_count": 8,
   "id": "f09ec60f-d1f4-4b21-97a6-60fe0c7cc658",
   "metadata": {},
   "outputs": [],
   "source": [
    "#Globally accesible training and trading s/e\n",
    "TRAIN_START_DATE = '2010-01-01'\n",
    "TRAIN_END_DATE = '2020-07-01'\n",
    "TRADE_START_DATE = '2020-07-01'\n",
    "TRADE_END_DATE = '2023-05-01'"
   ]
  },
  {
   "cell_type": "code",
   "execution_count": 9,
   "id": "70746a8e-df0e-49b5-a146-21dab4e23a35",
   "metadata": {},
   "outputs": [
    {
     "name": "stderr",
     "output_type": "stream",
     "text": [
      "[*********************100%%**********************]  1 of 1 completed\n",
      "\n",
      "1 Failed download:\n",
      "['MEDINOVA']: Exception('%ticker%: No timezone found, symbol may be delisted')\n",
      "[*********************100%%**********************]  1 of 1 completed\n",
      "\n",
      "1 Failed download:\n",
      "['RJBIOTECH']: Exception('%ticker%: No timezone found, symbol may be delisted')\n",
      "[*********************100%%**********************]  1 of 1 completed\n",
      "\n",
      "1 Failed download:\n",
      "['ADDICTIVELE']: Exception('%ticker%: No timezone found, symbol may be delisted')\n",
      "[*********************100%%**********************]  1 of 1 completed\n",
      "\n",
      "1 Failed download:\n",
      "['SWADESHPOLY']: Exception('%ticker%: No timezone found, symbol may be delisted')\n",
      "[*********************100%%**********************]  1 of 1 completed\n",
      "\n",
      "1 Failed download:\n",
      "['STERLGUAR']: Exception('%ticker%: No timezone found, symbol may be delisted')\n",
      "[*********************100%%**********************]  1 of 1 completed\n",
      "\n",
      "1 Failed download:\n",
      "['SBEC']: Exception('%ticker%: No timezone found, symbol may be delisted')\n",
      "[*********************100%%**********************]  1 of 1 completed\n",
      "\n",
      "1 Failed download:\n",
      "['TRIVENI']: Exception('%ticker%: No timezone found, symbol may be delisted')\n",
      "[*********************100%%**********************]  1 of 1 completed\n",
      "\n",
      "1 Failed download:\n",
      "['RELHOME']: Exception('%ticker%: No timezone found, symbol may be delisted')\n",
      "[*********************100%%**********************]  1 of 1 completed\n",
      "\n",
      "1 Failed download:\n",
      "['MODERNSTEEL']: Exception('%ticker%: No timezone found, symbol may be delisted')\n",
      "[*********************100%%**********************]  1 of 1 completed\n",
      "\n",
      "1 Failed download:\n",
      "['KRISHNAFIL']: Exception('%ticker%: No timezone found, symbol may be delisted')\n",
      "[*********************100%%**********************]  1 of 1 completed\n",
      "\n",
      "1 Failed download:\n",
      "['TRF']: Exception('%ticker%: No price data found, symbol may be delisted (1d 2010-01-01 -> 2023-05-01)')\n",
      "[*********************100%%**********************]  1 of 1 completed\n",
      "\n",
      "1 Failed download:\n",
      "['SERVOTECH']: Exception('%ticker%: No timezone found, symbol may be delisted')\n",
      "[*********************100%%**********************]  1 of 1 completed\n",
      "\n",
      "1 Failed download:\n",
      "['YAARIDIGI']: Exception('%ticker%: No timezone found, symbol may be delisted')\n",
      "[*********************100%%**********************]  1 of 1 completed\n",
      "\n",
      "1 Failed download:\n",
      "['BASILIC']: Exception('%ticker%: No timezone found, symbol may be delisted')\n",
      "[*********************100%%**********************]  1 of 1 completed\n",
      "\n",
      "1 Failed download:\n",
      "['KSOLVES']: Exception('%ticker%: No timezone found, symbol may be delisted')\n",
      "[*********************100%%**********************]  1 of 1 completed\n",
      "\n",
      "1 Failed download:\n",
      "['LIFEINSUR']: Exception('%ticker%: No timezone found, symbol may be delisted')\n",
      "[*********************100%%**********************]  1 of 1 completed\n",
      "\n",
      "1 Failed download:\n",
      "['NESTLEIND']: Exception('%ticker%: No timezone found, symbol may be delisted')\n",
      "[*********************100%%**********************]  1 of 1 completed\n",
      "\n",
      "1 Failed download:\n",
      "['GAYAPROJECT']: Exception('%ticker%: No timezone found, symbol may be delisted')\n",
      "[*********************100%%**********************]  1 of 1 completed\n",
      "\n",
      "1 Failed download:\n",
      "['ABIRAMIFI']: Exception('%ticker%: No timezone found, symbol may be delisted')\n",
      "[*********************100%%**********************]  1 of 1 completed\n",
      "\n",
      "1 Failed download:\n",
      "['RAJKAMSYN']: Exception('%ticker%: No timezone found, symbol may be delisted')\n",
      "[*********************100%%**********************]  1 of 1 completed\n",
      "\n",
      "1 Failed download:\n",
      "['SONAMACH']: Exception('%ticker%: No timezone found, symbol may be delisted')\n",
      "[*********************100%%**********************]  1 of 1 completed\n",
      "\n",
      "1 Failed download:\n",
      "['BLUEPEB']: Exception('%ticker%: No timezone found, symbol may be delisted')\n",
      "[*********************100%%**********************]  1 of 1 completed\n",
      "\n",
      "1 Failed download:\n",
      "['PRESSNS']: Exception('%ticker%: No timezone found, symbol may be delisted')\n",
      "[*********************100%%**********************]  1 of 1 completed\n",
      "\n",
      "1 Failed download:\n",
      "['IBINFOTECH']: Exception('%ticker%: No timezone found, symbol may be delisted')\n",
      "[*********************100%%**********************]  1 of 1 completed\n",
      "\n",
      "1 Failed download:\n",
      "['REMEDIES']: Exception('%ticker%: No timezone found, symbol may be delisted')\n",
      "[*********************100%%**********************]  1 of 1 completed\n",
      "\n",
      "1 Failed download:\n",
      "['EXHICON']: Exception('%ticker%: No timezone found, symbol may be delisted')\n",
      "[*********************100%%**********************]  1 of 1 completed\n",
      "\n",
      "1 Failed download:\n",
      "['PGHH']: Exception('%ticker%: No timezone found, symbol may be delisted')\n",
      "[*********************100%%**********************]  1 of 1 completed\n",
      "\n",
      "1 Failed download:\n",
      "['ADHBHUT']: Exception('%ticker%: No timezone found, symbol may be delisted')\n",
      "C:\\Users\\Vansh\\anaconda3\\envs\\tf_gpu\\lib\\site-packages\\yfinance\\utils.py:775: FutureWarning: The 'unit' keyword in TimedeltaIndex construction is deprecated and will be removed in a future version. Use pd.to_timedelta instead.\n",
      "  df.index += _pd.TimedeltaIndex(dst_error_hours, 'h')\n",
      "[*********************100%%**********************]  1 of 1 completed\n",
      "[*********************100%%**********************]  1 of 1 completed\n",
      "\n",
      "1 Failed download:\n",
      "['INFRONIC']: Exception('%ticker%: No timezone found, symbol may be delisted')\n"
     ]
    },
    {
     "name": "stdout",
     "output_type": "stream",
     "text": [
      "Shape of DataFrame:  (2, 8)\n"
     ]
    }
   ],
   "source": [
    "\n",
    "df_raw = YahooDownloader(start_date = TRAIN_START_DATE,\n",
    "                                end_date = TRADE_END_DATE,\n",
    "                                ticker_list = symbols).fetch_data()"
   ]
  },
  {
   "cell_type": "code",
   "execution_count": 10,
   "id": "ab5c8fe4-1b6f-4335-9899-475098f33b10",
   "metadata": {},
   "outputs": [],
   "source": [
    "df_raw.to_csv(\"indianpennystocks30.csv\")"
   ]
  },
  {
   "cell_type": "code",
   "execution_count": 11,
   "id": "7fbb45b3-d0fd-4e09-ba1e-e6abcce92dd9",
   "metadata": {},
   "outputs": [
    {
     "data": {
      "text/plain": [
       "tic\n",
       "NTES         3353\n",
       "TCEHY        3352\n",
       "0883.HK      3285\n",
       "0941.HK      3285\n",
       "1398.HK      3285\n",
       "3968.HK      3285\n",
       "0728.HK      3285\n",
       "000858.SZ    3236\n",
       "601628.SS    3236\n",
       "601988.SS    3236\n",
       "601899.SS    3236\n",
       "601857.SS    3236\n",
       "601939.SS    3236\n",
       "601328.SS    3236\n",
       "601318.SS    3236\n",
       "601088.SS    3236\n",
       "600900.SS    3236\n",
       "600519.SS    3236\n",
       "600028.SS    3236\n",
       "601288.SS    3107\n",
       "002594.SZ    2874\n",
       "000333.SZ    2336\n",
       "BABA         2167\n",
       "PDD          1198\n",
       "300750.SZ    1186\n",
       "601138.SS    1184\n",
       "3690.HK      1133\n",
       "601658.SS     822\n",
       "9633.HK       649\n",
       "XIACF         535\n",
       "Name: count, dtype: int64"
      ]
     },
     "execution_count": 11,
     "metadata": {},
     "output_type": "execute_result"
    }
   ],
   "source": [
    "df_raw['tic'].value_counts()"
   ]
  },
  {
   "cell_type": "markdown",
   "id": "95ecee02-4dd1-485e-8d14-f77c820c7b47",
   "metadata": {},
   "source": [
    "### 2. Loading the Data"
   ]
  },
  {
   "cell_type": "code",
   "execution_count": 12,
   "id": "47b33b42-1022-48ba-9bb4-724b1fa70c7a",
   "metadata": {},
   "outputs": [],
   "source": [
    "df_raw=pd.read_csv('datasets/chinese30.csv')"
   ]
  },
  {
   "cell_type": "code",
   "execution_count": 13,
   "id": "85c5e44b-1124-4426-87de-925b8c8fff98",
   "metadata": {},
   "outputs": [
    {
     "data": {
      "text/html": [
       "<div>\n",
       "<style scoped>\n",
       "    .dataframe tbody tr th:only-of-type {\n",
       "        vertical-align: middle;\n",
       "    }\n",
       "\n",
       "    .dataframe tbody tr th {\n",
       "        vertical-align: top;\n",
       "    }\n",
       "\n",
       "    .dataframe thead th {\n",
       "        text-align: right;\n",
       "    }\n",
       "</style>\n",
       "<table border=\"1\" class=\"dataframe\">\n",
       "  <thead>\n",
       "    <tr style=\"text-align: right;\">\n",
       "      <th></th>\n",
       "      <th>Unnamed: 0</th>\n",
       "      <th>date</th>\n",
       "      <th>open</th>\n",
       "      <th>high</th>\n",
       "      <th>low</th>\n",
       "      <th>close</th>\n",
       "      <th>volume</th>\n",
       "      <th>tic</th>\n",
       "      <th>day</th>\n",
       "    </tr>\n",
       "  </thead>\n",
       "  <tbody>\n",
       "    <tr>\n",
       "      <th>0</th>\n",
       "      <td>0</td>\n",
       "      <td>2010-01-04</td>\n",
       "      <td>31.799999</td>\n",
       "      <td>32.000000</td>\n",
       "      <td>31.360001</td>\n",
       "      <td>24.145697</td>\n",
       "      <td>26409039</td>\n",
       "      <td>000858.SZ</td>\n",
       "      <td>0</td>\n",
       "    </tr>\n",
       "    <tr>\n",
       "      <th>1</th>\n",
       "      <td>1</td>\n",
       "      <td>2010-01-04</td>\n",
       "      <td>3.230000</td>\n",
       "      <td>3.270000</td>\n",
       "      <td>3.180000</td>\n",
       "      <td>1.953881</td>\n",
       "      <td>52124000</td>\n",
       "      <td>0728.HK</td>\n",
       "      <td>0</td>\n",
       "    </tr>\n",
       "    <tr>\n",
       "      <th>2</th>\n",
       "      <td>2</td>\n",
       "      <td>2010-01-04</td>\n",
       "      <td>12.220000</td>\n",
       "      <td>12.360000</td>\n",
       "      <td>12.160000</td>\n",
       "      <td>5.354860</td>\n",
       "      <td>31983302</td>\n",
       "      <td>0883.HK</td>\n",
       "      <td>0</td>\n",
       "    </tr>\n",
       "    <tr>\n",
       "      <th>3</th>\n",
       "      <td>3</td>\n",
       "      <td>2010-01-04</td>\n",
       "      <td>72.849998</td>\n",
       "      <td>73.550003</td>\n",
       "      <td>72.000000</td>\n",
       "      <td>36.793877</td>\n",
       "      <td>14919781</td>\n",
       "      <td>0941.HK</td>\n",
       "      <td>0</td>\n",
       "    </tr>\n",
       "    <tr>\n",
       "      <th>4</th>\n",
       "      <td>4</td>\n",
       "      <td>2010-01-04</td>\n",
       "      <td>6.318309</td>\n",
       "      <td>6.386986</td>\n",
       "      <td>6.200576</td>\n",
       "      <td>2.901017</td>\n",
       "      <td>161950404</td>\n",
       "      <td>1398.HK</td>\n",
       "      <td>0</td>\n",
       "    </tr>\n",
       "  </tbody>\n",
       "</table>\n",
       "</div>"
      ],
      "text/plain": [
       "   Unnamed: 0        date       open       high        low      close  \\\n",
       "0           0  2010-01-04  31.799999  32.000000  31.360001  24.145697   \n",
       "1           1  2010-01-04   3.230000   3.270000   3.180000   1.953881   \n",
       "2           2  2010-01-04  12.220000  12.360000  12.160000   5.354860   \n",
       "3           3  2010-01-04  72.849998  73.550003  72.000000  36.793877   \n",
       "4           4  2010-01-04   6.318309   6.386986   6.200576   2.901017   \n",
       "\n",
       "      volume        tic  day  \n",
       "0   26409039  000858.SZ    0  \n",
       "1   52124000    0728.HK    0  \n",
       "2   31983302    0883.HK    0  \n",
       "3   14919781    0941.HK    0  \n",
       "4  161950404    1398.HK    0  "
      ]
     },
     "execution_count": 13,
     "metadata": {},
     "output_type": "execute_result"
    }
   ],
   "source": [
    "df_raw.head()"
   ]
  },
  {
   "cell_type": "code",
   "execution_count": 14,
   "id": "19eecd6d-8e85-4f7e-a6b3-542e23cab110",
   "metadata": {
    "scrolled": true
   },
   "outputs": [
    {
     "name": "stdout",
     "output_type": "stream",
     "text": [
      "<class 'pandas.core.frame.DataFrame'>\n",
      "RangeIndex: 79153 entries, 0 to 79152\n",
      "Data columns (total 9 columns):\n",
      " #   Column      Non-Null Count  Dtype  \n",
      "---  ------      --------------  -----  \n",
      " 0   Unnamed: 0  79153 non-null  int64  \n",
      " 1   date        79153 non-null  object \n",
      " 2   open        79153 non-null  float64\n",
      " 3   high        79153 non-null  float64\n",
      " 4   low         79153 non-null  float64\n",
      " 5   close       79153 non-null  float64\n",
      " 6   volume      79153 non-null  int64  \n",
      " 7   tic         79153 non-null  object \n",
      " 8   day         79153 non-null  int64  \n",
      "dtypes: float64(4), int64(3), object(2)\n",
      "memory usage: 5.4+ MB\n"
     ]
    }
   ],
   "source": [
    "df_raw.info()"
   ]
  },
  {
   "cell_type": "markdown",
   "id": "ff3d14f0-5205-4096-a6e5-19151dc53ebc",
   "metadata": {},
   "source": [
    "### 3. Preprocessing the data"
   ]
  },
  {
   "cell_type": "code",
   "execution_count": 15,
   "id": "febd40c0-9d74-44a1-9fcf-a3b6f7b7bbd3",
   "metadata": {},
   "outputs": [
    {
     "name": "stdout",
     "output_type": "stream",
     "text": [
      "Successfully added technical indicators\n"
     ]
    },
    {
     "name": "stderr",
     "output_type": "stream",
     "text": [
      "C:\\Users\\Vansh\\Downloads\\BTP-2-4-24\\dataprocessing.py:236: FutureWarning: The default fill_method='pad' in DataFrame.pct_change is deprecated and will be removed in a future version. Either fill in any non-leading NA values prior to calling pct_change or specify 'fill_method=None' to not fill NA values.\n",
      "  df_price_pivot = df_price_pivot.pct_change()\n"
     ]
    },
    {
     "name": "stdout",
     "output_type": "stream",
     "text": [
      "Successfully added turbulence index\n"
     ]
    }
   ],
   "source": [
    "from finrl.config import INDICATORS\n",
    "from dataprocessing import FeatureEngineer, load_dataset, data_split, convert_to_datetime\n",
    "\n",
    "fe = FeatureEngineer(use_technical_indicator=True,\n",
    "                      tech_indicator_list = INDICATORS,\n",
    "                      use_vix=False,\n",
    "                      use_turbulence=True,\n",
    "                      user_defined_feature = False)\n",
    "\n",
    "processed = fe.preprocess_data(df_raw)"
   ]
  },
  {
   "cell_type": "code",
   "execution_count": 16,
   "id": "083563ce-5668-49e3-abed-4c42a4bfa9c4",
   "metadata": {},
   "outputs": [
    {
     "data": {
      "text/html": [
       "<div>\n",
       "<style scoped>\n",
       "    .dataframe tbody tr th:only-of-type {\n",
       "        vertical-align: middle;\n",
       "    }\n",
       "\n",
       "    .dataframe tbody tr th {\n",
       "        vertical-align: top;\n",
       "    }\n",
       "\n",
       "    .dataframe thead th {\n",
       "        text-align: right;\n",
       "    }\n",
       "</style>\n",
       "<table border=\"1\" class=\"dataframe\">\n",
       "  <thead>\n",
       "    <tr style=\"text-align: right;\">\n",
       "      <th></th>\n",
       "      <th>Unnamed: 0</th>\n",
       "      <th>date</th>\n",
       "      <th>open</th>\n",
       "      <th>high</th>\n",
       "      <th>low</th>\n",
       "      <th>close</th>\n",
       "      <th>volume</th>\n",
       "      <th>tic</th>\n",
       "      <th>day</th>\n",
       "      <th>macd</th>\n",
       "      <th>boll_ub</th>\n",
       "      <th>boll_lb</th>\n",
       "      <th>rsi_30</th>\n",
       "      <th>cci_30</th>\n",
       "      <th>dx_30</th>\n",
       "      <th>close_30_sma</th>\n",
       "      <th>close_60_sma</th>\n",
       "      <th>turbulence</th>\n",
       "    </tr>\n",
       "  </thead>\n",
       "  <tbody>\n",
       "    <tr>\n",
       "      <th>0</th>\n",
       "      <td>0</td>\n",
       "      <td>2010-01-04</td>\n",
       "      <td>31.799999</td>\n",
       "      <td>32.000000</td>\n",
       "      <td>31.360001</td>\n",
       "      <td>24.145697</td>\n",
       "      <td>26409039</td>\n",
       "      <td>000858.SZ</td>\n",
       "      <td>0</td>\n",
       "      <td>0.000000</td>\n",
       "      <td>24.630672</td>\n",
       "      <td>23.914076</td>\n",
       "      <td>100.000000</td>\n",
       "      <td>66.666667</td>\n",
       "      <td>100.000000</td>\n",
       "      <td>24.145697</td>\n",
       "      <td>24.145697</td>\n",
       "      <td>0.00000</td>\n",
       "    </tr>\n",
       "    <tr>\n",
       "      <th>1</th>\n",
       "      <td>1</td>\n",
       "      <td>2010-01-04</td>\n",
       "      <td>3.230000</td>\n",
       "      <td>3.270000</td>\n",
       "      <td>3.180000</td>\n",
       "      <td>1.953881</td>\n",
       "      <td>52124000</td>\n",
       "      <td>0728.HK</td>\n",
       "      <td>0</td>\n",
       "      <td>0.000000</td>\n",
       "      <td>24.630672</td>\n",
       "      <td>23.914076</td>\n",
       "      <td>100.000000</td>\n",
       "      <td>66.666667</td>\n",
       "      <td>100.000000</td>\n",
       "      <td>1.953881</td>\n",
       "      <td>1.953881</td>\n",
       "      <td>0.00000</td>\n",
       "    </tr>\n",
       "    <tr>\n",
       "      <th>2</th>\n",
       "      <td>2</td>\n",
       "      <td>2010-01-04</td>\n",
       "      <td>12.220000</td>\n",
       "      <td>12.360000</td>\n",
       "      <td>12.160000</td>\n",
       "      <td>5.354860</td>\n",
       "      <td>31983302</td>\n",
       "      <td>0883.HK</td>\n",
       "      <td>0</td>\n",
       "      <td>0.000000</td>\n",
       "      <td>24.630672</td>\n",
       "      <td>23.914076</td>\n",
       "      <td>100.000000</td>\n",
       "      <td>66.666667</td>\n",
       "      <td>100.000000</td>\n",
       "      <td>5.354860</td>\n",
       "      <td>5.354860</td>\n",
       "      <td>0.00000</td>\n",
       "    </tr>\n",
       "    <tr>\n",
       "      <th>3</th>\n",
       "      <td>3</td>\n",
       "      <td>2010-01-04</td>\n",
       "      <td>72.849998</td>\n",
       "      <td>73.550003</td>\n",
       "      <td>72.000000</td>\n",
       "      <td>36.793877</td>\n",
       "      <td>14919781</td>\n",
       "      <td>0941.HK</td>\n",
       "      <td>0</td>\n",
       "      <td>0.000000</td>\n",
       "      <td>24.630672</td>\n",
       "      <td>23.914076</td>\n",
       "      <td>100.000000</td>\n",
       "      <td>66.666667</td>\n",
       "      <td>100.000000</td>\n",
       "      <td>36.793877</td>\n",
       "      <td>36.793877</td>\n",
       "      <td>0.00000</td>\n",
       "    </tr>\n",
       "    <tr>\n",
       "      <th>4</th>\n",
       "      <td>4</td>\n",
       "      <td>2010-01-04</td>\n",
       "      <td>6.318309</td>\n",
       "      <td>6.386986</td>\n",
       "      <td>6.200576</td>\n",
       "      <td>2.901017</td>\n",
       "      <td>161950404</td>\n",
       "      <td>1398.HK</td>\n",
       "      <td>0</td>\n",
       "      <td>0.000000</td>\n",
       "      <td>24.630672</td>\n",
       "      <td>23.914076</td>\n",
       "      <td>100.000000</td>\n",
       "      <td>66.666667</td>\n",
       "      <td>100.000000</td>\n",
       "      <td>2.901017</td>\n",
       "      <td>2.901017</td>\n",
       "      <td>0.00000</td>\n",
       "    </tr>\n",
       "    <tr>\n",
       "      <th>...</th>\n",
       "      <td>...</td>\n",
       "      <td>...</td>\n",
       "      <td>...</td>\n",
       "      <td>...</td>\n",
       "      <td>...</td>\n",
       "      <td>...</td>\n",
       "      <td>...</td>\n",
       "      <td>...</td>\n",
       "      <td>...</td>\n",
       "      <td>...</td>\n",
       "      <td>...</td>\n",
       "      <td>...</td>\n",
       "      <td>...</td>\n",
       "      <td>...</td>\n",
       "      <td>...</td>\n",
       "      <td>...</td>\n",
       "      <td>...</td>\n",
       "      <td>...</td>\n",
       "    </tr>\n",
       "    <tr>\n",
       "      <th>79148</th>\n",
       "      <td>79148</td>\n",
       "      <td>2023-04-28</td>\n",
       "      <td>84.180000</td>\n",
       "      <td>85.080002</td>\n",
       "      <td>83.870003</td>\n",
       "      <td>83.566643</td>\n",
       "      <td>18109300</td>\n",
       "      <td>BABA</td>\n",
       "      <td>4</td>\n",
       "      <td>-2.450452</td>\n",
       "      <td>105.660563</td>\n",
       "      <td>79.401707</td>\n",
       "      <td>43.215749</td>\n",
       "      <td>-79.054358</td>\n",
       "      <td>27.470570</td>\n",
       "      <td>91.002023</td>\n",
       "      <td>92.223602</td>\n",
       "      <td>30.11322</td>\n",
       "    </tr>\n",
       "    <tr>\n",
       "      <th>79149</th>\n",
       "      <td>79149</td>\n",
       "      <td>2023-04-28</td>\n",
       "      <td>88.599998</td>\n",
       "      <td>89.919998</td>\n",
       "      <td>88.400002</td>\n",
       "      <td>86.956947</td>\n",
       "      <td>799100</td>\n",
       "      <td>NTES</td>\n",
       "      <td>4</td>\n",
       "      <td>0.251507</td>\n",
       "      <td>91.559780</td>\n",
       "      <td>83.229253</td>\n",
       "      <td>52.779820</td>\n",
       "      <td>3.494252</td>\n",
       "      <td>2.712654</td>\n",
       "      <td>86.832397</td>\n",
       "      <td>84.851831</td>\n",
       "      <td>30.11322</td>\n",
       "    </tr>\n",
       "    <tr>\n",
       "      <th>79150</th>\n",
       "      <td>79150</td>\n",
       "      <td>2023-04-28</td>\n",
       "      <td>65.400002</td>\n",
       "      <td>68.809998</td>\n",
       "      <td>65.400002</td>\n",
       "      <td>68.150002</td>\n",
       "      <td>6107700</td>\n",
       "      <td>PDD</td>\n",
       "      <td>4</td>\n",
       "      <td>-3.619802</td>\n",
       "      <td>75.740592</td>\n",
       "      <td>63.510407</td>\n",
       "      <td>41.628790</td>\n",
       "      <td>-80.314258</td>\n",
       "      <td>18.641053</td>\n",
       "      <td>72.103333</td>\n",
       "      <td>81.958500</td>\n",
       "      <td>30.11322</td>\n",
       "    </tr>\n",
       "    <tr>\n",
       "      <th>79151</th>\n",
       "      <td>79151</td>\n",
       "      <td>2023-04-28</td>\n",
       "      <td>43.740002</td>\n",
       "      <td>44.439999</td>\n",
       "      <td>43.740002</td>\n",
       "      <td>44.055988</td>\n",
       "      <td>2618700</td>\n",
       "      <td>TCEHY</td>\n",
       "      <td>4</td>\n",
       "      <td>-0.778918</td>\n",
       "      <td>50.455900</td>\n",
       "      <td>41.542259</td>\n",
       "      <td>47.930947</td>\n",
       "      <td>-72.481164</td>\n",
       "      <td>18.516555</td>\n",
       "      <td>46.084987</td>\n",
       "      <td>45.965147</td>\n",
       "      <td>30.11322</td>\n",
       "    </tr>\n",
       "    <tr>\n",
       "      <th>79152</th>\n",
       "      <td>79152</td>\n",
       "      <td>2023-04-28</td>\n",
       "      <td>1.420000</td>\n",
       "      <td>1.420000</td>\n",
       "      <td>1.400000</td>\n",
       "      <td>1.400000</td>\n",
       "      <td>26900</td>\n",
       "      <td>XIACF</td>\n",
       "      <td>4</td>\n",
       "      <td>-0.027838</td>\n",
       "      <td>1.612215</td>\n",
       "      <td>1.386785</td>\n",
       "      <td>43.890061</td>\n",
       "      <td>-118.252941</td>\n",
       "      <td>23.538508</td>\n",
       "      <td>1.498800</td>\n",
       "      <td>1.537350</td>\n",
       "      <td>30.11322</td>\n",
       "    </tr>\n",
       "  </tbody>\n",
       "</table>\n",
       "<p>79153 rows × 18 columns</p>\n",
       "</div>"
      ],
      "text/plain": [
       "       Unnamed: 0        date       open       high        low      close  \\\n",
       "0               0  2010-01-04  31.799999  32.000000  31.360001  24.145697   \n",
       "1               1  2010-01-04   3.230000   3.270000   3.180000   1.953881   \n",
       "2               2  2010-01-04  12.220000  12.360000  12.160000   5.354860   \n",
       "3               3  2010-01-04  72.849998  73.550003  72.000000  36.793877   \n",
       "4               4  2010-01-04   6.318309   6.386986   6.200576   2.901017   \n",
       "...           ...         ...        ...        ...        ...        ...   \n",
       "79148       79148  2023-04-28  84.180000  85.080002  83.870003  83.566643   \n",
       "79149       79149  2023-04-28  88.599998  89.919998  88.400002  86.956947   \n",
       "79150       79150  2023-04-28  65.400002  68.809998  65.400002  68.150002   \n",
       "79151       79151  2023-04-28  43.740002  44.439999  43.740002  44.055988   \n",
       "79152       79152  2023-04-28   1.420000   1.420000   1.400000   1.400000   \n",
       "\n",
       "          volume        tic  day      macd     boll_ub    boll_lb      rsi_30  \\\n",
       "0       26409039  000858.SZ    0  0.000000   24.630672  23.914076  100.000000   \n",
       "1       52124000    0728.HK    0  0.000000   24.630672  23.914076  100.000000   \n",
       "2       31983302    0883.HK    0  0.000000   24.630672  23.914076  100.000000   \n",
       "3       14919781    0941.HK    0  0.000000   24.630672  23.914076  100.000000   \n",
       "4      161950404    1398.HK    0  0.000000   24.630672  23.914076  100.000000   \n",
       "...          ...        ...  ...       ...         ...        ...         ...   \n",
       "79148   18109300       BABA    4 -2.450452  105.660563  79.401707   43.215749   \n",
       "79149     799100       NTES    4  0.251507   91.559780  83.229253   52.779820   \n",
       "79150    6107700        PDD    4 -3.619802   75.740592  63.510407   41.628790   \n",
       "79151    2618700      TCEHY    4 -0.778918   50.455900  41.542259   47.930947   \n",
       "79152      26900      XIACF    4 -0.027838    1.612215   1.386785   43.890061   \n",
       "\n",
       "           cci_30       dx_30  close_30_sma  close_60_sma  turbulence  \n",
       "0       66.666667  100.000000     24.145697     24.145697     0.00000  \n",
       "1       66.666667  100.000000      1.953881      1.953881     0.00000  \n",
       "2       66.666667  100.000000      5.354860      5.354860     0.00000  \n",
       "3       66.666667  100.000000     36.793877     36.793877     0.00000  \n",
       "4       66.666667  100.000000      2.901017      2.901017     0.00000  \n",
       "...           ...         ...           ...           ...         ...  \n",
       "79148  -79.054358   27.470570     91.002023     92.223602    30.11322  \n",
       "79149    3.494252    2.712654     86.832397     84.851831    30.11322  \n",
       "79150  -80.314258   18.641053     72.103333     81.958500    30.11322  \n",
       "79151  -72.481164   18.516555     46.084987     45.965147    30.11322  \n",
       "79152 -118.252941   23.538508      1.498800      1.537350    30.11322  \n",
       "\n",
       "[79153 rows x 18 columns]"
      ]
     },
     "execution_count": 16,
     "metadata": {},
     "output_type": "execute_result"
    }
   ],
   "source": [
    "processed"
   ]
  },
  {
   "cell_type": "code",
   "execution_count": 17,
   "id": "b299a545-307a-4d24-a530-9c7a1e0e84c5",
   "metadata": {},
   "outputs": [],
   "source": [
    "df=processed"
   ]
  },
  {
   "cell_type": "code",
   "execution_count": 18,
   "id": "3b45789e-5f8a-4a0d-a1ba-070d4601b59a",
   "metadata": {},
   "outputs": [],
   "source": [
    "list_ticker = df[\"tic\"].unique().tolist()\n",
    "# only apply to daily level data, need to fix for minute level\n",
    "list_date = list(pd.date_range(df['date'].min(),df['date'].max()).astype(str))\n",
    "combination = list(itertools.product(list_date,list_ticker))\n",
    "\n",
    "df_full = pd.DataFrame(combination,columns=[\"date\",\"tic\"]).merge(df,on=[\"date\",\"tic\"],how=\"left\")\n",
    "df_full = df_full[df_full['date'].isin(df['date'])]\n",
    "df_full = df_full.sort_values(['date','tic'])\n",
    "df_full = df_full.fillna(1)"
   ]
  },
  {
   "cell_type": "code",
   "execution_count": 19,
   "id": "fe4ccb1a-fe6a-41e1-95fe-8a3363465c99",
   "metadata": {},
   "outputs": [
    {
     "name": "stdout",
     "output_type": "stream",
     "text": [
      "<class 'pandas.core.frame.DataFrame'>\n",
      "Index: 103830 entries, 21 to 145889\n",
      "Data columns (total 18 columns):\n",
      " #   Column        Non-Null Count   Dtype  \n",
      "---  ------        --------------   -----  \n",
      " 0   date          103830 non-null  object \n",
      " 1   tic           103830 non-null  object \n",
      " 2   Unnamed: 0    103830 non-null  float64\n",
      " 3   open          103830 non-null  float64\n",
      " 4   high          103830 non-null  float64\n",
      " 5   low           103830 non-null  float64\n",
      " 6   close         103830 non-null  float64\n",
      " 7   volume        103830 non-null  float64\n",
      " 8   day           103830 non-null  float64\n",
      " 9   macd          103830 non-null  float64\n",
      " 10  boll_ub       103830 non-null  float64\n",
      " 11  boll_lb       103830 non-null  float64\n",
      " 12  rsi_30        103830 non-null  float64\n",
      " 13  cci_30        103830 non-null  float64\n",
      " 14  dx_30         103830 non-null  float64\n",
      " 15  close_30_sma  103830 non-null  float64\n",
      " 16  close_60_sma  103830 non-null  float64\n",
      " 17  turbulence    103830 non-null  float64\n",
      "dtypes: float64(16), object(2)\n",
      "memory usage: 15.1+ MB\n"
     ]
    }
   ],
   "source": [
    "df_full.info()"
   ]
  },
  {
   "cell_type": "code",
   "execution_count": 20,
   "id": "6f2577b7-eabd-4f2c-a467-cb5584c94aaf",
   "metadata": {},
   "outputs": [],
   "source": [
    "df=df_full"
   ]
  },
  {
   "cell_type": "code",
   "execution_count": 21,
   "id": "05041644-b750-457e-81c5-29c56fc1d53d",
   "metadata": {},
   "outputs": [
    {
     "data": {
      "text/html": [
       "<div>\n",
       "<style scoped>\n",
       "    .dataframe tbody tr th:only-of-type {\n",
       "        vertical-align: middle;\n",
       "    }\n",
       "\n",
       "    .dataframe tbody tr th {\n",
       "        vertical-align: top;\n",
       "    }\n",
       "\n",
       "    .dataframe thead th {\n",
       "        text-align: right;\n",
       "    }\n",
       "</style>\n",
       "<table border=\"1\" class=\"dataframe\">\n",
       "  <thead>\n",
       "    <tr style=\"text-align: right;\">\n",
       "      <th></th>\n",
       "      <th>date</th>\n",
       "      <th>tic</th>\n",
       "      <th>Unnamed: 0</th>\n",
       "      <th>open</th>\n",
       "      <th>high</th>\n",
       "      <th>low</th>\n",
       "      <th>close</th>\n",
       "      <th>volume</th>\n",
       "      <th>day</th>\n",
       "      <th>macd</th>\n",
       "      <th>boll_ub</th>\n",
       "      <th>boll_lb</th>\n",
       "      <th>rsi_30</th>\n",
       "      <th>cci_30</th>\n",
       "      <th>dx_30</th>\n",
       "      <th>close_30_sma</th>\n",
       "      <th>close_60_sma</th>\n",
       "      <th>turbulence</th>\n",
       "    </tr>\n",
       "  </thead>\n",
       "  <tbody>\n",
       "    <tr>\n",
       "      <th>21</th>\n",
       "      <td>2010-01-04</td>\n",
       "      <td>000333.SZ</td>\n",
       "      <td>1.0</td>\n",
       "      <td>1.000000</td>\n",
       "      <td>1.00</td>\n",
       "      <td>1.000000</td>\n",
       "      <td>1.000000</td>\n",
       "      <td>1.0</td>\n",
       "      <td>1.0</td>\n",
       "      <td>1.0</td>\n",
       "      <td>1.000000</td>\n",
       "      <td>1.000000</td>\n",
       "      <td>1.0</td>\n",
       "      <td>1.000000</td>\n",
       "      <td>1.0</td>\n",
       "      <td>1.000000</td>\n",
       "      <td>1.000000</td>\n",
       "      <td>1.0</td>\n",
       "    </tr>\n",
       "    <tr>\n",
       "      <th>0</th>\n",
       "      <td>2010-01-04</td>\n",
       "      <td>000858.SZ</td>\n",
       "      <td>0.0</td>\n",
       "      <td>31.799999</td>\n",
       "      <td>32.00</td>\n",
       "      <td>31.360001</td>\n",
       "      <td>24.145697</td>\n",
       "      <td>26409039.0</td>\n",
       "      <td>0.0</td>\n",
       "      <td>0.0</td>\n",
       "      <td>24.630672</td>\n",
       "      <td>23.914076</td>\n",
       "      <td>100.0</td>\n",
       "      <td>66.666667</td>\n",
       "      <td>100.0</td>\n",
       "      <td>24.145697</td>\n",
       "      <td>24.145697</td>\n",
       "      <td>0.0</td>\n",
       "    </tr>\n",
       "    <tr>\n",
       "      <th>20</th>\n",
       "      <td>2010-01-04</td>\n",
       "      <td>002594.SZ</td>\n",
       "      <td>1.0</td>\n",
       "      <td>1.000000</td>\n",
       "      <td>1.00</td>\n",
       "      <td>1.000000</td>\n",
       "      <td>1.000000</td>\n",
       "      <td>1.0</td>\n",
       "      <td>1.0</td>\n",
       "      <td>1.0</td>\n",
       "      <td>1.000000</td>\n",
       "      <td>1.000000</td>\n",
       "      <td>1.0</td>\n",
       "      <td>1.000000</td>\n",
       "      <td>1.0</td>\n",
       "      <td>1.000000</td>\n",
       "      <td>1.000000</td>\n",
       "      <td>1.0</td>\n",
       "    </tr>\n",
       "    <tr>\n",
       "      <th>1</th>\n",
       "      <td>2010-01-04</td>\n",
       "      <td>0728.HK</td>\n",
       "      <td>1.0</td>\n",
       "      <td>3.230000</td>\n",
       "      <td>3.27</td>\n",
       "      <td>3.180000</td>\n",
       "      <td>1.953881</td>\n",
       "      <td>52124000.0</td>\n",
       "      <td>0.0</td>\n",
       "      <td>0.0</td>\n",
       "      <td>24.630672</td>\n",
       "      <td>23.914076</td>\n",
       "      <td>100.0</td>\n",
       "      <td>66.666667</td>\n",
       "      <td>100.0</td>\n",
       "      <td>1.953881</td>\n",
       "      <td>1.953881</td>\n",
       "      <td>0.0</td>\n",
       "    </tr>\n",
       "    <tr>\n",
       "      <th>2</th>\n",
       "      <td>2010-01-04</td>\n",
       "      <td>0883.HK</td>\n",
       "      <td>2.0</td>\n",
       "      <td>12.220000</td>\n",
       "      <td>12.36</td>\n",
       "      <td>12.160000</td>\n",
       "      <td>5.354860</td>\n",
       "      <td>31983302.0</td>\n",
       "      <td>0.0</td>\n",
       "      <td>0.0</td>\n",
       "      <td>24.630672</td>\n",
       "      <td>23.914076</td>\n",
       "      <td>100.0</td>\n",
       "      <td>66.666667</td>\n",
       "      <td>100.0</td>\n",
       "      <td>5.354860</td>\n",
       "      <td>5.354860</td>\n",
       "      <td>0.0</td>\n",
       "    </tr>\n",
       "  </tbody>\n",
       "</table>\n",
       "</div>"
      ],
      "text/plain": [
       "          date        tic  Unnamed: 0       open   high        low      close  \\\n",
       "21  2010-01-04  000333.SZ         1.0   1.000000   1.00   1.000000   1.000000   \n",
       "0   2010-01-04  000858.SZ         0.0  31.799999  32.00  31.360001  24.145697   \n",
       "20  2010-01-04  002594.SZ         1.0   1.000000   1.00   1.000000   1.000000   \n",
       "1   2010-01-04    0728.HK         1.0   3.230000   3.27   3.180000   1.953881   \n",
       "2   2010-01-04    0883.HK         2.0  12.220000  12.36  12.160000   5.354860   \n",
       "\n",
       "        volume  day  macd    boll_ub    boll_lb  rsi_30     cci_30  dx_30  \\\n",
       "21         1.0  1.0   1.0   1.000000   1.000000     1.0   1.000000    1.0   \n",
       "0   26409039.0  0.0   0.0  24.630672  23.914076   100.0  66.666667  100.0   \n",
       "20         1.0  1.0   1.0   1.000000   1.000000     1.0   1.000000    1.0   \n",
       "1   52124000.0  0.0   0.0  24.630672  23.914076   100.0  66.666667  100.0   \n",
       "2   31983302.0  0.0   0.0  24.630672  23.914076   100.0  66.666667  100.0   \n",
       "\n",
       "    close_30_sma  close_60_sma  turbulence  \n",
       "21      1.000000      1.000000         1.0  \n",
       "0      24.145697     24.145697         0.0  \n",
       "20      1.000000      1.000000         1.0  \n",
       "1       1.953881      1.953881         0.0  \n",
       "2       5.354860      5.354860         0.0  "
      ]
     },
     "execution_count": 21,
     "metadata": {},
     "output_type": "execute_result"
    }
   ],
   "source": [
    "df.head()"
   ]
  },
  {
   "cell_type": "code",
   "execution_count": 22,
   "id": "067ab770-a250-4ae6-9192-79a47e011ac0",
   "metadata": {},
   "outputs": [
    {
     "data": {
      "text/plain": [
       "(103830, 18)"
      ]
     },
     "execution_count": 22,
     "metadata": {},
     "output_type": "execute_result"
    }
   ],
   "source": [
    "df.shape"
   ]
  },
  {
   "cell_type": "code",
   "execution_count": null,
   "id": "8d8ef628-f80f-4d6d-9a2f-b626ad01064e",
   "metadata": {},
   "outputs": [],
   "source": []
  },
  {
   "cell_type": "markdown",
   "id": "2e81504d-0a4a-47c0-aeb3-ecda859ff39b",
   "metadata": {},
   "source": [
    "### 4.Splitting Training and Trading Data"
   ]
  },
  {
   "cell_type": "code",
   "execution_count": 23,
   "id": "28d66621-48cf-40ea-b98d-5b262d41fa46",
   "metadata": {},
   "outputs": [
    {
     "name": "stdout",
     "output_type": "stream",
     "text": [
      "81780\n",
      "22050\n"
     ]
    }
   ],
   "source": [
    "train = data_split(df, TRAIN_START_DATE,TRAIN_END_DATE)\n",
    "trade = data_split(df, TRADE_START_DATE,TRADE_END_DATE)\n",
    "print(len(train))\n",
    "print(len(trade))\n",
    "     "
   ]
  },
  {
   "cell_type": "code",
   "execution_count": 24,
   "id": "76538de6-2554-4a7f-b69b-7f1303363465",
   "metadata": {},
   "outputs": [],
   "source": [
    "train.to_csv('train_data.csv')\n",
    "trade.to_csv('trade_data.csv')"
   ]
  },
  {
   "cell_type": "markdown",
   "id": "e2a5484b-52c9-41ed-aa33-f6aa953ac261",
   "metadata": {},
   "source": [
    "### 5. Construction of Trading Environment"
   ]
  },
  {
   "cell_type": "code",
   "execution_count": 25,
   "id": "1c6cce40-87e6-410c-ac31-d555f17adaa1",
   "metadata": {},
   "outputs": [],
   "source": [
    "from TradingEnv import StockTradingEnv"
   ]
  },
  {
   "cell_type": "code",
   "execution_count": 26,
   "id": "da8507ba-f46f-43df-bc16-9ad39026c93d",
   "metadata": {},
   "outputs": [],
   "source": [
    "\n",
    "\n",
    "# Set the corresponding values to 'True' for the algorithms that you want to use\n",
    "if_using_a2c = True\n",
    "if_using_ddpg = True\n",
    "if_using_ppo = True\n",
    "if_using_td3 = True\n",
    "if_using_sac = True"
   ]
  },
  {
   "cell_type": "markdown",
   "id": "7f02b3a6-d4ad-4135-bb40-319f9364962e",
   "metadata": {},
   "source": [
    "### Testing A2C"
   ]
  },
  {
   "cell_type": "code",
   "execution_count": 27,
   "id": "b36e7bc5-7e93-409f-9573-3c3f01cba845",
   "metadata": {},
   "outputs": [],
   "source": [
    "from stable_baselines3 import A2C, DDPG, PPO, SAC, TD3\n",
    "\n",
    "trained_a2c = A2C.load(\"trained_models/agent_a2c\") if if_using_a2c else None"
   ]
  },
  {
   "cell_type": "code",
   "execution_count": 28,
   "id": "08afc9c2-5823-4afb-909a-7a9ab0622662",
   "metadata": {},
   "outputs": [
    {
     "name": "stdout",
     "output_type": "stream",
     "text": [
      "Stock Dimension: 30, State Space: 301\n"
     ]
    }
   ],
   "source": [
    "stock_dimension = len(trade.tic.unique())\n",
    "state_space = 1 + 2*stock_dimension + len(INDICATORS)*stock_dimension\n",
    "print(f\"Stock Dimension: {stock_dimension}, State Space: {state_space}\")"
   ]
  },
  {
   "cell_type": "code",
   "execution_count": 29,
   "id": "d4ad41c5-5076-4f57-bbc2-6649285e78a5",
   "metadata": {},
   "outputs": [],
   "source": [
    "buy_cost_list = sell_cost_list = [0.001] * stock_dimension\n",
    "num_stock_shares = [0] * stock_dimension\n",
    "\n",
    "env_kwargs = {\n",
    "    \"hmax\": 100,\n",
    "    \"initial_amount\": 100000,\n",
    "    \"num_stock_shares\": num_stock_shares,\n",
    "    \"buy_cost_pct\": buy_cost_list,\n",
    "    \"sell_cost_pct\": sell_cost_list,\n",
    "    \"state_space\": state_space,\n",
    "    \"stock_dim\": stock_dimension,\n",
    "    \"tech_indicator_list\": INDICATORS,\n",
    "    \"action_space\": stock_dimension,\n",
    "    \"reward_scaling\": 1e-4\n",
    "}"
   ]
  },
  {
   "cell_type": "code",
   "execution_count": 30,
   "id": "250d6844-a243-4255-9abf-7eb6a471cbaa",
   "metadata": {},
   "outputs": [],
   "source": [
    "e_trade_gym = StockTradingEnv(df = trade, turbulence_threshold = 70, **env_kwargs)\n",
    "env_trade, obs_trade = e_trade_gym.get_sb_env()"
   ]
  },
  {
   "cell_type": "code",
   "execution_count": 31,
   "id": "01104517-6131-43b1-aaf8-ac8fcd62f62e",
   "metadata": {},
   "outputs": [
    {
     "name": "stdout",
     "output_type": "stream",
     "text": [
      "hit end!\n"
     ]
    }
   ],
   "source": [
    "df_account_value_a2c, df_actions_a2c = DRLAgent.DRL_prediction(\n",
    "    model=trained_a2c, \n",
    "    environment = e_trade_gym) if if_using_a2c else (None, None)"
   ]
  },
  {
   "cell_type": "code",
   "execution_count": 32,
   "id": "4d4354a4-3de3-4773-b7f3-9204c8f8bb61",
   "metadata": {},
   "outputs": [
    {
     "data": {
      "text/html": [
       "<div>\n",
       "<style scoped>\n",
       "    .dataframe tbody tr th:only-of-type {\n",
       "        vertical-align: middle;\n",
       "    }\n",
       "\n",
       "    .dataframe tbody tr th {\n",
       "        vertical-align: top;\n",
       "    }\n",
       "\n",
       "    .dataframe thead th {\n",
       "        text-align: right;\n",
       "    }\n",
       "</style>\n",
       "<table border=\"1\" class=\"dataframe\">\n",
       "  <thead>\n",
       "    <tr style=\"text-align: right;\">\n",
       "      <th></th>\n",
       "      <th>date</th>\n",
       "      <th>account_value</th>\n",
       "    </tr>\n",
       "  </thead>\n",
       "  <tbody>\n",
       "    <tr>\n",
       "      <th>730</th>\n",
       "      <td>2023-04-24</td>\n",
       "      <td>27534.776958</td>\n",
       "    </tr>\n",
       "    <tr>\n",
       "      <th>731</th>\n",
       "      <td>2023-04-25</td>\n",
       "      <td>26358.978586</td>\n",
       "    </tr>\n",
       "    <tr>\n",
       "      <th>732</th>\n",
       "      <td>2023-04-26</td>\n",
       "      <td>26524.980761</td>\n",
       "    </tr>\n",
       "    <tr>\n",
       "      <th>733</th>\n",
       "      <td>2023-04-27</td>\n",
       "      <td>27046.885301</td>\n",
       "    </tr>\n",
       "    <tr>\n",
       "      <th>734</th>\n",
       "      <td>2023-04-28</td>\n",
       "      <td>27019.838481</td>\n",
       "    </tr>\n",
       "  </tbody>\n",
       "</table>\n",
       "</div>"
      ],
      "text/plain": [
       "           date  account_value\n",
       "730  2023-04-24   27534.776958\n",
       "731  2023-04-25   26358.978586\n",
       "732  2023-04-26   26524.980761\n",
       "733  2023-04-27   27046.885301\n",
       "734  2023-04-28   27019.838481"
      ]
     },
     "execution_count": 32,
     "metadata": {},
     "output_type": "execute_result"
    }
   ],
   "source": [
    "df_account_value_a2c.tail()"
   ]
  },
  {
   "cell_type": "code",
   "execution_count": 33,
   "id": "a9171c26-2e11-42dd-b243-b143a3c7e5e7",
   "metadata": {},
   "outputs": [
    {
     "name": "stderr",
     "output_type": "stream",
     "text": [
      "C:\\Users\\Vansh\\anaconda3\\envs\\tf_gpu\\lib\\site-packages\\pyfolio\\pos.py:26: UserWarning: Module \"zipline.assets\" not found; mutltipliers will not be applied to position notionals.\n",
      "  warnings.warn(\n"
     ]
    },
    {
     "name": "stdout",
     "output_type": "stream",
     "text": [
      "==============Get Backtest Results===========\n",
      "Annual return          -0.361518\n",
      "Cumulative returns     -0.729802\n",
      "Annual volatility      37.717795\n",
      "Sharpe ratio            1.084126\n",
      "Calmar ratio           -0.363140\n",
      "Stability               0.556695\n",
      "Max drawdown           -0.995534\n",
      "Omega ratio             5.893613\n",
      "Sortino ratio          19.160290\n",
      "Skew                         NaN\n",
      "Kurtosis                     NaN\n",
      "Tail ratio              1.099884\n",
      "Daily value at risk    -4.589730\n",
      "dtype: float64\n"
     ]
    }
   ],
   "source": [
    "from finrl.plot import backtest_stats\n",
    "print(\"==============Get Backtest Results===========\")\n",
    "now = datetime.datetime.now().strftime('%Y%m%d-%Hh%M')\n",
    "\n",
    "perf_stats_all = backtest_stats(account_value=df_account_value_a2c)\n",
    "perf_stats_all = pd.DataFrame(perf_stats_all)\n"
   ]
  },
  {
   "cell_type": "markdown",
   "id": "1c673516-c782-44d4-8d3d-d541f5c16863",
   "metadata": {},
   "source": [
    "## Testing DDPG"
   ]
  },
  {
   "cell_type": "code",
   "execution_count": 34,
   "id": "f87474bc-fd6b-4afd-96bd-cd6c61434931",
   "metadata": {},
   "outputs": [
    {
     "name": "stdout",
     "output_type": "stream",
     "text": [
      "Stock Dimension: 30, State Space: 301\n"
     ]
    }
   ],
   "source": [
    "stock_dimension = len(trade.tic.unique())\n",
    "state_space = 1 + 2*stock_dimension + len(INDICATORS)*stock_dimension\n",
    "print(f\"Stock Dimension: {stock_dimension}, State Space: {state_space}\")"
   ]
  },
  {
   "cell_type": "code",
   "execution_count": 35,
   "id": "f2d5f837-0a5f-4997-a441-df89b86ebc67",
   "metadata": {},
   "outputs": [],
   "source": [
    "buy_cost_list = sell_cost_list = [0.001] * stock_dimension\n",
    "num_stock_shares = [0] * stock_dimension\n",
    "\n",
    "env_kwargs = {\n",
    "    \"hmax\": 100,\n",
    "    \"initial_amount\": 100000,\n",
    "    \"num_stock_shares\": num_stock_shares,\n",
    "    \"buy_cost_pct\": buy_cost_list,\n",
    "    \"sell_cost_pct\": sell_cost_list,\n",
    "    \"state_space\": state_space,\n",
    "    \"stock_dim\": stock_dimension,\n",
    "    \"tech_indicator_list\": INDICATORS,\n",
    "    \"action_space\": stock_dimension,\n",
    "    \"reward_scaling\": 1e-4\n",
    "}"
   ]
  },
  {
   "cell_type": "code",
   "execution_count": 36,
   "id": "ce722604-356e-4da4-aa39-7b046985f088",
   "metadata": {},
   "outputs": [],
   "source": [
    "e_trade_gym = StockTradingEnv(df = trade, turbulence_threshold = 70, **env_kwargs)\n",
    "env_trade, obs_trade = e_trade_gym.get_sb_env()"
   ]
  },
  {
   "cell_type": "code",
   "execution_count": 37,
   "id": "143d5644-d66d-4d3b-84d4-bdc38823f91d",
   "metadata": {},
   "outputs": [],
   "source": [
    "trained_ddpg = DDPG.load(\"trained_models/agent_ddpg\") if if_using_ddpg else None"
   ]
  },
  {
   "cell_type": "code",
   "execution_count": 38,
   "id": "231c819a-c423-4314-a3f5-3ad4c9e6aeac",
   "metadata": {},
   "outputs": [
    {
     "name": "stdout",
     "output_type": "stream",
     "text": [
      "hit end!\n"
     ]
    }
   ],
   "source": [
    "df_account_value_ddpg, df_actions_ddpg = DRLAgent.DRL_prediction(\n",
    "    model=trained_ddpg, \n",
    "    environment = e_trade_gym) if if_using_ddpg else (None, None)"
   ]
  },
  {
   "cell_type": "code",
   "execution_count": 39,
   "id": "65d19496-cbdd-4623-9a5b-8e4bf294c4f6",
   "metadata": {},
   "outputs": [
    {
     "data": {
      "text/html": [
       "<div>\n",
       "<style scoped>\n",
       "    .dataframe tbody tr th:only-of-type {\n",
       "        vertical-align: middle;\n",
       "    }\n",
       "\n",
       "    .dataframe tbody tr th {\n",
       "        vertical-align: top;\n",
       "    }\n",
       "\n",
       "    .dataframe thead th {\n",
       "        text-align: right;\n",
       "    }\n",
       "</style>\n",
       "<table border=\"1\" class=\"dataframe\">\n",
       "  <thead>\n",
       "    <tr style=\"text-align: right;\">\n",
       "      <th></th>\n",
       "      <th>date</th>\n",
       "      <th>account_value</th>\n",
       "    </tr>\n",
       "  </thead>\n",
       "  <tbody>\n",
       "    <tr>\n",
       "      <th>730</th>\n",
       "      <td>2023-04-24</td>\n",
       "      <td>77096.002535</td>\n",
       "    </tr>\n",
       "    <tr>\n",
       "      <th>731</th>\n",
       "      <td>2023-04-25</td>\n",
       "      <td>78210.612436</td>\n",
       "    </tr>\n",
       "    <tr>\n",
       "      <th>732</th>\n",
       "      <td>2023-04-26</td>\n",
       "      <td>78822.725904</td>\n",
       "    </tr>\n",
       "    <tr>\n",
       "      <th>733</th>\n",
       "      <td>2023-04-27</td>\n",
       "      <td>79459.809576</td>\n",
       "    </tr>\n",
       "    <tr>\n",
       "      <th>734</th>\n",
       "      <td>2023-04-28</td>\n",
       "      <td>79380.352990</td>\n",
       "    </tr>\n",
       "  </tbody>\n",
       "</table>\n",
       "</div>"
      ],
      "text/plain": [
       "           date  account_value\n",
       "730  2023-04-24   77096.002535\n",
       "731  2023-04-25   78210.612436\n",
       "732  2023-04-26   78822.725904\n",
       "733  2023-04-27   79459.809576\n",
       "734  2023-04-28   79380.352990"
      ]
     },
     "execution_count": 39,
     "metadata": {},
     "output_type": "execute_result"
    }
   ],
   "source": [
    "df_account_value_ddpg.tail()"
   ]
  },
  {
   "cell_type": "code",
   "execution_count": 40,
   "id": "2c79075c-74d7-4c2e-9c72-03292e35e66a",
   "metadata": {},
   "outputs": [
    {
     "name": "stdout",
     "output_type": "stream",
     "text": [
      "==============Get Backtest Results===========\n",
      "Annual return           -0.076119\n",
      "Cumulative returns      -0.206196\n",
      "Annual volatility      618.903077\n",
      "Sharpe ratio             1.245201\n",
      "Calmar ratio            -0.076162\n",
      "Stability                0.001921\n",
      "Max drawdown            -0.999433\n",
      "Omega ratio            125.813579\n",
      "Sortino ratio          366.120939\n",
      "Skew                          NaN\n",
      "Kurtosis                      NaN\n",
      "Tail ratio               0.925581\n",
      "Daily value at risk    -74.916288\n",
      "dtype: float64\n"
     ]
    }
   ],
   "source": [
    "from finrl.plot import backtest_stats\n",
    "print(\"==============Get Backtest Results===========\")\n",
    "now = datetime.datetime.now().strftime('%Y%m%d-%Hh%M')\n",
    "\n",
    "perf_stats_all = backtest_stats(account_value=df_account_value_ddpg)\n",
    "perf_stats_all = pd.DataFrame(perf_stats_all)\n"
   ]
  },
  {
   "cell_type": "markdown",
   "id": "ab4ce020-10e8-4e7e-8400-add2565d0fe9",
   "metadata": {},
   "source": [
    "## Testing PPO"
   ]
  },
  {
   "cell_type": "code",
   "execution_count": 41,
   "id": "19519da8-63b5-4803-848a-3f9bd5c69e64",
   "metadata": {},
   "outputs": [
    {
     "name": "stdout",
     "output_type": "stream",
     "text": [
      "Stock Dimension: 30, State Space: 301\n"
     ]
    }
   ],
   "source": [
    "stock_dimension = len(trade.tic.unique())\n",
    "state_space = 1 + 2*stock_dimension + len(INDICATORS)*stock_dimension\n",
    "print(f\"Stock Dimension: {stock_dimension}, State Space: {state_space}\")"
   ]
  },
  {
   "cell_type": "code",
   "execution_count": 42,
   "id": "d40cf178-4bff-4987-a230-a55daee19982",
   "metadata": {},
   "outputs": [],
   "source": [
    "buy_cost_list = sell_cost_list = [0.001] * stock_dimension\n",
    "num_stock_shares = [0] * stock_dimension\n",
    "\n",
    "env_kwargs = {\n",
    "    \"hmax\": 100,\n",
    "    \"initial_amount\": 100000,\n",
    "    \"num_stock_shares\": num_stock_shares,\n",
    "    \"buy_cost_pct\": buy_cost_list,\n",
    "    \"sell_cost_pct\": sell_cost_list,\n",
    "    \"state_space\": state_space,\n",
    "    \"stock_dim\": stock_dimension,\n",
    "    \"tech_indicator_list\": INDICATORS,\n",
    "    \"action_space\": stock_dimension,\n",
    "    \"reward_scaling\": 1e-4\n",
    "}"
   ]
  },
  {
   "cell_type": "code",
   "execution_count": 43,
   "id": "853c2f10-5819-4a94-a6c5-7ab96947eb29",
   "metadata": {},
   "outputs": [],
   "source": [
    "e_trade_gym = StockTradingEnv(df = trade, turbulence_threshold = 70, **env_kwargs)\n",
    "env_trade, obs_trade = e_trade_gym.get_sb_env()"
   ]
  },
  {
   "cell_type": "code",
   "execution_count": 44,
   "id": "0344d8c4-d811-43f5-b604-330f314c591a",
   "metadata": {},
   "outputs": [],
   "source": [
    "trained_ppo = PPO.load(\"trained_models/agent_ppo\") if if_using_ppo else None"
   ]
  },
  {
   "cell_type": "code",
   "execution_count": 45,
   "id": "59bc8368-a067-41da-a3c8-c01832ad8a0f",
   "metadata": {},
   "outputs": [
    {
     "name": "stdout",
     "output_type": "stream",
     "text": [
      "hit end!\n"
     ]
    }
   ],
   "source": [
    "df_account_value_ppo, df_actions_ppo = DRLAgent.DRL_prediction(\n",
    "    model=trained_ppo, \n",
    "    environment = e_trade_gym) if if_using_ppo else (None, None)"
   ]
  },
  {
   "cell_type": "code",
   "execution_count": 46,
   "id": "c28c6817-687a-43eb-b61e-82b4133797b3",
   "metadata": {},
   "outputs": [
    {
     "data": {
      "text/html": [
       "<div>\n",
       "<style scoped>\n",
       "    .dataframe tbody tr th:only-of-type {\n",
       "        vertical-align: middle;\n",
       "    }\n",
       "\n",
       "    .dataframe tbody tr th {\n",
       "        vertical-align: top;\n",
       "    }\n",
       "\n",
       "    .dataframe thead th {\n",
       "        text-align: right;\n",
       "    }\n",
       "</style>\n",
       "<table border=\"1\" class=\"dataframe\">\n",
       "  <thead>\n",
       "    <tr style=\"text-align: right;\">\n",
       "      <th></th>\n",
       "      <th>date</th>\n",
       "      <th>account_value</th>\n",
       "    </tr>\n",
       "  </thead>\n",
       "  <tbody>\n",
       "    <tr>\n",
       "      <th>730</th>\n",
       "      <td>2023-04-24</td>\n",
       "      <td>57436.667444</td>\n",
       "    </tr>\n",
       "    <tr>\n",
       "      <th>731</th>\n",
       "      <td>2023-04-25</td>\n",
       "      <td>56015.424748</td>\n",
       "    </tr>\n",
       "    <tr>\n",
       "      <th>732</th>\n",
       "      <td>2023-04-26</td>\n",
       "      <td>56611.290530</td>\n",
       "    </tr>\n",
       "    <tr>\n",
       "      <th>733</th>\n",
       "      <td>2023-04-27</td>\n",
       "      <td>57700.474226</td>\n",
       "    </tr>\n",
       "    <tr>\n",
       "      <th>734</th>\n",
       "      <td>2023-04-28</td>\n",
       "      <td>57642.775346</td>\n",
       "    </tr>\n",
       "  </tbody>\n",
       "</table>\n",
       "</div>"
      ],
      "text/plain": [
       "           date  account_value\n",
       "730  2023-04-24   57436.667444\n",
       "731  2023-04-25   56015.424748\n",
       "732  2023-04-26   56611.290530\n",
       "733  2023-04-27   57700.474226\n",
       "734  2023-04-28   57642.775346"
      ]
     },
     "execution_count": 46,
     "metadata": {},
     "output_type": "execute_result"
    }
   ],
   "source": [
    "df_account_value_ppo.tail()"
   ]
  },
  {
   "cell_type": "code",
   "execution_count": 47,
   "id": "8d108d84-f615-4fed-9a8d-ccfb1b16916d",
   "metadata": {},
   "outputs": [
    {
     "name": "stdout",
     "output_type": "stream",
     "text": [
      "==============Get Backtest Results===========\n",
      "Annual return         -0.172116\n",
      "Cumulative returns    -0.423572\n",
      "Annual volatility      3.327070\n",
      "Sharpe ratio           1.246701\n",
      "Calmar ratio          -0.211429\n",
      "Stability              0.502685\n",
      "Max drawdown          -0.814059\n",
      "Omega ratio            1.671939\n",
      "Sortino ratio          2.790702\n",
      "Skew                        NaN\n",
      "Kurtosis                    NaN\n",
      "Tail ratio             0.710849\n",
      "Daily value at risk   -0.402712\n",
      "dtype: float64\n"
     ]
    }
   ],
   "source": [
    "from finrl.plot import backtest_stats\n",
    "print(\"==============Get Backtest Results===========\")\n",
    "now = datetime.datetime.now().strftime('%Y%m%d-%Hh%M')\n",
    "\n",
    "perf_stats_all = backtest_stats(account_value=df_account_value_ppo)\n",
    "perf_stats_all = pd.DataFrame(perf_stats_all)\n"
   ]
  },
  {
   "cell_type": "markdown",
   "id": "0e7f5a7c-a934-438c-81ac-f63ba54fb668",
   "metadata": {},
   "source": [
    "## Testing TD3"
   ]
  },
  {
   "cell_type": "code",
   "execution_count": 46,
   "id": "ab31dd2f-3895-4042-a454-21b742475bd1",
   "metadata": {},
   "outputs": [],
   "source": [
    "#retrieve from github"
   ]
  },
  {
   "cell_type": "code",
   "execution_count": 47,
   "id": "fb8bb4bd-1de7-4b63-b1a7-8075c240d41c",
   "metadata": {},
   "outputs": [
    {
     "ename": "NameError",
     "evalue": "name 'agent' is not defined",
     "output_type": "error",
     "traceback": [
      "\u001b[1;31m---------------------------------------------------------------------------\u001b[0m",
      "\u001b[1;31mNameError\u001b[0m                                 Traceback (most recent call last)",
      "Cell \u001b[1;32mIn[47], line 1\u001b[0m\n\u001b[1;32m----> 1\u001b[0m trained_td3 \u001b[38;5;241m=\u001b[39m \u001b[43magent\u001b[49m\u001b[38;5;241m.\u001b[39mtrain_model(model\u001b[38;5;241m=\u001b[39mmodel_td3, \n\u001b[0;32m      2\u001b[0m                              tb_log_name\u001b[38;5;241m=\u001b[39m\u001b[38;5;124m'\u001b[39m\u001b[38;5;124mtd3\u001b[39m\u001b[38;5;124m'\u001b[39m,\n\u001b[0;32m      3\u001b[0m                              total_timesteps\u001b[38;5;241m=\u001b[39m\u001b[38;5;241m50000\u001b[39m) \u001b[38;5;28;01mif\u001b[39;00m if_using_td3 \u001b[38;5;28;01melse\u001b[39;00m \u001b[38;5;28;01mNone\u001b[39;00m\n",
      "\u001b[1;31mNameError\u001b[0m: name 'agent' is not defined"
     ]
    }
   ],
   "source": [
    "trained_td3 = agent.train_model(model=model_td3, \n",
    "                             tb_log_name='td3',\n",
    "                             total_timesteps=50000) if if_using_td3 else None"
   ]
  },
  {
   "cell_type": "code",
   "execution_count": null,
   "id": "93902222-3672-46b2-b507-709d244a357e",
   "metadata": {},
   "outputs": [],
   "source": [
    "trained_td3.save(TRAINED_MODEL_DIR + \"/agent_td3\") if if_using_td3 else None"
   ]
  },
  {
   "cell_type": "code",
   "execution_count": null,
   "id": "c311428e-5efd-4687-a745-e4d63c46900f",
   "metadata": {},
   "outputs": [],
   "source": [
    "df_account_value_td3, df_actions_td3 = DRLAgent.DRL_prediction(\n",
    "    model=trained_td3, \n",
    "    environment = e_trade_gym) if if_using_td3 else (None, None)"
   ]
  },
  {
   "cell_type": "code",
   "execution_count": null,
   "id": "1d9775b9-851d-44c0-a54c-690f8c72b765",
   "metadata": {},
   "outputs": [],
   "source": [
    "df_account_value_td3.tail()"
   ]
  },
  {
   "cell_type": "code",
   "execution_count": null,
   "id": "34b43d95-5126-4723-9a66-185401b80ed8",
   "metadata": {},
   "outputs": [],
   "source": [
    "df_account_value_td3, df_actions_td3 = DRLAgent.DRL_prediction(\n",
    "    model=trained_td3, \n",
    "    environment = e_trade_gym) if if_using_td3 else (None, None)"
   ]
  },
  {
   "cell_type": "code",
   "execution_count": null,
   "id": "f6da0694-1230-40db-acf7-167680a0d2e4",
   "metadata": {},
   "outputs": [],
   "source": [
    "df_account_value_td3.tail()"
   ]
  },
  {
   "cell_type": "code",
   "execution_count": null,
   "id": "d3ab2b83-c8d2-440f-8390-9d65ab4e05bc",
   "metadata": {},
   "outputs": [],
   "source": [
    "agent = DRLAgent(env = env_train)\n",
    "SAC_PARAMS = {\n",
    "    \"batch_size\": 128,\n",
    "    \"buffer_size\": 100000,\n",
    "    \"learning_rate\": 0.0001,\n",
    "    \"learning_starts\": 100,\n",
    "    \"ent_coef\": \"auto_0.1\",\n",
    "}\n",
    "\n",
    "model_sac = agent.get_model(\"sac\",model_kwargs = SAC_PARAMS)\n",
    "\n",
    "if if_using_sac:\n",
    "  # set up logger\n",
    "  tmp_path = RESULTS_DIR + '/sac'\n",
    "  new_logger_sac = configure(tmp_path, [\"stdout\", \"csv\", \"tensorboard\"])\n",
    "  # Set new logger\n",
    "  model_sac.set_logger(new_logger_sac)"
   ]
  },
  {
   "cell_type": "code",
   "execution_count": null,
   "id": "ebe25012-e974-4ff5-8edf-b1c39737f701",
   "metadata": {},
   "outputs": [],
   "source": [
    "trained_sac = agent.train_model(model=model_sac, \n",
    "                             tb_log_name='sac',\n",
    "                             total_timesteps=70000) if if_using_sac else None"
   ]
  },
  {
   "cell_type": "code",
   "execution_count": null,
   "id": "a0ff242e-6727-4bf3-90aa-4686ed16682b",
   "metadata": {},
   "outputs": [],
   "source": [
    "trained_sac.save(TRAINED_MODEL_DIR + \"/agent_sac\") if if_using_sac else None"
   ]
  },
  {
   "cell_type": "code",
   "execution_count": null,
   "id": "99fea52c-38db-42e6-ad48-a9acbece3fb7",
   "metadata": {},
   "outputs": [],
   "source": [
    "df_account_value_sac, df_actions_sac = DRLAgent.DRL_prediction(\n",
    "    model=trained_sac, \n",
    "    environment = e_trade_gym) if if_using_sac else (None, None)"
   ]
  },
  {
   "cell_type": "code",
   "execution_count": null,
   "id": "66a7eb9d-c7df-4d37-b9f4-66c9466e6b6f",
   "metadata": {},
   "outputs": [],
   "source": [
    "df_account_value_sac.tail()"
   ]
  }
 ],
 "metadata": {
  "kernelspec": {
   "display_name": "firstEnv",
   "language": "python",
   "name": "firstenv"
  },
  "language_info": {
   "codemirror_mode": {
    "name": "ipython",
    "version": 3
   },
   "file_extension": ".py",
   "mimetype": "text/x-python",
   "name": "python",
   "nbconvert_exporter": "python",
   "pygments_lexer": "ipython3",
   "version": "3.10.0"
  }
 },
 "nbformat": 4,
 "nbformat_minor": 5
}
