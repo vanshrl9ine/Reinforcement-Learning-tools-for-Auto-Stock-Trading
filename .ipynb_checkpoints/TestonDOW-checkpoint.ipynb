{
 "cells": [
  {
   "cell_type": "markdown",
   "id": "29853799-20a5-4196-b857-879d781aeb1b",
   "metadata": {},
   "source": [
    "# **_Reinforcement Learning tools for Auto-Stock Trading_**  "
   ]
  },
  {
   "cell_type": "markdown",
   "id": "7fd62e2e-2265-46d6-b8c6-d00b3214467f",
   "metadata": {},
   "source": [
    "### 1. Importing Necessary Libraries"
   ]
  },
  {
   "cell_type": "code",
   "execution_count": 76,
   "id": "5fc5a494-5c1b-4cc0-83e5-efb4c18a4fee",
   "metadata": {},
   "outputs": [
    {
     "name": "stderr",
     "output_type": "stream",
     "text": [
      "C:\\Users\\Vansh\\AppData\\Local\\Temp\\ipykernel_15136\\1738962341.py:5: MatplotlibDeprecationWarning: Auto-close()ing of figures upon backend switching is deprecated since 3.8 and will be removed two minor releases later.  To suppress this warning, explicitly call plt.close('all') first.\n",
      "  matplotlib.use('Agg')\n"
     ]
    }
   ],
   "source": [
    "#Basic Data Science Libraries\n",
    "import pandas as pd\n",
    "import numpy as np\n",
    "import matplotlib.pyplot as plt\n",
    "matplotlib.use('Agg')\n",
    "%matplotlib inline"
   ]
  },
  {
   "cell_type": "code",
   "execution_count": 2,
   "id": "a144855a-0f1b-4e2c-80a2-b2331979704f",
   "metadata": {},
   "outputs": [
    {
     "name": "stderr",
     "output_type": "stream",
     "text": [
      "C:\\Users\\Vansh\\anaconda3\\envs\\tf_gpu\\lib\\site-packages\\exchange_calendars\\exchange_calendar.py:2347: FutureWarning: 'T' is deprecated and will be removed in a future version. Please use 'min' instead of 'T'.\n",
      "  align: pd.Timedelta | str = pd.Timedelta(1, \"T\"),\n"
     ]
    }
   ],
   "source": [
    "#Finrl utilities\n",
    "from finrl import config\n",
    "from finrl.meta.preprocessor.yahoodownloader import YahooDownloader\n",
    "from finrl.meta.preprocessor.preprocessors import data_split\n",
    "from finrl.agents.stablebaselines3.models import DRLAgent"
   ]
  },
  {
   "cell_type": "code",
   "execution_count": 3,
   "id": "d37161da-a220-490f-9b67-6acfe3b850e2",
   "metadata": {},
   "outputs": [],
   "source": [
    "#Processing Utilities\n",
    "import datetime\n",
    "import itertools\n"
   ]
  },
  {
   "cell_type": "code",
   "execution_count": 4,
   "id": "16c54ce5-396f-42fb-a582-bc80abd87822",
   "metadata": {},
   "outputs": [],
   "source": [
    "#Make finrl imports accessible\n",
    "import sys\n",
    "sys.path.append(\"../FinRL-Library\")"
   ]
  },
  {
   "cell_type": "code",
   "execution_count": 5,
   "id": "5b012c6e-f473-4110-852f-de9cee7ad206",
   "metadata": {},
   "outputs": [],
   "source": [
    "#Setup libraries\n",
    "from __future__ import annotations\n",
    "#postponed evaluation of type annotations and evaluation available at runtime"
   ]
  },
  {
   "cell_type": "code",
   "execution_count": 6,
   "id": "66c72d02-9a7c-43fe-a432-6921f1d86a80",
   "metadata": {},
   "outputs": [],
   "source": [
    "#other imports will be used wherever applicable"
   ]
  },
  {
   "cell_type": "code",
   "execution_count": 7,
   "id": "1dfed73f-b71d-450e-8532-471fc33abde8",
   "metadata": {},
   "outputs": [],
   "source": [
    "#Symbols of BSE SENSEX30 whose data is to be downloaded\n",
    "# symbols = [\n",
    "#     'AXISBANK.BO', 'BAJAJ-AUTO.BO', 'BAJFINANCE.BO', 'BAJAJFINSV.BO',\n",
    "#     'BHARTIARTL.BO', 'DRREDDY.BO', 'HCLTECH.BO', 'JSWSTEEL.BO', 'HDFCBANK.BO',\n",
    "#     'HINDUNILVR.BO', 'ICICIBANK.BO', 'INDUSINDBK.BO', 'INFY.BO', 'ITC.BO',\n",
    "#     'KOTAKBANK.BO', 'LT.BO', 'M&M.BO', 'MARUTI.BO', 'NESTLEIND.BO',\n",
    "#     'NTPC.BO', 'ONGC.BO', 'POWERGRID.BO', 'RELIANCE.BO', 'SBIN.BO',\n",
    "#     'SUNPHARMA.BO', 'TCS.BO', 'TECHM.BO', 'TITAN.BO', 'ULTRACEMCO.BO','ASIANPAINT.BO'\n",
    "# ]\n"
   ]
  },
  {
   "cell_type": "code",
   "execution_count": 8,
   "id": "f09ec60f-d1f4-4b21-97a6-60fe0c7cc658",
   "metadata": {},
   "outputs": [],
   "source": [
    "#Globally accesible training and trading s/e\n",
    "TRAIN_START_DATE = '2010-01-01'\n",
    "TRAIN_END_DATE = '2020-07-01'\n",
    "TRADE_START_DATE = '2020-07-01'\n",
    "TRADE_END_DATE = '2023-05-01'"
   ]
  },
  {
   "cell_type": "code",
   "execution_count": 9,
   "id": "70746a8e-df0e-49b5-a146-21dab4e23a35",
   "metadata": {},
   "outputs": [],
   "source": [
    "#How we downloaded the data\n",
    "# df_raw = YahooDownloader(start_date = TRAIN_START_DATE,\n",
    "#                                 end_date = TRADE_END_DATE,\n",
    "#                                 ticker_list = symbols).fetch_data()"
   ]
  },
  {
   "cell_type": "markdown",
   "id": "95ecee02-4dd1-485e-8d14-f77c820c7b47",
   "metadata": {},
   "source": [
    "### 2. Loading the Data"
   ]
  },
  {
   "cell_type": "code",
   "execution_count": 10,
   "id": "47b33b42-1022-48ba-9bb4-724b1fa70c7a",
   "metadata": {},
   "outputs": [],
   "source": [
    "df_raw=pd.read_csv('datasets/dow30.csv')"
   ]
  },
  {
   "cell_type": "code",
   "execution_count": 11,
   "id": "85c5e44b-1124-4426-87de-925b8c8fff98",
   "metadata": {},
   "outputs": [
    {
     "data": {
      "text/html": [
       "<div>\n",
       "<style scoped>\n",
       "    .dataframe tbody tr th:only-of-type {\n",
       "        vertical-align: middle;\n",
       "    }\n",
       "\n",
       "    .dataframe tbody tr th {\n",
       "        vertical-align: top;\n",
       "    }\n",
       "\n",
       "    .dataframe thead th {\n",
       "        text-align: right;\n",
       "    }\n",
       "</style>\n",
       "<table border=\"1\" class=\"dataframe\">\n",
       "  <thead>\n",
       "    <tr style=\"text-align: right;\">\n",
       "      <th></th>\n",
       "      <th>Unnamed: 0</th>\n",
       "      <th>date</th>\n",
       "      <th>open</th>\n",
       "      <th>high</th>\n",
       "      <th>low</th>\n",
       "      <th>close</th>\n",
       "      <th>volume</th>\n",
       "      <th>tic</th>\n",
       "      <th>day</th>\n",
       "    </tr>\n",
       "  </thead>\n",
       "  <tbody>\n",
       "    <tr>\n",
       "      <th>0</th>\n",
       "      <td>0</td>\n",
       "      <td>2010-01-04</td>\n",
       "      <td>7.622500</td>\n",
       "      <td>7.660714</td>\n",
       "      <td>7.585000</td>\n",
       "      <td>6.470741</td>\n",
       "      <td>493729600</td>\n",
       "      <td>AAPL</td>\n",
       "      <td>0</td>\n",
       "    </tr>\n",
       "    <tr>\n",
       "      <th>1</th>\n",
       "      <td>1</td>\n",
       "      <td>2010-01-04</td>\n",
       "      <td>56.630001</td>\n",
       "      <td>57.869999</td>\n",
       "      <td>56.560001</td>\n",
       "      <td>41.493427</td>\n",
       "      <td>5277400</td>\n",
       "      <td>AMGN</td>\n",
       "      <td>0</td>\n",
       "    </tr>\n",
       "    <tr>\n",
       "      <th>2</th>\n",
       "      <td>2</td>\n",
       "      <td>2010-01-04</td>\n",
       "      <td>40.810001</td>\n",
       "      <td>41.099998</td>\n",
       "      <td>40.389999</td>\n",
       "      <td>33.090427</td>\n",
       "      <td>6894300</td>\n",
       "      <td>AXP</td>\n",
       "      <td>0</td>\n",
       "    </tr>\n",
       "    <tr>\n",
       "      <th>3</th>\n",
       "      <td>3</td>\n",
       "      <td>2010-01-04</td>\n",
       "      <td>55.720001</td>\n",
       "      <td>56.389999</td>\n",
       "      <td>54.799999</td>\n",
       "      <td>43.777550</td>\n",
       "      <td>6186700</td>\n",
       "      <td>BA</td>\n",
       "      <td>0</td>\n",
       "    </tr>\n",
       "    <tr>\n",
       "      <th>4</th>\n",
       "      <td>4</td>\n",
       "      <td>2010-01-04</td>\n",
       "      <td>57.650002</td>\n",
       "      <td>59.189999</td>\n",
       "      <td>57.509998</td>\n",
       "      <td>40.336727</td>\n",
       "      <td>7325600</td>\n",
       "      <td>CAT</td>\n",
       "      <td>0</td>\n",
       "    </tr>\n",
       "  </tbody>\n",
       "</table>\n",
       "</div>"
      ],
      "text/plain": [
       "   Unnamed: 0        date       open       high        low      close  \\\n",
       "0           0  2010-01-04   7.622500   7.660714   7.585000   6.470741   \n",
       "1           1  2010-01-04  56.630001  57.869999  56.560001  41.493427   \n",
       "2           2  2010-01-04  40.810001  41.099998  40.389999  33.090427   \n",
       "3           3  2010-01-04  55.720001  56.389999  54.799999  43.777550   \n",
       "4           4  2010-01-04  57.650002  59.189999  57.509998  40.336727   \n",
       "\n",
       "      volume   tic  day  \n",
       "0  493729600  AAPL    0  \n",
       "1    5277400  AMGN    0  \n",
       "2    6894300   AXP    0  \n",
       "3    6186700    BA    0  \n",
       "4    7325600   CAT    0  "
      ]
     },
     "execution_count": 11,
     "metadata": {},
     "output_type": "execute_result"
    }
   ],
   "source": [
    "df_raw.head()"
   ]
  },
  {
   "cell_type": "code",
   "execution_count": 12,
   "id": "19eecd6d-8e85-4f7e-a6b3-542e23cab110",
   "metadata": {
    "scrolled": true
   },
   "outputs": [
    {
     "name": "stdout",
     "output_type": "stream",
     "text": [
      "<class 'pandas.core.frame.DataFrame'>\n",
      "RangeIndex: 98273 entries, 0 to 98272\n",
      "Data columns (total 9 columns):\n",
      " #   Column      Non-Null Count  Dtype  \n",
      "---  ------      --------------  -----  \n",
      " 0   Unnamed: 0  98273 non-null  int64  \n",
      " 1   date        98273 non-null  object \n",
      " 2   open        98273 non-null  float64\n",
      " 3   high        98273 non-null  float64\n",
      " 4   low         98273 non-null  float64\n",
      " 5   close       98273 non-null  float64\n",
      " 6   volume      98273 non-null  int64  \n",
      " 7   tic         98273 non-null  object \n",
      " 8   day         98273 non-null  int64  \n",
      "dtypes: float64(4), int64(3), object(2)\n",
      "memory usage: 6.7+ MB\n"
     ]
    }
   ],
   "source": [
    "df_raw.info()"
   ]
  },
  {
   "cell_type": "markdown",
   "id": "ff3d14f0-5205-4096-a6e5-19151dc53ebc",
   "metadata": {},
   "source": [
    "### 3. Preprocessing the data"
   ]
  },
  {
   "cell_type": "code",
   "execution_count": 13,
   "id": "febd40c0-9d74-44a1-9fcf-a3b6f7b7bbd3",
   "metadata": {},
   "outputs": [
    {
     "name": "stdout",
     "output_type": "stream",
     "text": [
      "Successfully added technical indicators\n",
      "Successfully added turbulence index\n"
     ]
    }
   ],
   "source": [
    "from finrl.config import INDICATORS\n",
    "from dataprocessing import FeatureEngineer, load_dataset, data_split, convert_to_datetime\n",
    "\n",
    "fe = FeatureEngineer(use_technical_indicator=True,\n",
    "                      tech_indicator_list = INDICATORS,\n",
    "                      use_vix=False,\n",
    "                      use_turbulence=True,\n",
    "                      user_defined_feature = False)\n",
    "\n",
    "processed = fe.preprocess_data(df_raw)"
   ]
  },
  {
   "cell_type": "code",
   "execution_count": 14,
   "id": "083563ce-5668-49e3-abed-4c42a4bfa9c4",
   "metadata": {},
   "outputs": [
    {
     "data": {
      "text/html": [
       "<div>\n",
       "<style scoped>\n",
       "    .dataframe tbody tr th:only-of-type {\n",
       "        vertical-align: middle;\n",
       "    }\n",
       "\n",
       "    .dataframe tbody tr th {\n",
       "        vertical-align: top;\n",
       "    }\n",
       "\n",
       "    .dataframe thead th {\n",
       "        text-align: right;\n",
       "    }\n",
       "</style>\n",
       "<table border=\"1\" class=\"dataframe\">\n",
       "  <thead>\n",
       "    <tr style=\"text-align: right;\">\n",
       "      <th></th>\n",
       "      <th>Unnamed: 0</th>\n",
       "      <th>date</th>\n",
       "      <th>open</th>\n",
       "      <th>high</th>\n",
       "      <th>low</th>\n",
       "      <th>close</th>\n",
       "      <th>volume</th>\n",
       "      <th>tic</th>\n",
       "      <th>day</th>\n",
       "      <th>macd</th>\n",
       "      <th>boll_ub</th>\n",
       "      <th>boll_lb</th>\n",
       "      <th>rsi_30</th>\n",
       "      <th>cci_30</th>\n",
       "      <th>dx_30</th>\n",
       "      <th>close_30_sma</th>\n",
       "      <th>close_60_sma</th>\n",
       "      <th>turbulence</th>\n",
       "    </tr>\n",
       "  </thead>\n",
       "  <tbody>\n",
       "    <tr>\n",
       "      <th>0</th>\n",
       "      <td>0</td>\n",
       "      <td>2010-01-04</td>\n",
       "      <td>7.622500</td>\n",
       "      <td>7.660714</td>\n",
       "      <td>7.585000</td>\n",
       "      <td>6.470741</td>\n",
       "      <td>493729600</td>\n",
       "      <td>AAPL</td>\n",
       "      <td>0</td>\n",
       "      <td>0.000000</td>\n",
       "      <td>6.492158</td>\n",
       "      <td>6.460513</td>\n",
       "      <td>100.000000</td>\n",
       "      <td>66.666667</td>\n",
       "      <td>100.000000</td>\n",
       "      <td>6.470741</td>\n",
       "      <td>6.470741</td>\n",
       "      <td>0.000000</td>\n",
       "    </tr>\n",
       "    <tr>\n",
       "      <th>1</th>\n",
       "      <td>1</td>\n",
       "      <td>2010-01-04</td>\n",
       "      <td>56.630001</td>\n",
       "      <td>57.869999</td>\n",
       "      <td>56.560001</td>\n",
       "      <td>41.493427</td>\n",
       "      <td>5277400</td>\n",
       "      <td>AMGN</td>\n",
       "      <td>0</td>\n",
       "      <td>0.000000</td>\n",
       "      <td>6.492158</td>\n",
       "      <td>6.460513</td>\n",
       "      <td>100.000000</td>\n",
       "      <td>66.666667</td>\n",
       "      <td>100.000000</td>\n",
       "      <td>41.493427</td>\n",
       "      <td>41.493427</td>\n",
       "      <td>0.000000</td>\n",
       "    </tr>\n",
       "    <tr>\n",
       "      <th>2</th>\n",
       "      <td>2</td>\n",
       "      <td>2010-01-04</td>\n",
       "      <td>40.810001</td>\n",
       "      <td>41.099998</td>\n",
       "      <td>40.389999</td>\n",
       "      <td>33.090427</td>\n",
       "      <td>6894300</td>\n",
       "      <td>AXP</td>\n",
       "      <td>0</td>\n",
       "      <td>0.000000</td>\n",
       "      <td>6.492158</td>\n",
       "      <td>6.460513</td>\n",
       "      <td>100.000000</td>\n",
       "      <td>66.666667</td>\n",
       "      <td>100.000000</td>\n",
       "      <td>33.090427</td>\n",
       "      <td>33.090427</td>\n",
       "      <td>0.000000</td>\n",
       "    </tr>\n",
       "    <tr>\n",
       "      <th>3</th>\n",
       "      <td>3</td>\n",
       "      <td>2010-01-04</td>\n",
       "      <td>55.720001</td>\n",
       "      <td>56.389999</td>\n",
       "      <td>54.799999</td>\n",
       "      <td>43.777550</td>\n",
       "      <td>6186700</td>\n",
       "      <td>BA</td>\n",
       "      <td>0</td>\n",
       "      <td>0.000000</td>\n",
       "      <td>6.492158</td>\n",
       "      <td>6.460513</td>\n",
       "      <td>100.000000</td>\n",
       "      <td>66.666667</td>\n",
       "      <td>100.000000</td>\n",
       "      <td>43.777550</td>\n",
       "      <td>43.777550</td>\n",
       "      <td>0.000000</td>\n",
       "    </tr>\n",
       "    <tr>\n",
       "      <th>4</th>\n",
       "      <td>4</td>\n",
       "      <td>2010-01-04</td>\n",
       "      <td>57.650002</td>\n",
       "      <td>59.189999</td>\n",
       "      <td>57.509998</td>\n",
       "      <td>40.336727</td>\n",
       "      <td>7325600</td>\n",
       "      <td>CAT</td>\n",
       "      <td>0</td>\n",
       "      <td>0.000000</td>\n",
       "      <td>6.492158</td>\n",
       "      <td>6.460513</td>\n",
       "      <td>100.000000</td>\n",
       "      <td>66.666667</td>\n",
       "      <td>100.000000</td>\n",
       "      <td>40.336727</td>\n",
       "      <td>40.336727</td>\n",
       "      <td>0.000000</td>\n",
       "    </tr>\n",
       "    <tr>\n",
       "      <th>...</th>\n",
       "      <td>...</td>\n",
       "      <td>...</td>\n",
       "      <td>...</td>\n",
       "      <td>...</td>\n",
       "      <td>...</td>\n",
       "      <td>...</td>\n",
       "      <td>...</td>\n",
       "      <td>...</td>\n",
       "      <td>...</td>\n",
       "      <td>...</td>\n",
       "      <td>...</td>\n",
       "      <td>...</td>\n",
       "      <td>...</td>\n",
       "      <td>...</td>\n",
       "      <td>...</td>\n",
       "      <td>...</td>\n",
       "      <td>...</td>\n",
       "      <td>...</td>\n",
       "    </tr>\n",
       "    <tr>\n",
       "      <th>98268</th>\n",
       "      <td>98268</td>\n",
       "      <td>2023-04-28</td>\n",
       "      <td>488.690002</td>\n",
       "      <td>493.959991</td>\n",
       "      <td>488.119995</td>\n",
       "      <td>484.607697</td>\n",
       "      <td>2398400</td>\n",
       "      <td>UNH</td>\n",
       "      <td>4</td>\n",
       "      <td>0.786764</td>\n",
       "      <td>521.631214</td>\n",
       "      <td>462.288110</td>\n",
       "      <td>50.336840</td>\n",
       "      <td>1.897772</td>\n",
       "      <td>2.176653</td>\n",
       "      <td>483.541471</td>\n",
       "      <td>477.208810</td>\n",
       "      <td>16.376522</td>\n",
       "    </tr>\n",
       "    <tr>\n",
       "      <th>98269</th>\n",
       "      <td>98269</td>\n",
       "      <td>2023-04-28</td>\n",
       "      <td>228.649994</td>\n",
       "      <td>233.570007</td>\n",
       "      <td>228.059998</td>\n",
       "      <td>230.918076</td>\n",
       "      <td>11627900</td>\n",
       "      <td>V</td>\n",
       "      <td>4</td>\n",
       "      <td>2.011149</td>\n",
       "      <td>234.571334</td>\n",
       "      <td>222.464486</td>\n",
       "      <td>57.280181</td>\n",
       "      <td>66.809958</td>\n",
       "      <td>11.715616</td>\n",
       "      <td>225.404010</td>\n",
       "      <td>223.491694</td>\n",
       "      <td>16.376522</td>\n",
       "    </tr>\n",
       "    <tr>\n",
       "      <th>98270</th>\n",
       "      <td>98270</td>\n",
       "      <td>2023-04-28</td>\n",
       "      <td>38.560001</td>\n",
       "      <td>39.000000</td>\n",
       "      <td>38.459999</td>\n",
       "      <td>36.730484</td>\n",
       "      <td>19194400</td>\n",
       "      <td>VZ</td>\n",
       "      <td>4</td>\n",
       "      <td>-0.010362</td>\n",
       "      <td>38.220056</td>\n",
       "      <td>34.784002</td>\n",
       "      <td>52.962088</td>\n",
       "      <td>38.454379</td>\n",
       "      <td>5.049905</td>\n",
       "      <td>36.043551</td>\n",
       "      <td>36.149906</td>\n",
       "      <td>16.376522</td>\n",
       "    </tr>\n",
       "    <tr>\n",
       "      <th>98271</th>\n",
       "      <td>98271</td>\n",
       "      <td>2023-04-28</td>\n",
       "      <td>35.139999</td>\n",
       "      <td>35.380001</td>\n",
       "      <td>34.959999</td>\n",
       "      <td>32.945930</td>\n",
       "      <td>11878500</td>\n",
       "      <td>WBA</td>\n",
       "      <td>4</td>\n",
       "      <td>0.103479</td>\n",
       "      <td>34.054575</td>\n",
       "      <td>32.260677</td>\n",
       "      <td>50.032593</td>\n",
       "      <td>31.130480</td>\n",
       "      <td>1.197112</td>\n",
       "      <td>32.470512</td>\n",
       "      <td>32.780687</td>\n",
       "      <td>16.376522</td>\n",
       "    </tr>\n",
       "    <tr>\n",
       "      <th>98272</th>\n",
       "      <td>98272</td>\n",
       "      <td>2023-04-28</td>\n",
       "      <td>50.430000</td>\n",
       "      <td>50.723331</td>\n",
       "      <td>50.060001</td>\n",
       "      <td>49.601521</td>\n",
       "      <td>14088600</td>\n",
       "      <td>WMT</td>\n",
       "      <td>4</td>\n",
       "      <td>0.663915</td>\n",
       "      <td>50.232121</td>\n",
       "      <td>48.379523</td>\n",
       "      <td>58.933684</td>\n",
       "      <td>69.691431</td>\n",
       "      <td>32.994587</td>\n",
       "      <td>48.426069</td>\n",
       "      <td>47.380921</td>\n",
       "      <td>16.376522</td>\n",
       "    </tr>\n",
       "  </tbody>\n",
       "</table>\n",
       "<p>98273 rows × 18 columns</p>\n",
       "</div>"
      ],
      "text/plain": [
       "       Unnamed: 0        date        open        high         low       close  \\\n",
       "0               0  2010-01-04    7.622500    7.660714    7.585000    6.470741   \n",
       "1               1  2010-01-04   56.630001   57.869999   56.560001   41.493427   \n",
       "2               2  2010-01-04   40.810001   41.099998   40.389999   33.090427   \n",
       "3               3  2010-01-04   55.720001   56.389999   54.799999   43.777550   \n",
       "4               4  2010-01-04   57.650002   59.189999   57.509998   40.336727   \n",
       "...           ...         ...         ...         ...         ...         ...   \n",
       "98268       98268  2023-04-28  488.690002  493.959991  488.119995  484.607697   \n",
       "98269       98269  2023-04-28  228.649994  233.570007  228.059998  230.918076   \n",
       "98270       98270  2023-04-28   38.560001   39.000000   38.459999   36.730484   \n",
       "98271       98271  2023-04-28   35.139999   35.380001   34.959999   32.945930   \n",
       "98272       98272  2023-04-28   50.430000   50.723331   50.060001   49.601521   \n",
       "\n",
       "          volume   tic  day      macd     boll_ub     boll_lb      rsi_30  \\\n",
       "0      493729600  AAPL    0  0.000000    6.492158    6.460513  100.000000   \n",
       "1        5277400  AMGN    0  0.000000    6.492158    6.460513  100.000000   \n",
       "2        6894300   AXP    0  0.000000    6.492158    6.460513  100.000000   \n",
       "3        6186700    BA    0  0.000000    6.492158    6.460513  100.000000   \n",
       "4        7325600   CAT    0  0.000000    6.492158    6.460513  100.000000   \n",
       "...          ...   ...  ...       ...         ...         ...         ...   \n",
       "98268    2398400   UNH    4  0.786764  521.631214  462.288110   50.336840   \n",
       "98269   11627900     V    4  2.011149  234.571334  222.464486   57.280181   \n",
       "98270   19194400    VZ    4 -0.010362   38.220056   34.784002   52.962088   \n",
       "98271   11878500   WBA    4  0.103479   34.054575   32.260677   50.032593   \n",
       "98272   14088600   WMT    4  0.663915   50.232121   48.379523   58.933684   \n",
       "\n",
       "          cci_30       dx_30  close_30_sma  close_60_sma  turbulence  \n",
       "0      66.666667  100.000000      6.470741      6.470741    0.000000  \n",
       "1      66.666667  100.000000     41.493427     41.493427    0.000000  \n",
       "2      66.666667  100.000000     33.090427     33.090427    0.000000  \n",
       "3      66.666667  100.000000     43.777550     43.777550    0.000000  \n",
       "4      66.666667  100.000000     40.336727     40.336727    0.000000  \n",
       "...          ...         ...           ...           ...         ...  \n",
       "98268   1.897772    2.176653    483.541471    477.208810   16.376522  \n",
       "98269  66.809958   11.715616    225.404010    223.491694   16.376522  \n",
       "98270  38.454379    5.049905     36.043551     36.149906   16.376522  \n",
       "98271  31.130480    1.197112     32.470512     32.780687   16.376522  \n",
       "98272  69.691431   32.994587     48.426069     47.380921   16.376522  \n",
       "\n",
       "[98273 rows x 18 columns]"
      ]
     },
     "execution_count": 14,
     "metadata": {},
     "output_type": "execute_result"
    }
   ],
   "source": [
    "processed"
   ]
  },
  {
   "cell_type": "code",
   "execution_count": 15,
   "id": "b299a545-307a-4d24-a530-9c7a1e0e84c5",
   "metadata": {},
   "outputs": [],
   "source": [
    "df=processed"
   ]
  },
  {
   "cell_type": "code",
   "execution_count": 16,
   "id": "3b45789e-5f8a-4a0d-a1ba-070d4601b59a",
   "metadata": {},
   "outputs": [],
   "source": [
    "list_ticker = df[\"tic\"].unique().tolist()\n",
    "# only apply to daily level data, need to fix for minute level\n",
    "list_date = list(pd.date_range(df['date'].min(),df['date'].max()).astype(str))\n",
    "combination = list(itertools.product(list_date,list_ticker))\n",
    "\n",
    "df_full = pd.DataFrame(combination,columns=[\"date\",\"tic\"]).merge(df,on=[\"date\",\"tic\"],how=\"left\")\n",
    "df_full = df_full[df_full['date'].isin(df['date'])]\n",
    "df_full = df_full.sort_values(['date','tic'])\n",
    "df_full = df_full.fillna(1)"
   ]
  },
  {
   "cell_type": "code",
   "execution_count": 17,
   "id": "fe4ccb1a-fe6a-41e1-95fe-8a3363465c99",
   "metadata": {},
   "outputs": [
    {
     "name": "stdout",
     "output_type": "stream",
     "text": [
      "<class 'pandas.core.frame.DataFrame'>\n",
      "Index: 100590 entries, 0 to 145888\n",
      "Data columns (total 18 columns):\n",
      " #   Column        Non-Null Count   Dtype  \n",
      "---  ------        --------------   -----  \n",
      " 0   date          100590 non-null  object \n",
      " 1   tic           100590 non-null  object \n",
      " 2   Unnamed: 0    100590 non-null  float64\n",
      " 3   open          100590 non-null  float64\n",
      " 4   high          100590 non-null  float64\n",
      " 5   low           100590 non-null  float64\n",
      " 6   close         100590 non-null  float64\n",
      " 7   volume        100590 non-null  float64\n",
      " 8   day           100590 non-null  float64\n",
      " 9   macd          100590 non-null  float64\n",
      " 10  boll_ub       100590 non-null  float64\n",
      " 11  boll_lb       100590 non-null  float64\n",
      " 12  rsi_30        100590 non-null  float64\n",
      " 13  cci_30        100590 non-null  float64\n",
      " 14  dx_30         100590 non-null  float64\n",
      " 15  close_30_sma  100590 non-null  float64\n",
      " 16  close_60_sma  100590 non-null  float64\n",
      " 17  turbulence    100590 non-null  float64\n",
      "dtypes: float64(16), object(2)\n",
      "memory usage: 14.6+ MB\n"
     ]
    }
   ],
   "source": [
    "df_full.info()"
   ]
  },
  {
   "cell_type": "code",
   "execution_count": 18,
   "id": "6f2577b7-eabd-4f2c-a467-cb5584c94aaf",
   "metadata": {},
   "outputs": [],
   "source": [
    "df=df_full"
   ]
  },
  {
   "cell_type": "code",
   "execution_count": 19,
   "id": "05041644-b750-457e-81c5-29c56fc1d53d",
   "metadata": {},
   "outputs": [
    {
     "data": {
      "text/html": [
       "<div>\n",
       "<style scoped>\n",
       "    .dataframe tbody tr th:only-of-type {\n",
       "        vertical-align: middle;\n",
       "    }\n",
       "\n",
       "    .dataframe tbody tr th {\n",
       "        vertical-align: top;\n",
       "    }\n",
       "\n",
       "    .dataframe thead th {\n",
       "        text-align: right;\n",
       "    }\n",
       "</style>\n",
       "<table border=\"1\" class=\"dataframe\">\n",
       "  <thead>\n",
       "    <tr style=\"text-align: right;\">\n",
       "      <th></th>\n",
       "      <th>date</th>\n",
       "      <th>tic</th>\n",
       "      <th>Unnamed: 0</th>\n",
       "      <th>open</th>\n",
       "      <th>high</th>\n",
       "      <th>low</th>\n",
       "      <th>close</th>\n",
       "      <th>volume</th>\n",
       "      <th>day</th>\n",
       "      <th>macd</th>\n",
       "      <th>boll_ub</th>\n",
       "      <th>boll_lb</th>\n",
       "      <th>rsi_30</th>\n",
       "      <th>cci_30</th>\n",
       "      <th>dx_30</th>\n",
       "      <th>close_30_sma</th>\n",
       "      <th>close_60_sma</th>\n",
       "      <th>turbulence</th>\n",
       "    </tr>\n",
       "  </thead>\n",
       "  <tbody>\n",
       "    <tr>\n",
       "      <th>0</th>\n",
       "      <td>2010-01-04</td>\n",
       "      <td>AAPL</td>\n",
       "      <td>0.0</td>\n",
       "      <td>7.622500</td>\n",
       "      <td>7.660714</td>\n",
       "      <td>7.585000</td>\n",
       "      <td>6.470741</td>\n",
       "      <td>493729600.0</td>\n",
       "      <td>0.0</td>\n",
       "      <td>0.0</td>\n",
       "      <td>6.492158</td>\n",
       "      <td>6.460513</td>\n",
       "      <td>100.0</td>\n",
       "      <td>66.666667</td>\n",
       "      <td>100.0</td>\n",
       "      <td>6.470741</td>\n",
       "      <td>6.470741</td>\n",
       "      <td>0.0</td>\n",
       "    </tr>\n",
       "    <tr>\n",
       "      <th>1</th>\n",
       "      <td>2010-01-04</td>\n",
       "      <td>AMGN</td>\n",
       "      <td>1.0</td>\n",
       "      <td>56.630001</td>\n",
       "      <td>57.869999</td>\n",
       "      <td>56.560001</td>\n",
       "      <td>41.493427</td>\n",
       "      <td>5277400.0</td>\n",
       "      <td>0.0</td>\n",
       "      <td>0.0</td>\n",
       "      <td>6.492158</td>\n",
       "      <td>6.460513</td>\n",
       "      <td>100.0</td>\n",
       "      <td>66.666667</td>\n",
       "      <td>100.0</td>\n",
       "      <td>41.493427</td>\n",
       "      <td>41.493427</td>\n",
       "      <td>0.0</td>\n",
       "    </tr>\n",
       "    <tr>\n",
       "      <th>2</th>\n",
       "      <td>2010-01-04</td>\n",
       "      <td>AXP</td>\n",
       "      <td>2.0</td>\n",
       "      <td>40.810001</td>\n",
       "      <td>41.099998</td>\n",
       "      <td>40.389999</td>\n",
       "      <td>33.090427</td>\n",
       "      <td>6894300.0</td>\n",
       "      <td>0.0</td>\n",
       "      <td>0.0</td>\n",
       "      <td>6.492158</td>\n",
       "      <td>6.460513</td>\n",
       "      <td>100.0</td>\n",
       "      <td>66.666667</td>\n",
       "      <td>100.0</td>\n",
       "      <td>33.090427</td>\n",
       "      <td>33.090427</td>\n",
       "      <td>0.0</td>\n",
       "    </tr>\n",
       "    <tr>\n",
       "      <th>3</th>\n",
       "      <td>2010-01-04</td>\n",
       "      <td>BA</td>\n",
       "      <td>3.0</td>\n",
       "      <td>55.720001</td>\n",
       "      <td>56.389999</td>\n",
       "      <td>54.799999</td>\n",
       "      <td>43.777550</td>\n",
       "      <td>6186700.0</td>\n",
       "      <td>0.0</td>\n",
       "      <td>0.0</td>\n",
       "      <td>6.492158</td>\n",
       "      <td>6.460513</td>\n",
       "      <td>100.0</td>\n",
       "      <td>66.666667</td>\n",
       "      <td>100.0</td>\n",
       "      <td>43.777550</td>\n",
       "      <td>43.777550</td>\n",
       "      <td>0.0</td>\n",
       "    </tr>\n",
       "    <tr>\n",
       "      <th>4</th>\n",
       "      <td>2010-01-04</td>\n",
       "      <td>CAT</td>\n",
       "      <td>4.0</td>\n",
       "      <td>57.650002</td>\n",
       "      <td>59.189999</td>\n",
       "      <td>57.509998</td>\n",
       "      <td>40.336727</td>\n",
       "      <td>7325600.0</td>\n",
       "      <td>0.0</td>\n",
       "      <td>0.0</td>\n",
       "      <td>6.492158</td>\n",
       "      <td>6.460513</td>\n",
       "      <td>100.0</td>\n",
       "      <td>66.666667</td>\n",
       "      <td>100.0</td>\n",
       "      <td>40.336727</td>\n",
       "      <td>40.336727</td>\n",
       "      <td>0.0</td>\n",
       "    </tr>\n",
       "  </tbody>\n",
       "</table>\n",
       "</div>"
      ],
      "text/plain": [
       "         date   tic  Unnamed: 0       open       high        low      close  \\\n",
       "0  2010-01-04  AAPL         0.0   7.622500   7.660714   7.585000   6.470741   \n",
       "1  2010-01-04  AMGN         1.0  56.630001  57.869999  56.560001  41.493427   \n",
       "2  2010-01-04   AXP         2.0  40.810001  41.099998  40.389999  33.090427   \n",
       "3  2010-01-04    BA         3.0  55.720001  56.389999  54.799999  43.777550   \n",
       "4  2010-01-04   CAT         4.0  57.650002  59.189999  57.509998  40.336727   \n",
       "\n",
       "        volume  day  macd   boll_ub   boll_lb  rsi_30     cci_30  dx_30  \\\n",
       "0  493729600.0  0.0   0.0  6.492158  6.460513   100.0  66.666667  100.0   \n",
       "1    5277400.0  0.0   0.0  6.492158  6.460513   100.0  66.666667  100.0   \n",
       "2    6894300.0  0.0   0.0  6.492158  6.460513   100.0  66.666667  100.0   \n",
       "3    6186700.0  0.0   0.0  6.492158  6.460513   100.0  66.666667  100.0   \n",
       "4    7325600.0  0.0   0.0  6.492158  6.460513   100.0  66.666667  100.0   \n",
       "\n",
       "   close_30_sma  close_60_sma  turbulence  \n",
       "0      6.470741      6.470741         0.0  \n",
       "1     41.493427     41.493427         0.0  \n",
       "2     33.090427     33.090427         0.0  \n",
       "3     43.777550     43.777550         0.0  \n",
       "4     40.336727     40.336727         0.0  "
      ]
     },
     "execution_count": 19,
     "metadata": {},
     "output_type": "execute_result"
    }
   ],
   "source": [
    "df.head()"
   ]
  },
  {
   "cell_type": "code",
   "execution_count": 20,
   "id": "067ab770-a250-4ae6-9192-79a47e011ac0",
   "metadata": {},
   "outputs": [
    {
     "data": {
      "text/plain": [
       "(100590, 18)"
      ]
     },
     "execution_count": 20,
     "metadata": {},
     "output_type": "execute_result"
    }
   ],
   "source": [
    "df.shape"
   ]
  },
  {
   "cell_type": "code",
   "execution_count": null,
   "id": "8d8ef628-f80f-4d6d-9a2f-b626ad01064e",
   "metadata": {},
   "outputs": [],
   "source": []
  },
  {
   "cell_type": "markdown",
   "id": "2e81504d-0a4a-47c0-aeb3-ecda859ff39b",
   "metadata": {},
   "source": [
    "### 4.Splitting Training and Trading Data"
   ]
  },
  {
   "cell_type": "code",
   "execution_count": 21,
   "id": "28d66621-48cf-40ea-b98d-5b262d41fa46",
   "metadata": {},
   "outputs": [
    {
     "name": "stdout",
     "output_type": "stream",
     "text": [
      "79230\n",
      "21360\n"
     ]
    }
   ],
   "source": [
    "train = data_split(df, TRAIN_START_DATE,TRAIN_END_DATE)\n",
    "trade = data_split(df, TRADE_START_DATE,TRADE_END_DATE)\n",
    "print(len(train))\n",
    "print(len(trade))\n",
    "     "
   ]
  },
  {
   "cell_type": "code",
   "execution_count": 22,
   "id": "76538de6-2554-4a7f-b69b-7f1303363465",
   "metadata": {},
   "outputs": [],
   "source": [
    "train.to_csv('train_data.csv')\n",
    "trade.to_csv('trade_data.csv')"
   ]
  },
  {
   "cell_type": "markdown",
   "id": "e2a5484b-52c9-41ed-aa33-f6aa953ac261",
   "metadata": {},
   "source": [
    "### 5. Construction of Trading Environment"
   ]
  },
  {
   "cell_type": "code",
   "execution_count": 23,
   "id": "1c6cce40-87e6-410c-ac31-d555f17adaa1",
   "metadata": {},
   "outputs": [],
   "source": [
    "from TradingEnv import StockTradingEnv"
   ]
  },
  {
   "cell_type": "code",
   "execution_count": 24,
   "id": "da8507ba-f46f-43df-bc16-9ad39026c93d",
   "metadata": {},
   "outputs": [],
   "source": [
    "\n",
    "\n",
    "# Set the corresponding values to 'True' for the algorithms that you want to use\n",
    "if_using_a2c = True\n",
    "if_using_ddpg = True\n",
    "if_using_ppo = True\n",
    "if_using_td3 = True\n",
    "if_using_sac = True"
   ]
  },
  {
   "cell_type": "markdown",
   "id": "7f02b3a6-d4ad-4135-bb40-319f9364962e",
   "metadata": {},
   "source": [
    "### Testing A2C"
   ]
  },
  {
   "cell_type": "code",
   "execution_count": 25,
   "id": "b36e7bc5-7e93-409f-9573-3c3f01cba845",
   "metadata": {},
   "outputs": [],
   "source": [
    "from stable_baselines3 import A2C, DDPG, PPO, SAC, TD3\n",
    "\n",
    "trained_a2c = A2C.load(\"trained_models/agent_a2c\") if if_using_a2c else None"
   ]
  },
  {
   "cell_type": "code",
   "execution_count": 26,
   "id": "08afc9c2-5823-4afb-909a-7a9ab0622662",
   "metadata": {},
   "outputs": [
    {
     "name": "stdout",
     "output_type": "stream",
     "text": [
      "Stock Dimension: 30, State Space: 301\n"
     ]
    }
   ],
   "source": [
    "stock_dimension = len(trade.tic.unique())\n",
    "state_space = 1 + 2*stock_dimension + len(INDICATORS)*stock_dimension\n",
    "print(f\"Stock Dimension: {stock_dimension}, State Space: {state_space}\")"
   ]
  },
  {
   "cell_type": "code",
   "execution_count": 27,
   "id": "d4ad41c5-5076-4f57-bbc2-6649285e78a5",
   "metadata": {},
   "outputs": [],
   "source": [
    "buy_cost_list = sell_cost_list = [0.001] * stock_dimension\n",
    "num_stock_shares = [0] * stock_dimension\n",
    "\n",
    "env_kwargs = {\n",
    "    \"hmax\": 100,\n",
    "    \"initial_amount\": 100000,\n",
    "    \"num_stock_shares\": num_stock_shares,\n",
    "    \"buy_cost_pct\": buy_cost_list,\n",
    "    \"sell_cost_pct\": sell_cost_list,\n",
    "    \"state_space\": state_space,\n",
    "    \"stock_dim\": stock_dimension,\n",
    "    \"tech_indicator_list\": INDICATORS,\n",
    "    \"action_space\": stock_dimension,\n",
    "    \"reward_scaling\": 1e-4\n",
    "}"
   ]
  },
  {
   "cell_type": "code",
   "execution_count": 28,
   "id": "250d6844-a243-4255-9abf-7eb6a471cbaa",
   "metadata": {},
   "outputs": [],
   "source": [
    "e_trade_gym = StockTradingEnv(df = trade, turbulence_threshold = 70, **env_kwargs)\n",
    "env_trade, obs_trade = e_trade_gym.get_sb_env()"
   ]
  },
  {
   "cell_type": "code",
   "execution_count": 29,
   "id": "01104517-6131-43b1-aaf8-ac8fcd62f62e",
   "metadata": {},
   "outputs": [
    {
     "name": "stdout",
     "output_type": "stream",
     "text": [
      "hit end!\n"
     ]
    }
   ],
   "source": [
    "df_account_value_a2c, df_actions_a2c = DRLAgent.DRL_prediction(\n",
    "    model=trained_a2c, \n",
    "    environment = e_trade_gym) if if_using_a2c else (None, None)"
   ]
  },
  {
   "cell_type": "code",
   "execution_count": 30,
   "id": "4d4354a4-3de3-4773-b7f3-9204c8f8bb61",
   "metadata": {},
   "outputs": [
    {
     "data": {
      "text/html": [
       "<div>\n",
       "<style scoped>\n",
       "    .dataframe tbody tr th:only-of-type {\n",
       "        vertical-align: middle;\n",
       "    }\n",
       "\n",
       "    .dataframe tbody tr th {\n",
       "        vertical-align: top;\n",
       "    }\n",
       "\n",
       "    .dataframe thead th {\n",
       "        text-align: right;\n",
       "    }\n",
       "</style>\n",
       "<table border=\"1\" class=\"dataframe\">\n",
       "  <thead>\n",
       "    <tr style=\"text-align: right;\">\n",
       "      <th></th>\n",
       "      <th>date</th>\n",
       "      <th>account_value</th>\n",
       "    </tr>\n",
       "  </thead>\n",
       "  <tbody>\n",
       "    <tr>\n",
       "      <th>707</th>\n",
       "      <td>2023-04-24</td>\n",
       "      <td>110842.142310</td>\n",
       "    </tr>\n",
       "    <tr>\n",
       "      <th>708</th>\n",
       "      <td>2023-04-25</td>\n",
       "      <td>110879.366938</td>\n",
       "    </tr>\n",
       "    <tr>\n",
       "      <th>709</th>\n",
       "      <td>2023-04-26</td>\n",
       "      <td>109320.272750</td>\n",
       "    </tr>\n",
       "    <tr>\n",
       "      <th>710</th>\n",
       "      <td>2023-04-27</td>\n",
       "      <td>109210.979206</td>\n",
       "    </tr>\n",
       "    <tr>\n",
       "      <th>711</th>\n",
       "      <td>2023-04-28</td>\n",
       "      <td>109525.696601</td>\n",
       "    </tr>\n",
       "  </tbody>\n",
       "</table>\n",
       "</div>"
      ],
      "text/plain": [
       "           date  account_value\n",
       "707  2023-04-24  110842.142310\n",
       "708  2023-04-25  110879.366938\n",
       "709  2023-04-26  109320.272750\n",
       "710  2023-04-27  109210.979206\n",
       "711  2023-04-28  109525.696601"
      ]
     },
     "execution_count": 30,
     "metadata": {},
     "output_type": "execute_result"
    }
   ],
   "source": [
    "df_account_value_a2c.tail()"
   ]
  },
  {
   "cell_type": "code",
   "execution_count": 31,
   "id": "a9171c26-2e11-42dd-b243-b143a3c7e5e7",
   "metadata": {},
   "outputs": [
    {
     "name": "stderr",
     "output_type": "stream",
     "text": [
      "C:\\Users\\Vansh\\anaconda3\\envs\\tf_gpu\\lib\\site-packages\\pyfolio\\pos.py:26: UserWarning: Module \"zipline.assets\" not found; mutltipliers will not be applied to position notionals.\n",
      "  warnings.warn(\n"
     ]
    },
    {
     "name": "stdout",
     "output_type": "stream",
     "text": [
      "==============Get Backtest Results===========\n",
      "Annual return          0.032728\n",
      "Cumulative returns     0.095257\n",
      "Annual volatility      0.151529\n",
      "Sharpe ratio           0.288459\n",
      "Calmar ratio           0.256417\n",
      "Stability              0.459118\n",
      "Max drawdown          -0.127636\n",
      "Omega ratio            1.050604\n",
      "Sortino ratio          0.414264\n",
      "Skew                        NaN\n",
      "Kurtosis                    NaN\n",
      "Tail ratio             0.929860\n",
      "Daily value at risk   -0.018917\n",
      "dtype: float64\n"
     ]
    }
   ],
   "source": [
    "from finrl.plot import backtest_stats\n",
    "print(\"==============Get Backtest Results===========\")\n",
    "now = datetime.datetime.now().strftime('%Y%m%d-%Hh%M')\n",
    "\n",
    "perf_stats_all = backtest_stats(account_value=df_account_value_a2c)\n",
    "perf_stats_all = pd.DataFrame(perf_stats_all)\n"
   ]
  },
  {
   "cell_type": "markdown",
   "id": "1c673516-c782-44d4-8d3d-d541f5c16863",
   "metadata": {},
   "source": [
    "## Testing DDPG"
   ]
  },
  {
   "cell_type": "code",
   "execution_count": 32,
   "id": "f87474bc-fd6b-4afd-96bd-cd6c61434931",
   "metadata": {},
   "outputs": [
    {
     "name": "stdout",
     "output_type": "stream",
     "text": [
      "Stock Dimension: 30, State Space: 301\n"
     ]
    }
   ],
   "source": [
    "stock_dimension = len(trade.tic.unique())\n",
    "state_space = 1 + 2*stock_dimension + len(INDICATORS)*stock_dimension\n",
    "print(f\"Stock Dimension: {stock_dimension}, State Space: {state_space}\")"
   ]
  },
  {
   "cell_type": "code",
   "execution_count": 33,
   "id": "f2d5f837-0a5f-4997-a441-df89b86ebc67",
   "metadata": {},
   "outputs": [],
   "source": [
    "buy_cost_list = sell_cost_list = [0.001] * stock_dimension\n",
    "num_stock_shares = [0] * stock_dimension\n",
    "\n",
    "env_kwargs = {\n",
    "    \"hmax\": 100,\n",
    "    \"initial_amount\": 100000,\n",
    "    \"num_stock_shares\": num_stock_shares,\n",
    "    \"buy_cost_pct\": buy_cost_list,\n",
    "    \"sell_cost_pct\": sell_cost_list,\n",
    "    \"state_space\": state_space,\n",
    "    \"stock_dim\": stock_dimension,\n",
    "    \"tech_indicator_list\": INDICATORS,\n",
    "    \"action_space\": stock_dimension,\n",
    "    \"reward_scaling\": 1e-4\n",
    "}"
   ]
  },
  {
   "cell_type": "code",
   "execution_count": 34,
   "id": "ce722604-356e-4da4-aa39-7b046985f088",
   "metadata": {},
   "outputs": [],
   "source": [
    "e_trade_gym = StockTradingEnv(df = trade, turbulence_threshold = 70, **env_kwargs)\n",
    "env_trade, obs_trade = e_trade_gym.get_sb_env()"
   ]
  },
  {
   "cell_type": "code",
   "execution_count": 35,
   "id": "143d5644-d66d-4d3b-84d4-bdc38823f91d",
   "metadata": {},
   "outputs": [],
   "source": [
    "trained_ddpg = DDPG.load(\"trained_models/agent_ddpg\") if if_using_ddpg else None"
   ]
  },
  {
   "cell_type": "code",
   "execution_count": 36,
   "id": "231c819a-c423-4314-a3f5-3ad4c9e6aeac",
   "metadata": {},
   "outputs": [
    {
     "name": "stdout",
     "output_type": "stream",
     "text": [
      "hit end!\n"
     ]
    }
   ],
   "source": [
    "df_account_value_ddpg, df_actions_ddpg = DRLAgent.DRL_prediction(\n",
    "    model=trained_ddpg, \n",
    "    environment = e_trade_gym) if if_using_ddpg else (None, None)"
   ]
  },
  {
   "cell_type": "code",
   "execution_count": 37,
   "id": "65d19496-cbdd-4623-9a5b-8e4bf294c4f6",
   "metadata": {},
   "outputs": [
    {
     "data": {
      "text/html": [
       "<div>\n",
       "<style scoped>\n",
       "    .dataframe tbody tr th:only-of-type {\n",
       "        vertical-align: middle;\n",
       "    }\n",
       "\n",
       "    .dataframe tbody tr th {\n",
       "        vertical-align: top;\n",
       "    }\n",
       "\n",
       "    .dataframe thead th {\n",
       "        text-align: right;\n",
       "    }\n",
       "</style>\n",
       "<table border=\"1\" class=\"dataframe\">\n",
       "  <thead>\n",
       "    <tr style=\"text-align: right;\">\n",
       "      <th></th>\n",
       "      <th>date</th>\n",
       "      <th>account_value</th>\n",
       "    </tr>\n",
       "  </thead>\n",
       "  <tbody>\n",
       "    <tr>\n",
       "      <th>707</th>\n",
       "      <td>2023-04-24</td>\n",
       "      <td>101843.757576</td>\n",
       "    </tr>\n",
       "    <tr>\n",
       "      <th>708</th>\n",
       "      <td>2023-04-25</td>\n",
       "      <td>100610.587482</td>\n",
       "    </tr>\n",
       "    <tr>\n",
       "      <th>709</th>\n",
       "      <td>2023-04-26</td>\n",
       "      <td>99298.173313</td>\n",
       "    </tr>\n",
       "    <tr>\n",
       "      <th>710</th>\n",
       "      <td>2023-04-27</td>\n",
       "      <td>99198.894928</td>\n",
       "    </tr>\n",
       "    <tr>\n",
       "      <th>711</th>\n",
       "      <td>2023-04-28</td>\n",
       "      <td>100284.544243</td>\n",
       "    </tr>\n",
       "  </tbody>\n",
       "</table>\n",
       "</div>"
      ],
      "text/plain": [
       "           date  account_value\n",
       "707  2023-04-24  101843.757576\n",
       "708  2023-04-25  100610.587482\n",
       "709  2023-04-26   99298.173313\n",
       "710  2023-04-27   99198.894928\n",
       "711  2023-04-28  100284.544243"
      ]
     },
     "execution_count": 37,
     "metadata": {},
     "output_type": "execute_result"
    }
   ],
   "source": [
    "df_account_value_ddpg.tail()"
   ]
  },
  {
   "cell_type": "code",
   "execution_count": 38,
   "id": "2c79075c-74d7-4c2e-9c72-03292e35e66a",
   "metadata": {},
   "outputs": [
    {
     "name": "stdout",
     "output_type": "stream",
     "text": [
      "==============Get Backtest Results===========\n",
      "Annual return          0.001006\n",
      "Cumulative returns     0.002845\n",
      "Annual volatility      0.155813\n",
      "Sharpe ratio           0.084476\n",
      "Calmar ratio           0.003285\n",
      "Stability              0.213821\n",
      "Max drawdown          -0.306327\n",
      "Omega ratio            1.014669\n",
      "Sortino ratio          0.114833\n",
      "Skew                        NaN\n",
      "Kurtosis                    NaN\n",
      "Tail ratio             0.909337\n",
      "Daily value at risk   -0.019578\n",
      "dtype: float64\n"
     ]
    }
   ],
   "source": [
    "from finrl.plot import backtest_stats\n",
    "print(\"==============Get Backtest Results===========\")\n",
    "now = datetime.datetime.now().strftime('%Y%m%d-%Hh%M')\n",
    "\n",
    "perf_stats_all = backtest_stats(account_value=df_account_value_ddpg)\n",
    "perf_stats_all = pd.DataFrame(perf_stats_all)\n"
   ]
  },
  {
   "cell_type": "markdown",
   "id": "ab4ce020-10e8-4e7e-8400-add2565d0fe9",
   "metadata": {},
   "source": [
    "## Testing PPO"
   ]
  },
  {
   "cell_type": "code",
   "execution_count": 39,
   "id": "19519da8-63b5-4803-848a-3f9bd5c69e64",
   "metadata": {},
   "outputs": [
    {
     "name": "stdout",
     "output_type": "stream",
     "text": [
      "Stock Dimension: 30, State Space: 301\n"
     ]
    }
   ],
   "source": [
    "stock_dimension = len(trade.tic.unique())\n",
    "state_space = 1 + 2*stock_dimension + len(INDICATORS)*stock_dimension\n",
    "print(f\"Stock Dimension: {stock_dimension}, State Space: {state_space}\")"
   ]
  },
  {
   "cell_type": "code",
   "execution_count": 40,
   "id": "d40cf178-4bff-4987-a230-a55daee19982",
   "metadata": {},
   "outputs": [],
   "source": [
    "buy_cost_list = sell_cost_list = [0.001] * stock_dimension\n",
    "num_stock_shares = [0] * stock_dimension\n",
    "\n",
    "env_kwargs = {\n",
    "    \"hmax\": 100,\n",
    "    \"initial_amount\": 100000,\n",
    "    \"num_stock_shares\": num_stock_shares,\n",
    "    \"buy_cost_pct\": buy_cost_list,\n",
    "    \"sell_cost_pct\": sell_cost_list,\n",
    "    \"state_space\": state_space,\n",
    "    \"stock_dim\": stock_dimension,\n",
    "    \"tech_indicator_list\": INDICATORS,\n",
    "    \"action_space\": stock_dimension,\n",
    "    \"reward_scaling\": 1e-4\n",
    "}"
   ]
  },
  {
   "cell_type": "code",
   "execution_count": 41,
   "id": "853c2f10-5819-4a94-a6c5-7ab96947eb29",
   "metadata": {},
   "outputs": [],
   "source": [
    "e_trade_gym = StockTradingEnv(df = trade, turbulence_threshold = 70, **env_kwargs)\n",
    "env_trade, obs_trade = e_trade_gym.get_sb_env()"
   ]
  },
  {
   "cell_type": "code",
   "execution_count": 42,
   "id": "0344d8c4-d811-43f5-b604-330f314c591a",
   "metadata": {},
   "outputs": [],
   "source": [
    "trained_ppo = PPO.load(\"trained_models/agent_ppo\") if if_using_ppo else None"
   ]
  },
  {
   "cell_type": "code",
   "execution_count": 43,
   "id": "59bc8368-a067-41da-a3c8-c01832ad8a0f",
   "metadata": {},
   "outputs": [
    {
     "name": "stdout",
     "output_type": "stream",
     "text": [
      "hit end!\n"
     ]
    }
   ],
   "source": [
    "df_account_value_ppo, df_actions_ppo = DRLAgent.DRL_prediction(\n",
    "    model=trained_ppo, \n",
    "    environment = e_trade_gym) if if_using_ppo else (None, None)"
   ]
  },
  {
   "cell_type": "code",
   "execution_count": 44,
   "id": "c28c6817-687a-43eb-b61e-82b4133797b3",
   "metadata": {},
   "outputs": [
    {
     "data": {
      "text/html": [
       "<div>\n",
       "<style scoped>\n",
       "    .dataframe tbody tr th:only-of-type {\n",
       "        vertical-align: middle;\n",
       "    }\n",
       "\n",
       "    .dataframe tbody tr th {\n",
       "        vertical-align: top;\n",
       "    }\n",
       "\n",
       "    .dataframe thead th {\n",
       "        text-align: right;\n",
       "    }\n",
       "</style>\n",
       "<table border=\"1\" class=\"dataframe\">\n",
       "  <thead>\n",
       "    <tr style=\"text-align: right;\">\n",
       "      <th></th>\n",
       "      <th>date</th>\n",
       "      <th>account_value</th>\n",
       "    </tr>\n",
       "  </thead>\n",
       "  <tbody>\n",
       "    <tr>\n",
       "      <th>707</th>\n",
       "      <td>2023-04-24</td>\n",
       "      <td>101219.252071</td>\n",
       "    </tr>\n",
       "    <tr>\n",
       "      <th>708</th>\n",
       "      <td>2023-04-25</td>\n",
       "      <td>99842.119073</td>\n",
       "    </tr>\n",
       "    <tr>\n",
       "      <th>709</th>\n",
       "      <td>2023-04-26</td>\n",
       "      <td>100458.263584</td>\n",
       "    </tr>\n",
       "    <tr>\n",
       "      <th>710</th>\n",
       "      <td>2023-04-27</td>\n",
       "      <td>100357.814305</td>\n",
       "    </tr>\n",
       "    <tr>\n",
       "      <th>711</th>\n",
       "      <td>2023-04-28</td>\n",
       "      <td>100732.371259</td>\n",
       "    </tr>\n",
       "  </tbody>\n",
       "</table>\n",
       "</div>"
      ],
      "text/plain": [
       "           date  account_value\n",
       "707  2023-04-24  101219.252071\n",
       "708  2023-04-25   99842.119073\n",
       "709  2023-04-26  100458.263584\n",
       "710  2023-04-27  100357.814305\n",
       "711  2023-04-28  100732.371259"
      ]
     },
     "execution_count": 44,
     "metadata": {},
     "output_type": "execute_result"
    }
   ],
   "source": [
    "df_account_value_ppo.tail()"
   ]
  },
  {
   "cell_type": "code",
   "execution_count": 45,
   "id": "8d108d84-f615-4fed-9a8d-ccfb1b16916d",
   "metadata": {},
   "outputs": [
    {
     "name": "stdout",
     "output_type": "stream",
     "text": [
      "==============Get Backtest Results===========\n",
      "Annual return          0.002586\n",
      "Cumulative returns     0.007324\n",
      "Annual volatility      0.163097\n",
      "Sharpe ratio           0.097537\n",
      "Calmar ratio           0.009331\n",
      "Stability              0.103065\n",
      "Max drawdown          -0.277143\n",
      "Omega ratio            1.017387\n",
      "Sortino ratio          0.133534\n",
      "Skew                        NaN\n",
      "Kurtosis                    NaN\n",
      "Tail ratio             1.015672\n",
      "Daily value at risk   -0.020485\n",
      "dtype: float64\n"
     ]
    }
   ],
   "source": [
    "from finrl.plot import backtest_stats\n",
    "print(\"==============Get Backtest Results===========\")\n",
    "now = datetime.datetime.now().strftime('%Y%m%d-%Hh%M')\n",
    "\n",
    "perf_stats_all = backtest_stats(account_value=df_account_value_ppo)\n",
    "perf_stats_all = pd.DataFrame(perf_stats_all)\n"
   ]
  },
  {
   "cell_type": "markdown",
   "id": "0e7f5a7c-a934-438c-81ac-f63ba54fb668",
   "metadata": {},
   "source": [
    "## Testing TD3"
   ]
  },
  {
   "cell_type": "code",
   "execution_count": 46,
   "id": "ab31dd2f-3895-4042-a454-21b742475bd1",
   "metadata": {},
   "outputs": [
    {
     "name": "stdout",
     "output_type": "stream",
     "text": [
      "Stock Dimension: 30, State Space: 301\n"
     ]
    }
   ],
   "source": [
    "stock_dimension = len(trade.tic.unique())\n",
    "state_space = 1 + 2*stock_dimension + len(INDICATORS)*stock_dimension\n",
    "print(f\"Stock Dimension: {stock_dimension}, State Space: {state_space}\")"
   ]
  },
  {
   "cell_type": "code",
   "execution_count": 47,
   "id": "791d1fc1-36ae-4164-9910-a2d79c81a308",
   "metadata": {},
   "outputs": [],
   "source": [
    "buy_cost_list = sell_cost_list = [0.001] * stock_dimension\n",
    "num_stock_shares = [0] * stock_dimension\n",
    "\n",
    "env_kwargs = {\n",
    "    \"hmax\": 100,\n",
    "    \"initial_amount\": 100000,\n",
    "    \"num_stock_shares\": num_stock_shares,\n",
    "    \"buy_cost_pct\": buy_cost_list,\n",
    "    \"sell_cost_pct\": sell_cost_list,\n",
    "    \"state_space\": state_space,\n",
    "    \"stock_dim\": stock_dimension,\n",
    "    \"tech_indicator_list\": INDICATORS,\n",
    "    \"action_space\": stock_dimension,\n",
    "    \"reward_scaling\": 1e-4\n",
    "}"
   ]
  },
  {
   "cell_type": "code",
   "execution_count": 48,
   "id": "439ec20e-1e0e-4ae8-a535-26027786a792",
   "metadata": {},
   "outputs": [],
   "source": [
    "e_trade_gym = StockTradingEnv(df = trade, turbulence_threshold = 70, **env_kwargs)\n",
    "env_trade, obs_trade = e_trade_gym.get_sb_env()"
   ]
  },
  {
   "cell_type": "code",
   "execution_count": 49,
   "id": "2b431f2f-e11e-46e0-b152-85517f37d8b1",
   "metadata": {},
   "outputs": [],
   "source": [
    "trained_td3 = TD3.load(\"trained_models/agent_td3\") if if_using_td3 else None"
   ]
  },
  {
   "cell_type": "code",
   "execution_count": 50,
   "id": "c311428e-5efd-4687-a745-e4d63c46900f",
   "metadata": {},
   "outputs": [
    {
     "name": "stdout",
     "output_type": "stream",
     "text": [
      "hit end!\n"
     ]
    }
   ],
   "source": [
    "df_account_value_td3, df_actions_td3 = DRLAgent.DRL_prediction(\n",
    "    model=trained_td3, \n",
    "    environment = e_trade_gym) if if_using_td3 else (None, None)"
   ]
  },
  {
   "cell_type": "code",
   "execution_count": 51,
   "id": "1d9775b9-851d-44c0-a54c-690f8c72b765",
   "metadata": {},
   "outputs": [
    {
     "data": {
      "text/html": [
       "<div>\n",
       "<style scoped>\n",
       "    .dataframe tbody tr th:only-of-type {\n",
       "        vertical-align: middle;\n",
       "    }\n",
       "\n",
       "    .dataframe tbody tr th {\n",
       "        vertical-align: top;\n",
       "    }\n",
       "\n",
       "    .dataframe thead th {\n",
       "        text-align: right;\n",
       "    }\n",
       "</style>\n",
       "<table border=\"1\" class=\"dataframe\">\n",
       "  <thead>\n",
       "    <tr style=\"text-align: right;\">\n",
       "      <th></th>\n",
       "      <th>date</th>\n",
       "      <th>account_value</th>\n",
       "    </tr>\n",
       "  </thead>\n",
       "  <tbody>\n",
       "    <tr>\n",
       "      <th>707</th>\n",
       "      <td>2023-04-24</td>\n",
       "      <td>107259.499649</td>\n",
       "    </tr>\n",
       "    <tr>\n",
       "      <th>708</th>\n",
       "      <td>2023-04-25</td>\n",
       "      <td>105552.521927</td>\n",
       "    </tr>\n",
       "    <tr>\n",
       "      <th>709</th>\n",
       "      <td>2023-04-26</td>\n",
       "      <td>104405.525147</td>\n",
       "    </tr>\n",
       "    <tr>\n",
       "      <th>710</th>\n",
       "      <td>2023-04-27</td>\n",
       "      <td>104301.119652</td>\n",
       "    </tr>\n",
       "    <tr>\n",
       "      <th>711</th>\n",
       "      <td>2023-04-28</td>\n",
       "      <td>105293.671124</td>\n",
       "    </tr>\n",
       "  </tbody>\n",
       "</table>\n",
       "</div>"
      ],
      "text/plain": [
       "           date  account_value\n",
       "707  2023-04-24  107259.499649\n",
       "708  2023-04-25  105552.521927\n",
       "709  2023-04-26  104405.525147\n",
       "710  2023-04-27  104301.119652\n",
       "711  2023-04-28  105293.671124"
      ]
     },
     "execution_count": 51,
     "metadata": {},
     "output_type": "execute_result"
    }
   ],
   "source": [
    "df_account_value_td3.tail()"
   ]
  },
  {
   "cell_type": "code",
   "execution_count": 58,
   "id": "3d06bb22-340f-4925-8e13-62a5f2799de4",
   "metadata": {},
   "outputs": [
    {
     "name": "stdout",
     "output_type": "stream",
     "text": [
      "==============Get Backtest Results===========\n",
      "Annual return          0.018425\n",
      "Cumulative returns     0.052937\n",
      "Annual volatility      0.179811\n",
      "Sharpe ratio           0.191412\n",
      "Calmar ratio           0.060945\n",
      "Stability              0.104646\n",
      "Max drawdown          -0.302317\n",
      "Omega ratio            1.034288\n",
      "Sortino ratio          0.273838\n",
      "Skew                        NaN\n",
      "Kurtosis                    NaN\n",
      "Tail ratio             0.932473\n",
      "Daily value at risk   -0.022518\n",
      "dtype: float64\n"
     ]
    }
   ],
   "source": [
    "from finrl.plot import backtest_stats\n",
    "print(\"==============Get Backtest Results===========\")\n",
    "now = datetime.datetime.now().strftime('%Y%m%d-%Hh%M')\n",
    "\n",
    "perf_stats_all = backtest_stats(account_value=df_account_value_td3)\n",
    "perf_stats_all = pd.DataFrame(perf_stats_all)\n"
   ]
  },
  {
   "cell_type": "markdown",
   "id": "bbd752cc-ca76-4834-a5df-892611639851",
   "metadata": {},
   "source": [
    "## Testing SAC"
   ]
  },
  {
   "cell_type": "code",
   "execution_count": 52,
   "id": "fcaad4e1-fc4b-479c-8d3c-48123cf75b4a",
   "metadata": {},
   "outputs": [
    {
     "name": "stdout",
     "output_type": "stream",
     "text": [
      "Stock Dimension: 30, State Space: 301\n"
     ]
    }
   ],
   "source": [
    "stock_dimension = len(trade.tic.unique())\n",
    "state_space = 1 + 2*stock_dimension + len(INDICATORS)*stock_dimension\n",
    "print(f\"Stock Dimension: {stock_dimension}, State Space: {state_space}\")"
   ]
  },
  {
   "cell_type": "code",
   "execution_count": 53,
   "id": "abb067d7-43bd-4394-a637-8921fbb51d55",
   "metadata": {},
   "outputs": [],
   "source": [
    "buy_cost_list = sell_cost_list = [0.001] * stock_dimension\n",
    "num_stock_shares = [0] * stock_dimension\n",
    "\n",
    "env_kwargs = {\n",
    "    \"hmax\": 100,\n",
    "    \"initial_amount\": 100000,\n",
    "    \"num_stock_shares\": num_stock_shares,\n",
    "    \"buy_cost_pct\": buy_cost_list,\n",
    "    \"sell_cost_pct\": sell_cost_list,\n",
    "    \"state_space\": state_space,\n",
    "    \"stock_dim\": stock_dimension,\n",
    "    \"tech_indicator_list\": INDICATORS,\n",
    "    \"action_space\": stock_dimension,\n",
    "    \"reward_scaling\": 1e-4\n",
    "}"
   ]
  },
  {
   "cell_type": "code",
   "execution_count": 54,
   "id": "f82876d9-9e97-48fa-9486-9d82d1d54482",
   "metadata": {},
   "outputs": [],
   "source": [
    "e_trade_gym = StockTradingEnv(df = trade, turbulence_threshold = 70, **env_kwargs)\n",
    "env_trade, obs_trade = e_trade_gym.get_sb_env()"
   ]
  },
  {
   "cell_type": "code",
   "execution_count": 55,
   "id": "254b2cc5-8b75-424f-ab94-edc1b4b1e9b9",
   "metadata": {},
   "outputs": [],
   "source": [
    "trained_sac = SAC.load(\"trained_models/agent_sac\") if if_using_sac else None"
   ]
  },
  {
   "cell_type": "code",
   "execution_count": 56,
   "id": "99fea52c-38db-42e6-ad48-a9acbece3fb7",
   "metadata": {},
   "outputs": [
    {
     "name": "stdout",
     "output_type": "stream",
     "text": [
      "hit end!\n"
     ]
    }
   ],
   "source": [
    "df_account_value_sac, df_actions_sac = DRLAgent.DRL_prediction(\n",
    "    model=trained_sac, \n",
    "    environment = e_trade_gym) if if_using_sac else (None, None)"
   ]
  },
  {
   "cell_type": "code",
   "execution_count": 57,
   "id": "66a7eb9d-c7df-4d37-b9f4-66c9466e6b6f",
   "metadata": {},
   "outputs": [
    {
     "data": {
      "text/html": [
       "<div>\n",
       "<style scoped>\n",
       "    .dataframe tbody tr th:only-of-type {\n",
       "        vertical-align: middle;\n",
       "    }\n",
       "\n",
       "    .dataframe tbody tr th {\n",
       "        vertical-align: top;\n",
       "    }\n",
       "\n",
       "    .dataframe thead th {\n",
       "        text-align: right;\n",
       "    }\n",
       "</style>\n",
       "<table border=\"1\" class=\"dataframe\">\n",
       "  <thead>\n",
       "    <tr style=\"text-align: right;\">\n",
       "      <th></th>\n",
       "      <th>date</th>\n",
       "      <th>account_value</th>\n",
       "    </tr>\n",
       "  </thead>\n",
       "  <tbody>\n",
       "    <tr>\n",
       "      <th>707</th>\n",
       "      <td>2023-04-24</td>\n",
       "      <td>98049.248972</td>\n",
       "    </tr>\n",
       "    <tr>\n",
       "      <th>708</th>\n",
       "      <td>2023-04-25</td>\n",
       "      <td>97302.791655</td>\n",
       "    </tr>\n",
       "    <tr>\n",
       "      <th>709</th>\n",
       "      <td>2023-04-26</td>\n",
       "      <td>96043.393216</td>\n",
       "    </tr>\n",
       "    <tr>\n",
       "      <th>710</th>\n",
       "      <td>2023-04-27</td>\n",
       "      <td>95947.358599</td>\n",
       "    </tr>\n",
       "    <tr>\n",
       "      <th>711</th>\n",
       "      <td>2023-04-28</td>\n",
       "      <td>96418.195782</td>\n",
       "    </tr>\n",
       "  </tbody>\n",
       "</table>\n",
       "</div>"
      ],
      "text/plain": [
       "           date  account_value\n",
       "707  2023-04-24   98049.248972\n",
       "708  2023-04-25   97302.791655\n",
       "709  2023-04-26   96043.393216\n",
       "710  2023-04-27   95947.358599\n",
       "711  2023-04-28   96418.195782"
      ]
     },
     "execution_count": 57,
     "metadata": {},
     "output_type": "execute_result"
    }
   ],
   "source": [
    "df_account_value_sac.tail()"
   ]
  },
  {
   "cell_type": "code",
   "execution_count": 59,
   "id": "58cbd9fb-0955-4038-956d-a238175f4e80",
   "metadata": {},
   "outputs": [
    {
     "name": "stdout",
     "output_type": "stream",
     "text": [
      "==============Get Backtest Results===========\n",
      "Annual return         -0.012827\n",
      "Cumulative returns    -0.035818\n",
      "Annual volatility      0.135708\n",
      "Sharpe ratio          -0.027351\n",
      "Calmar ratio          -0.061953\n",
      "Stability              0.367685\n",
      "Max drawdown          -0.207042\n",
      "Omega ratio            0.995255\n",
      "Sortino ratio         -0.037261\n",
      "Skew                        NaN\n",
      "Kurtosis                    NaN\n",
      "Tail ratio             0.896503\n",
      "Daily value at risk   -0.017112\n",
      "dtype: float64\n"
     ]
    }
   ],
   "source": [
    "from finrl.plot import backtest_stats\n",
    "print(\"==============Get Backtest Results===========\")\n",
    "now = datetime.datetime.now().strftime('%Y%m%d-%Hh%M')\n",
    "\n",
    "perf_stats_all = backtest_stats(account_value=df_account_value_sac)\n",
    "perf_stats_all = pd.DataFrame(perf_stats_all)\n"
   ]
  },
  {
   "cell_type": "code",
   "execution_count": 82,
   "id": "49ce839f-f94d-4755-bd10-3c4b71021885",
   "metadata": {},
   "outputs": [],
   "source": [
    "df_result_a2c = df_account_value_a2c.set_index(df_account_value_a2c.columns[0]) if if_using_a2c else None\n",
    "df_result_ddpg = df_account_value_ddpg.set_index(df_account_value_ddpg.columns[0]) if if_using_ddpg else None\n",
    "df_result_ppo = df_account_value_ppo.set_index(df_account_value_ppo.columns[0]) if if_using_ppo else None\n",
    "df_result_td3 = df_account_value_td3.set_index(df_account_value_td3.columns[0]) if if_using_td3 else None\n",
    "df_result_sac = df_account_value_sac.set_index(df_account_value_sac.columns[0]) if if_using_sac else None\n",
    "\n",
    "result = pd.DataFrame()\n",
    "if if_using_a2c: result = pd.merge(result, df_result_a2c, how='outer', left_index=True, right_index=True)\n",
    "if if_using_ddpg: result = pd.merge(result, df_result_ddpg, how='outer', left_index=True, right_index=True, suffixes=('', '_drop'))\n",
    "if if_using_ppo: result = pd.merge(result, df_result_ppo, how='outer', left_index=True, right_index=True, suffixes=('', '_drop'))\n",
    "if if_using_td3: result = pd.merge(result, df_result_td3, how='outer', left_index=True, right_index=True, suffixes=('', '_drop'))\n",
    "if if_using_sac: result = pd.merge(result, df_result_sac, how='outer', left_index=True, right_index=True, suffixes=('', '_drop'))\n"
   ]
  },
  {
   "cell_type": "code",
   "execution_count": 83,
   "id": "ba2133ef-c0a5-400c-b59b-b87fcdfd366b",
   "metadata": {},
   "outputs": [],
   "source": [
    "col_name = []\n",
    "col_name.append('A2C') if if_using_a2c else None\n",
    "col_name.append('DDPG') if if_using_ddpg else None\n",
    "col_name.append('PPO') if if_using_ppo else None\n",
    "col_name.append('TD3') if if_using_td3 else None\n",
    "col_name.append('SAC') if if_using_sac else None\n",
    "\n",
    "result.columns = col_name"
   ]
  },
  {
   "cell_type": "code",
   "execution_count": 84,
   "id": "847f7d84-b8dc-4cfb-bac0-c617c74c9fc1",
   "metadata": {},
   "outputs": [
    {
     "data": {
      "text/html": [
       "<div>\n",
       "<style scoped>\n",
       "    .dataframe tbody tr th:only-of-type {\n",
       "        vertical-align: middle;\n",
       "    }\n",
       "\n",
       "    .dataframe tbody tr th {\n",
       "        vertical-align: top;\n",
       "    }\n",
       "\n",
       "    .dataframe thead th {\n",
       "        text-align: right;\n",
       "    }\n",
       "</style>\n",
       "<table border=\"1\" class=\"dataframe\">\n",
       "  <thead>\n",
       "    <tr style=\"text-align: right;\">\n",
       "      <th></th>\n",
       "      <th>A2C</th>\n",
       "      <th>DDPG</th>\n",
       "      <th>PPO</th>\n",
       "      <th>TD3</th>\n",
       "      <th>SAC</th>\n",
       "    </tr>\n",
       "    <tr>\n",
       "      <th>date</th>\n",
       "      <th></th>\n",
       "      <th></th>\n",
       "      <th></th>\n",
       "      <th></th>\n",
       "      <th></th>\n",
       "    </tr>\n",
       "  </thead>\n",
       "  <tbody>\n",
       "    <tr>\n",
       "      <th>2020-07-01</th>\n",
       "      <td>100000.000000</td>\n",
       "      <td>100000.000000</td>\n",
       "      <td>100000.000000</td>\n",
       "      <td>100000.000000</td>\n",
       "      <td>100000.000000</td>\n",
       "    </tr>\n",
       "    <tr>\n",
       "      <th>2020-07-02</th>\n",
       "      <td>100553.537518</td>\n",
       "      <td>100448.511780</td>\n",
       "      <td>100238.121948</td>\n",
       "      <td>100456.915400</td>\n",
       "      <td>100295.710351</td>\n",
       "    </tr>\n",
       "    <tr>\n",
       "      <th>2020-07-06</th>\n",
       "      <td>101174.261452</td>\n",
       "      <td>101611.750200</td>\n",
       "      <td>101589.787169</td>\n",
       "      <td>101742.465007</td>\n",
       "      <td>101050.040357</td>\n",
       "    </tr>\n",
       "    <tr>\n",
       "      <th>2020-07-07</th>\n",
       "      <td>99726.235364</td>\n",
       "      <td>100195.673834</td>\n",
       "      <td>99252.174355</td>\n",
       "      <td>100409.416743</td>\n",
       "      <td>100362.546173</td>\n",
       "    </tr>\n",
       "    <tr>\n",
       "      <th>2020-07-08</th>\n",
       "      <td>99819.479890</td>\n",
       "      <td>100761.002771</td>\n",
       "      <td>99884.127214</td>\n",
       "      <td>100979.152263</td>\n",
       "      <td>100371.325825</td>\n",
       "    </tr>\n",
       "    <tr>\n",
       "      <th>...</th>\n",
       "      <td>...</td>\n",
       "      <td>...</td>\n",
       "      <td>...</td>\n",
       "      <td>...</td>\n",
       "      <td>...</td>\n",
       "    </tr>\n",
       "    <tr>\n",
       "      <th>2023-04-24</th>\n",
       "      <td>110842.142310</td>\n",
       "      <td>101843.757576</td>\n",
       "      <td>101219.252071</td>\n",
       "      <td>107259.499649</td>\n",
       "      <td>98049.248972</td>\n",
       "    </tr>\n",
       "    <tr>\n",
       "      <th>2023-04-25</th>\n",
       "      <td>110879.366938</td>\n",
       "      <td>100610.587482</td>\n",
       "      <td>99842.119073</td>\n",
       "      <td>105552.521927</td>\n",
       "      <td>97302.791655</td>\n",
       "    </tr>\n",
       "    <tr>\n",
       "      <th>2023-04-26</th>\n",
       "      <td>109320.272750</td>\n",
       "      <td>99298.173313</td>\n",
       "      <td>100458.263584</td>\n",
       "      <td>104405.525147</td>\n",
       "      <td>96043.393216</td>\n",
       "    </tr>\n",
       "    <tr>\n",
       "      <th>2023-04-27</th>\n",
       "      <td>109210.979206</td>\n",
       "      <td>99198.894928</td>\n",
       "      <td>100357.814305</td>\n",
       "      <td>104301.119652</td>\n",
       "      <td>95947.358599</td>\n",
       "    </tr>\n",
       "    <tr>\n",
       "      <th>2023-04-28</th>\n",
       "      <td>109525.696601</td>\n",
       "      <td>100284.544243</td>\n",
       "      <td>100732.371259</td>\n",
       "      <td>105293.671124</td>\n",
       "      <td>96418.195782</td>\n",
       "    </tr>\n",
       "  </tbody>\n",
       "</table>\n",
       "<p>712 rows × 5 columns</p>\n",
       "</div>"
      ],
      "text/plain": [
       "                      A2C           DDPG            PPO            TD3  \\\n",
       "date                                                                     \n",
       "2020-07-01  100000.000000  100000.000000  100000.000000  100000.000000   \n",
       "2020-07-02  100553.537518  100448.511780  100238.121948  100456.915400   \n",
       "2020-07-06  101174.261452  101611.750200  101589.787169  101742.465007   \n",
       "2020-07-07   99726.235364  100195.673834   99252.174355  100409.416743   \n",
       "2020-07-08   99819.479890  100761.002771   99884.127214  100979.152263   \n",
       "...                   ...            ...            ...            ...   \n",
       "2023-04-24  110842.142310  101843.757576  101219.252071  107259.499649   \n",
       "2023-04-25  110879.366938  100610.587482   99842.119073  105552.521927   \n",
       "2023-04-26  109320.272750   99298.173313  100458.263584  104405.525147   \n",
       "2023-04-27  109210.979206   99198.894928  100357.814305  104301.119652   \n",
       "2023-04-28  109525.696601  100284.544243  100732.371259  105293.671124   \n",
       "\n",
       "                      SAC  \n",
       "date                       \n",
       "2020-07-01  100000.000000  \n",
       "2020-07-02  100295.710351  \n",
       "2020-07-06  101050.040357  \n",
       "2020-07-07  100362.546173  \n",
       "2020-07-08  100371.325825  \n",
       "...                   ...  \n",
       "2023-04-24   98049.248972  \n",
       "2023-04-25   97302.791655  \n",
       "2023-04-26   96043.393216  \n",
       "2023-04-27   95947.358599  \n",
       "2023-04-28   96418.195782  \n",
       "\n",
       "[712 rows x 5 columns]"
      ]
     },
     "execution_count": 84,
     "metadata": {},
     "output_type": "execute_result"
    }
   ],
   "source": [
    "result"
   ]
  },
  {
   "cell_type": "code",
   "execution_count": 85,
   "id": "f85cf780-d6b2-479f-a6db-1d7f2ed34347",
   "metadata": {},
   "outputs": [
    {
     "data": {
      "text/plain": [
       "<Axes: xlabel='date'>"
      ]
     },
     "execution_count": 85,
     "metadata": {},
     "output_type": "execute_result"
    },
    {
     "data": {
      "text/plain": [
       "<Figure size 1500x500 with 0 Axes>"
      ]
     },
     "metadata": {},
     "output_type": "display_data"
    },
    {
     "data": {
      "image/png": "[encoded data removed]",
      "text/plain": [
       "<Figure size 1500x500 with 1 Axes>"
      ]
     },
     "metadata": {},
     "output_type": "display_data"
    }
   ],
   "source": [
    "plt.rcParams[\"figure.figsize\"] = (15,5)\n",
    "plt.figure()\n",
    "result.plot()"
   ]
  },
  {
   "cell_type": "code",
   "execution_count": null,
   "id": "1269c3e0-7622-4451-ba47-319bc6cd0037",
   "metadata": {},
   "outputs": [],
   "source": []
  }
 ],
 "metadata": {
  "kernelspec": {
   "display_name": "firstEnv",
   "language": "python",
   "name": "firstenv"
  },
  "language_info": {
   "codemirror_mode": {
    "name": "ipython",
    "version": 3
   },
   "file_extension": ".py",
   "mimetype": "text/x-python",
   "name": "python",
   "nbconvert_exporter": "python",
   "pygments_lexer": "ipython3",
   "version": "3.10.0"
  }
 },
 "nbformat": 4,
 "nbformat_minor": 5
}
